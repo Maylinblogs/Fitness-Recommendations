{
 "cells": [
  {
   "cell_type": "code",
   "execution_count": 1,
   "outputs": [],
   "source": [
    "import pandas as pd"
   ],
   "metadata": {
    "collapsed": false,
    "ExecuteTime": {
     "end_time": "2023-12-18T21:01:59.732696700Z",
     "start_time": "2023-12-18T21:01:58.473075900Z"
    }
   },
   "id": "853e9d6195c822c2"
  },
  {
   "cell_type": "code",
   "execution_count": 2,
   "outputs": [],
   "source": [
    "df = pd.read_csv('fitness.csv', encoding='utf-8')\n"
   ],
   "metadata": {
    "collapsed": false,
    "ExecuteTime": {
     "end_time": "2023-12-18T21:02:39.839526900Z",
     "start_time": "2023-12-18T21:02:39.673175500Z"
    }
   },
   "id": "2661fa5e69f77af3"
  },
  {
   "cell_type": "code",
   "execution_count": 3,
   "outputs": [
    {
     "data": {
      "text/plain": "array([[<AxesSubplot:title={'center':'How important is exercise to you ?'}>,\n        <AxesSubplot:title={'center':'How healthy do you consider yourself?'}>]],\n      dtype=object)"
     },
     "execution_count": 3,
     "metadata": {},
     "output_type": "execute_result"
    },
    {
     "data": {
      "text/plain": "<Figure size 640x480 with 2 Axes>",
      "image/png": "[encoded data removed]"
     },
     "metadata": {},
     "output_type": "display_data"
    }
   ],
   "source": [
    "df.hist()"
   ],
   "metadata": {
    "collapsed": false,
    "ExecuteTime": {
     "end_time": "2023-12-18T21:03:11.676373800Z",
     "start_time": "2023-12-18T21:03:07.263352400Z"
    }
   },
   "id": "f659e8eb57a05088"
  },
  {
   "cell_type": "code",
   "execution_count": 348,
   "id": "initial_id",
   "metadata": {
    "collapsed": true,
    "ExecuteTime": {
     "end_time": "2023-12-17T01:34:34.496106100Z",
     "start_time": "2023-12-17T01:34:34.278679300Z"
    }
   },
   "outputs": [
    {
     "data": {
      "text/plain": "                         Timestamp  Your name  Your gender      Your age   \\\n0  2019/07/03 11:48:07 PM GMT+5:30     Parkavi       Female      19 to 25   \n1  2019/07/03 11:51:22 PM GMT+5:30    Nithilaa       Female      19 to 25   \n2  2019/07/03 11:56:28 PM GMT+5:30   Karunya v       Female      15 to 18   \n3   2019/07/04 5:43:35 AM GMT+5:30     Anusha        Female      15 to 18   \n4   2019/07/04 5:44:29 AM GMT+5:30    Nikkitha       Female      19 to 25   \n5   2019/07/04 6:23:37 AM GMT+5:30      Girija       Female  40 and above   \n6   2019/07/04 6:33:21 AM GMT+5:30  Srinivasan         Male  40 and above   \n7   2019/07/04 7:40:51 AM GMT+5:30     Ranjani       Female      15 to 18   \n8   2019/07/04 8:06:17 AM GMT+5:30    Bupesh R         Male      19 to 25   \n9   2019/07/04 8:09:02 AM GMT+5:30      Sudhan         Male      15 to 18   \n\n   How important is exercise to you ?  \\\n0                                   2   \n1                                   4   \n2                                   3   \n3                                   4   \n4                                   3   \n5                                   5   \n6                                   3   \n7                                   3   \n8                                   5   \n9                                   5   \n\n  How do you describe your current level of fitness ?  \\\n0                                               Good    \n1                                          Very good    \n2                                               Good    \n3                                               Good    \n4                                              Unfit    \n5                                            Average    \n6                                               Good    \n7                                              Unfit    \n8                                              Unfit    \n9                                          Very good    \n\n  How often do you exercise?  \\\n0                      Never   \n1                      Never   \n2        1 to 2 times a week   \n3        3 to 4 times a week   \n4                      Never   \n5        3 to 4 times a week   \n6        1 to 2 times a week   \n7                      Never   \n8        3 to 4 times a week   \n9                   Everyday   \n\n  What barriers, if any, prevent you from exercising more regularly?           (Please select all that apply)  \\\n0    I don't have enough time;I can't stay motivated                                                            \n1     I don't have enough time;I'll become too tired                                                            \n2                             I can't stay motivated                                                            \n3                           I don't have enough time                                                            \n4                             I can't stay motivated                                                            \n5              I exercise regularly with no barriers                                                            \n6                    I don't really enjoy exercising                                                            \n7  I can't stay motivated;I don't really enjoy ex...                                                            \n8  I don't have enough time;I can't stay motivate...                                                            \n9  I don't have enough time;I exercise regularly ...                                                            \n\n  What form(s) of exercise do you currently participate in ?                        (Please select all that apply)  \\\n0                            I don't really exercise                                                                 \n1                        Walking or jogging;Swimming                                                                 \n2                                 Walking or jogging                                                                 \n3             Walking or jogging;Gym;Lifting weights                                                                 \n4                            I don't really exercise                                                                 \n5                            Walking or jogging;Yoga                                                                 \n6                                 Walking or jogging                                                                 \n7                                 Walking or jogging                                                                 \n8                                     Gym;Team sport                                                                 \n9                                                Gym                                                                 \n\n  Do you exercise ___________ ?  \\\n0       I don't really exercise   \n1                  With a group   \n2                         Alone   \n3                         Alone   \n4       I don't really exercise   \n5                  With a group   \n6                         Alone   \n7                         Alone   \n8                 With a friend   \n9                 With a friend   \n\n  What time if the day do you prefer to exercise?  \\\n0                                   Early morning   \n1                                   Early morning   \n2                                   Early morning   \n3                                         Evening   \n4                                         Evening   \n5                                         Evening   \n6                                   Early morning   \n7                                   Early morning   \n8                                         Evening   \n9                                   Early morning   \n\n  How long do you spend exercising per day ?  \\\n0                    I don't really exercise   \n1                    I don't really exercise   \n2                                 30 minutes   \n3                                     1 hour   \n4                    I don't really exercise   \n5                                     1 hour   \n6                                 30 minutes   \n7                    I don't really exercise   \n8                                     1 hour   \n9                                     1 hour   \n\n  Would you say you eat a healthy balanced diet ?  \\\n0                                      Not always   \n1                                      Not always   \n2                                      Not always   \n3                                             Yes   \n4                                             Yes   \n5                                      Not always   \n6                                              No   \n7                                      Not always   \n8                                              No   \n9                                      Not always   \n\n  What prevents you from eating a healthy balanced diet, If any?                         (Please select all that apply)  \\\n0  Ease of access to fast food;Temptation and cra...                                                                      \n1  Ease of access to fast food;Temptation and cra...                                                                      \n2                            Temptation and cravings                                                                      \n3                            Temptation and cravings                                                                      \n4  Ease of access to fast food;Temptation and cra...                                                                      \n5                            Temptation and cravings                                                                      \n6                            Temptation and cravings                                                                      \n7                            Temptation and cravings                                                                      \n8                            Temptation and cravings                                                                      \n9                        Ease of access to fast food                                                                      \n\n   How healthy do you consider yourself?  \\\n0                                      3   \n1                                      4   \n2                                      4   \n3                                      4   \n4                                      4   \n5                                      3   \n6                                      3   \n7                                      2   \n8                                      2   \n9                                      3   \n\n  Have you ever recommended your friends to follow a fitness routine?  \\\n0                                                Yes                    \n1                                                Yes                    \n2                                                Yes                    \n3                                                Yes                    \n4                                                Yes                    \n5                                                Yes                    \n6                                                 No                    \n7                                                Yes                    \n8                                                Yes                    \n9                                                Yes                    \n\n  Have you ever purchased a fitness equipment?  \\\n0                                           No   \n1                                           No   \n2                                          Yes   \n3                                           No   \n4                                           No   \n5                                           No   \n6                                           No   \n7                                          Yes   \n8                                           No   \n9                                          Yes   \n\n  What motivates you to exercise?         (Please select all that applies )  \n0  I'm sorry ... I'm not really interested in exe...                         \n1  I want to be fit;I want to be flexible;I want ...                         \n2                                   I want to be fit                         \n3             I want to be fit;I want to lose weight                         \n4                                   I want to be fit                         \n5                              I want to be flexible                         \n6                              I want to be flexible                         \n7  I want to be fit;I'm sorry ... I'm not really ...                         \n8  I want to be fit;I want to increase muscle mas...                         \n9  I want to be fit;I want to lose weight;I want ...                         ",
      "text/html": "<div>\n<style scoped>\n    .dataframe tbody tr th:only-of-type {\n        vertical-align: middle;\n    }\n\n    .dataframe tbody tr th {\n        vertical-align: top;\n    }\n\n    .dataframe thead th {\n        text-align: right;\n    }\n</style>\n<table border=\"1\" class=\"dataframe\">\n  <thead>\n    <tr style=\"text-align: right;\">\n      <th></th>\n      <th>Timestamp</th>\n      <th>Your name</th>\n      <th>Your gender</th>\n      <th>Your age</th>\n      <th>How important is exercise to you ?</th>\n      <th>How do you describe your current level of fitness ?</th>\n      <th>How often do you exercise?</th>\n      <th>What barriers, if any, prevent you from exercising more regularly?           (Please select all that apply)</th>\n      <th>What form(s) of exercise do you currently participate in ?                        (Please select all that apply)</th>\n      <th>Do you exercise ___________ ?</th>\n      <th>What time if the day do you prefer to exercise?</th>\n      <th>How long do you spend exercising per day ?</th>\n      <th>Would you say you eat a healthy balanced diet ?</th>\n      <th>What prevents you from eating a healthy balanced diet, If any?                         (Please select all that apply)</th>\n      <th>How healthy do you consider yourself?</th>\n      <th>Have you ever recommended your friends to follow a fitness routine?</th>\n      <th>Have you ever purchased a fitness equipment?</th>\n      <th>What motivates you to exercise?         (Please select all that applies )</th>\n    </tr>\n  </thead>\n  <tbody>\n    <tr>\n      <th>0</th>\n      <td>2019/07/03 11:48:07 PM GMT+5:30</td>\n      <td>Parkavi</td>\n      <td>Female</td>\n      <td>19 to 25</td>\n      <td>2</td>\n      <td>Good</td>\n      <td>Never</td>\n      <td>I don't have enough time;I can't stay motivated</td>\n      <td>I don't really exercise</td>\n      <td>I don't really exercise</td>\n      <td>Early morning</td>\n      <td>I don't really exercise</td>\n      <td>Not always</td>\n      <td>Ease of access to fast food;Temptation and cra...</td>\n      <td>3</td>\n      <td>Yes</td>\n      <td>No</td>\n      <td>I'm sorry ... I'm not really interested in exe...</td>\n    </tr>\n    <tr>\n      <th>1</th>\n      <td>2019/07/03 11:51:22 PM GMT+5:30</td>\n      <td>Nithilaa</td>\n      <td>Female</td>\n      <td>19 to 25</td>\n      <td>4</td>\n      <td>Very good</td>\n      <td>Never</td>\n      <td>I don't have enough time;I'll become too tired</td>\n      <td>Walking or jogging;Swimming</td>\n      <td>With a group</td>\n      <td>Early morning</td>\n      <td>I don't really exercise</td>\n      <td>Not always</td>\n      <td>Ease of access to fast food;Temptation and cra...</td>\n      <td>4</td>\n      <td>Yes</td>\n      <td>No</td>\n      <td>I want to be fit;I want to be flexible;I want ...</td>\n    </tr>\n    <tr>\n      <th>2</th>\n      <td>2019/07/03 11:56:28 PM GMT+5:30</td>\n      <td>Karunya v</td>\n      <td>Female</td>\n      <td>15 to 18</td>\n      <td>3</td>\n      <td>Good</td>\n      <td>1 to 2 times a week</td>\n      <td>I can't stay motivated</td>\n      <td>Walking or jogging</td>\n      <td>Alone</td>\n      <td>Early morning</td>\n      <td>30 minutes</td>\n      <td>Not always</td>\n      <td>Temptation and cravings</td>\n      <td>4</td>\n      <td>Yes</td>\n      <td>Yes</td>\n      <td>I want to be fit</td>\n    </tr>\n    <tr>\n      <th>3</th>\n      <td>2019/07/04 5:43:35 AM GMT+5:30</td>\n      <td>Anusha</td>\n      <td>Female</td>\n      <td>15 to 18</td>\n      <td>4</td>\n      <td>Good</td>\n      <td>3 to 4 times a week</td>\n      <td>I don't have enough time</td>\n      <td>Walking or jogging;Gym;Lifting weights</td>\n      <td>Alone</td>\n      <td>Evening</td>\n      <td>1 hour</td>\n      <td>Yes</td>\n      <td>Temptation and cravings</td>\n      <td>4</td>\n      <td>Yes</td>\n      <td>No</td>\n      <td>I want to be fit;I want to lose weight</td>\n    </tr>\n    <tr>\n      <th>4</th>\n      <td>2019/07/04 5:44:29 AM GMT+5:30</td>\n      <td>Nikkitha</td>\n      <td>Female</td>\n      <td>19 to 25</td>\n      <td>3</td>\n      <td>Unfit</td>\n      <td>Never</td>\n      <td>I can't stay motivated</td>\n      <td>I don't really exercise</td>\n      <td>I don't really exercise</td>\n      <td>Evening</td>\n      <td>I don't really exercise</td>\n      <td>Yes</td>\n      <td>Ease of access to fast food;Temptation and cra...</td>\n      <td>4</td>\n      <td>Yes</td>\n      <td>No</td>\n      <td>I want to be fit</td>\n    </tr>\n    <tr>\n      <th>5</th>\n      <td>2019/07/04 6:23:37 AM GMT+5:30</td>\n      <td>Girija</td>\n      <td>Female</td>\n      <td>40 and above</td>\n      <td>5</td>\n      <td>Average</td>\n      <td>3 to 4 times a week</td>\n      <td>I exercise regularly with no barriers</td>\n      <td>Walking or jogging;Yoga</td>\n      <td>With a group</td>\n      <td>Evening</td>\n      <td>1 hour</td>\n      <td>Not always</td>\n      <td>Temptation and cravings</td>\n      <td>3</td>\n      <td>Yes</td>\n      <td>No</td>\n      <td>I want to be flexible</td>\n    </tr>\n    <tr>\n      <th>6</th>\n      <td>2019/07/04 6:33:21 AM GMT+5:30</td>\n      <td>Srinivasan</td>\n      <td>Male</td>\n      <td>40 and above</td>\n      <td>3</td>\n      <td>Good</td>\n      <td>1 to 2 times a week</td>\n      <td>I don't really enjoy exercising</td>\n      <td>Walking or jogging</td>\n      <td>Alone</td>\n      <td>Early morning</td>\n      <td>30 minutes</td>\n      <td>No</td>\n      <td>Temptation and cravings</td>\n      <td>3</td>\n      <td>No</td>\n      <td>No</td>\n      <td>I want to be flexible</td>\n    </tr>\n    <tr>\n      <th>7</th>\n      <td>2019/07/04 7:40:51 AM GMT+5:30</td>\n      <td>Ranjani</td>\n      <td>Female</td>\n      <td>15 to 18</td>\n      <td>3</td>\n      <td>Unfit</td>\n      <td>Never</td>\n      <td>I can't stay motivated;I don't really enjoy ex...</td>\n      <td>Walking or jogging</td>\n      <td>Alone</td>\n      <td>Early morning</td>\n      <td>I don't really exercise</td>\n      <td>Not always</td>\n      <td>Temptation and cravings</td>\n      <td>2</td>\n      <td>Yes</td>\n      <td>Yes</td>\n      <td>I want to be fit;I'm sorry ... I'm not really ...</td>\n    </tr>\n    <tr>\n      <th>8</th>\n      <td>2019/07/04 8:06:17 AM GMT+5:30</td>\n      <td>Bupesh R</td>\n      <td>Male</td>\n      <td>19 to 25</td>\n      <td>5</td>\n      <td>Unfit</td>\n      <td>3 to 4 times a week</td>\n      <td>I don't have enough time;I can't stay motivate...</td>\n      <td>Gym;Team sport</td>\n      <td>With a friend</td>\n      <td>Evening</td>\n      <td>1 hour</td>\n      <td>No</td>\n      <td>Temptation and cravings</td>\n      <td>2</td>\n      <td>Yes</td>\n      <td>No</td>\n      <td>I want to be fit;I want to increase muscle mas...</td>\n    </tr>\n    <tr>\n      <th>9</th>\n      <td>2019/07/04 8:09:02 AM GMT+5:30</td>\n      <td>Sudhan</td>\n      <td>Male</td>\n      <td>15 to 18</td>\n      <td>5</td>\n      <td>Very good</td>\n      <td>Everyday</td>\n      <td>I don't have enough time;I exercise regularly ...</td>\n      <td>Gym</td>\n      <td>With a friend</td>\n      <td>Early morning</td>\n      <td>1 hour</td>\n      <td>Not always</td>\n      <td>Ease of access to fast food</td>\n      <td>3</td>\n      <td>Yes</td>\n      <td>Yes</td>\n      <td>I want to be fit;I want to lose weight;I want ...</td>\n    </tr>\n  </tbody>\n</table>\n</div>"
     },
     "execution_count": 348,
     "metadata": {},
     "output_type": "execute_result"
    }
   ],
   "source": [
    "df.head(10)"
   ]
  },
  {
   "cell_type": "code",
   "execution_count": 349,
   "outputs": [
    {
     "data": {
      "text/plain": "Index(['Timestamp', 'Your name ', 'Your gender ', 'Your age ',\n       'How important is exercise to you ?',\n       'How do you describe your current level of fitness ?',\n       'How often do you exercise?',\n       'What barriers, if any, prevent you from exercising more regularly?           (Please select all that apply)',\n       'What form(s) of exercise do you currently participate in ?                        (Please select all that apply)',\n       'Do you exercise ___________ ?',\n       'What time if the day do you prefer to exercise?',\n       'How long do you spend exercising per day ?',\n       'Would you say you eat a healthy balanced diet ?',\n       'What prevents you from eating a healthy balanced diet, If any?                         (Please select all that apply)',\n       'How healthy do you consider yourself?',\n       'Have you ever recommended your friends to follow a fitness routine?',\n       'Have you ever purchased a fitness equipment?',\n       'What motivates you to exercise?         (Please select all that applies )'],\n      dtype='object')"
     },
     "execution_count": 349,
     "metadata": {},
     "output_type": "execute_result"
    }
   ],
   "source": [
    "df.columns"
   ],
   "metadata": {
    "collapsed": false,
    "ExecuteTime": {
     "end_time": "2023-12-17T01:34:35.179213400Z",
     "start_time": "2023-12-17T01:34:34.933400300Z"
    }
   },
   "id": "f6102b48efb36dcd"
  },
  {
   "cell_type": "code",
   "execution_count": 158,
   "outputs": [],
   "source": [],
   "metadata": {
    "collapsed": false,
    "ExecuteTime": {
     "end_time": "2023-12-17T00:20:28.885766Z",
     "start_time": "2023-12-17T00:20:28.801762800Z"
    }
   },
   "id": "1d75cefef79de85d"
  },
  {
   "cell_type": "code",
   "execution_count": 350,
   "outputs": [],
   "source": [
    "df2 = pd.read_csv('patient_data.csv', encoding='utf-8')"
   ],
   "metadata": {
    "collapsed": false,
    "ExecuteTime": {
     "end_time": "2023-12-17T01:34:39.820581800Z",
     "start_time": "2023-12-17T01:34:39.698498300Z"
    }
   },
   "id": "f2a75dcb7ff7a504"
  },
  {
   "cell_type": "code",
   "execution_count": 160,
   "outputs": [
    {
     "data": {
      "text/plain": "   Age  Weight   Sex Exercise_Frequency Time_Preference Exercise_Duration  \\\n0   44    44.0  male          every_day   Early morning            30_min   \n\n  Healthy_Diet Diet_Barriers Exercise_Motivation      Exercise_Preference  \n0          yes  lack_of_time      relieve_stress  ['alone', 'with_group']  ",
      "text/html": "<div>\n<style scoped>\n    .dataframe tbody tr th:only-of-type {\n        vertical-align: middle;\n    }\n\n    .dataframe tbody tr th {\n        vertical-align: top;\n    }\n\n    .dataframe thead th {\n        text-align: right;\n    }\n</style>\n<table border=\"1\" class=\"dataframe\">\n  <thead>\n    <tr style=\"text-align: right;\">\n      <th></th>\n      <th>Age</th>\n      <th>Weight</th>\n      <th>Sex</th>\n      <th>Exercise_Frequency</th>\n      <th>Time_Preference</th>\n      <th>Exercise_Duration</th>\n      <th>Healthy_Diet</th>\n      <th>Diet_Barriers</th>\n      <th>Exercise_Motivation</th>\n      <th>Exercise_Preference</th>\n    </tr>\n  </thead>\n  <tbody>\n    <tr>\n      <th>0</th>\n      <td>44</td>\n      <td>44.0</td>\n      <td>male</td>\n      <td>every_day</td>\n      <td>Early morning</td>\n      <td>30_min</td>\n      <td>yes</td>\n      <td>lack_of_time</td>\n      <td>relieve_stress</td>\n      <td>['alone', 'with_group']</td>\n    </tr>\n  </tbody>\n</table>\n</div>"
     },
     "execution_count": 160,
     "metadata": {},
     "output_type": "execute_result"
    }
   ],
   "source": [
    "df2.head()"
   ],
   "metadata": {
    "collapsed": false,
    "ExecuteTime": {
     "end_time": "2023-12-17T00:20:29.523214100Z",
     "start_time": "2023-12-17T00:20:29.475213500Z"
    }
   },
   "id": "90f8e962c985086b"
  },
  {
   "cell_type": "code",
   "execution_count": 161,
   "outputs": [
    {
     "data": {
      "text/plain": "Index(['Age', 'Weight', 'Sex', 'Exercise_Frequency', 'Time_Preference',\n       'Exercise_Duration', 'Healthy_Diet', 'Diet_Barriers',\n       'Exercise_Motivation', 'Exercise_Preference'],\n      dtype='object')"
     },
     "execution_count": 161,
     "metadata": {},
     "output_type": "execute_result"
    }
   ],
   "source": [
    "df2.columns"
   ],
   "metadata": {
    "collapsed": false,
    "ExecuteTime": {
     "end_time": "2023-12-17T00:20:29.887244800Z",
     "start_time": "2023-12-17T00:20:29.853249700Z"
    }
   },
   "id": "14a1f0f414a5aed5"
  },
  {
   "cell_type": "code",
   "execution_count": 4,
   "outputs": [],
   "source": [
    "column_mapping = {\n",
    "    'Your age ': 'Age',\n",
    "    'Your gender ': 'Sex',\n",
    "    'How often do you exercise?': 'Exercise_Frequency',\n",
    "    'What time if the day do you prefer to exercise?': 'Time_Preference',\n",
    "    'How long do you spend exercising per day ?': 'Exercise_Duration',\n",
    "    'Would you say you eat a healthy balanced diet ?': 'Healthy_Diet',\n",
    "    'What prevents you from eating a healthy balanced diet, If any?                         (Please select all that apply)': 'Diet_Barriers',\n",
    "    'What motivates you to exercise?         (Please select all that applies )': 'Exercise_Motivation',\n",
    "    'What form(s) of exercise do you currently participate in ?                        (Please select all that apply)': 'Exercise_Preference',\n",
    "    'How do you describe your current level of fitness ?':'Score'\n",
    "    # Add more mappings as needed\n",
    "}"
   ],
   "metadata": {
    "collapsed": false,
    "ExecuteTime": {
     "end_time": "2023-12-18T21:03:55.883408100Z",
     "start_time": "2023-12-18T21:03:55.836797500Z"
    }
   },
   "id": "e6c8a04c15a8fada"
  },
  {
   "cell_type": "code",
   "execution_count": 5,
   "outputs": [],
   "source": [
    "df.rename(columns=column_mapping, inplace=True)"
   ],
   "metadata": {
    "collapsed": false,
    "ExecuteTime": {
     "end_time": "2023-12-18T21:03:59.812362900Z",
     "start_time": "2023-12-18T21:03:59.730461400Z"
    }
   },
   "id": "cae37939e7fbd7b7"
  },
  {
   "cell_type": "code",
   "execution_count": 6,
   "outputs": [],
   "source": [
    "columns_to_keep = list(column_mapping.values())\n",
    "columns_to_keep.append('Weight')"
   ],
   "metadata": {
    "collapsed": false,
    "ExecuteTime": {
     "end_time": "2023-12-18T21:04:01.712744800Z",
     "start_time": "2023-12-18T21:04:01.648300800Z"
    }
   },
   "id": "3e28d399005956e0"
  },
  {
   "cell_type": "code",
   "execution_count": 353,
   "outputs": [],
   "source": [],
   "metadata": {
    "collapsed": false,
    "ExecuteTime": {
     "end_time": "2023-12-17T01:34:47.112545Z",
     "start_time": "2023-12-17T01:34:46.927169100Z"
    }
   },
   "id": "cd328c4ad67d8405"
  },
  {
   "cell_type": "code",
   "execution_count": 354,
   "outputs": [
    {
     "data": {
      "text/plain": "                         Timestamp Your name      Sex       Age  \\\n0  2019/07/03 11:48:07 PM GMT+5:30    Parkavi  Female  19 to 25   \n1  2019/07/03 11:51:22 PM GMT+5:30   Nithilaa  Female  19 to 25   \n2  2019/07/03 11:56:28 PM GMT+5:30  Karunya v  Female  15 to 18   \n3   2019/07/04 5:43:35 AM GMT+5:30    Anusha   Female  15 to 18   \n4   2019/07/04 5:44:29 AM GMT+5:30   Nikkitha  Female  19 to 25   \n\n   How important is exercise to you ?      Score   Exercise_Frequency  \\\n0                                   2       Good                Never   \n1                                   4  Very good                Never   \n2                                   3       Good  1 to 2 times a week   \n3                                   4       Good  3 to 4 times a week   \n4                                   3      Unfit                Never   \n\n  What barriers, if any, prevent you from exercising more regularly?           (Please select all that apply)  \\\n0    I don't have enough time;I can't stay motivated                                                            \n1     I don't have enough time;I'll become too tired                                                            \n2                             I can't stay motivated                                                            \n3                           I don't have enough time                                                            \n4                             I can't stay motivated                                                            \n\n                      Exercise_Preference Do you exercise ___________ ?  \\\n0                 I don't really exercise       I don't really exercise   \n1             Walking or jogging;Swimming                  With a group   \n2                      Walking or jogging                         Alone   \n3  Walking or jogging;Gym;Lifting weights                         Alone   \n4                 I don't really exercise       I don't really exercise   \n\n  Time_Preference        Exercise_Duration Healthy_Diet  \\\n0   Early morning  I don't really exercise   Not always   \n1   Early morning  I don't really exercise   Not always   \n2   Early morning               30 minutes   Not always   \n3         Evening                   1 hour          Yes   \n4         Evening  I don't really exercise          Yes   \n\n                                       Diet_Barriers  \\\n0  Ease of access to fast food;Temptation and cra...   \n1  Ease of access to fast food;Temptation and cra...   \n2                            Temptation and cravings   \n3                            Temptation and cravings   \n4  Ease of access to fast food;Temptation and cra...   \n\n   How healthy do you consider yourself?  \\\n0                                      3   \n1                                      4   \n2                                      4   \n3                                      4   \n4                                      4   \n\n  Have you ever recommended your friends to follow a fitness routine?  \\\n0                                                Yes                    \n1                                                Yes                    \n2                                                Yes                    \n3                                                Yes                    \n4                                                Yes                    \n\n  Have you ever purchased a fitness equipment?  \\\n0                                           No   \n1                                           No   \n2                                          Yes   \n3                                           No   \n4                                           No   \n\n                                 Exercise_Motivation  \n0  I'm sorry ... I'm not really interested in exe...  \n1  I want to be fit;I want to be flexible;I want ...  \n2                                   I want to be fit  \n3             I want to be fit;I want to lose weight  \n4                                   I want to be fit  ",
      "text/html": "<div>\n<style scoped>\n    .dataframe tbody tr th:only-of-type {\n        vertical-align: middle;\n    }\n\n    .dataframe tbody tr th {\n        vertical-align: top;\n    }\n\n    .dataframe thead th {\n        text-align: right;\n    }\n</style>\n<table border=\"1\" class=\"dataframe\">\n  <thead>\n    <tr style=\"text-align: right;\">\n      <th></th>\n      <th>Timestamp</th>\n      <th>Your name</th>\n      <th>Sex</th>\n      <th>Age</th>\n      <th>How important is exercise to you ?</th>\n      <th>Score</th>\n      <th>Exercise_Frequency</th>\n      <th>What barriers, if any, prevent you from exercising more regularly?           (Please select all that apply)</th>\n      <th>Exercise_Preference</th>\n      <th>Do you exercise ___________ ?</th>\n      <th>Time_Preference</th>\n      <th>Exercise_Duration</th>\n      <th>Healthy_Diet</th>\n      <th>Diet_Barriers</th>\n      <th>How healthy do you consider yourself?</th>\n      <th>Have you ever recommended your friends to follow a fitness routine?</th>\n      <th>Have you ever purchased a fitness equipment?</th>\n      <th>Exercise_Motivation</th>\n    </tr>\n  </thead>\n  <tbody>\n    <tr>\n      <th>0</th>\n      <td>2019/07/03 11:48:07 PM GMT+5:30</td>\n      <td>Parkavi</td>\n      <td>Female</td>\n      <td>19 to 25</td>\n      <td>2</td>\n      <td>Good</td>\n      <td>Never</td>\n      <td>I don't have enough time;I can't stay motivated</td>\n      <td>I don't really exercise</td>\n      <td>I don't really exercise</td>\n      <td>Early morning</td>\n      <td>I don't really exercise</td>\n      <td>Not always</td>\n      <td>Ease of access to fast food;Temptation and cra...</td>\n      <td>3</td>\n      <td>Yes</td>\n      <td>No</td>\n      <td>I'm sorry ... I'm not really interested in exe...</td>\n    </tr>\n    <tr>\n      <th>1</th>\n      <td>2019/07/03 11:51:22 PM GMT+5:30</td>\n      <td>Nithilaa</td>\n      <td>Female</td>\n      <td>19 to 25</td>\n      <td>4</td>\n      <td>Very good</td>\n      <td>Never</td>\n      <td>I don't have enough time;I'll become too tired</td>\n      <td>Walking or jogging;Swimming</td>\n      <td>With a group</td>\n      <td>Early morning</td>\n      <td>I don't really exercise</td>\n      <td>Not always</td>\n      <td>Ease of access to fast food;Temptation and cra...</td>\n      <td>4</td>\n      <td>Yes</td>\n      <td>No</td>\n      <td>I want to be fit;I want to be flexible;I want ...</td>\n    </tr>\n    <tr>\n      <th>2</th>\n      <td>2019/07/03 11:56:28 PM GMT+5:30</td>\n      <td>Karunya v</td>\n      <td>Female</td>\n      <td>15 to 18</td>\n      <td>3</td>\n      <td>Good</td>\n      <td>1 to 2 times a week</td>\n      <td>I can't stay motivated</td>\n      <td>Walking or jogging</td>\n      <td>Alone</td>\n      <td>Early morning</td>\n      <td>30 minutes</td>\n      <td>Not always</td>\n      <td>Temptation and cravings</td>\n      <td>4</td>\n      <td>Yes</td>\n      <td>Yes</td>\n      <td>I want to be fit</td>\n    </tr>\n    <tr>\n      <th>3</th>\n      <td>2019/07/04 5:43:35 AM GMT+5:30</td>\n      <td>Anusha</td>\n      <td>Female</td>\n      <td>15 to 18</td>\n      <td>4</td>\n      <td>Good</td>\n      <td>3 to 4 times a week</td>\n      <td>I don't have enough time</td>\n      <td>Walking or jogging;Gym;Lifting weights</td>\n      <td>Alone</td>\n      <td>Evening</td>\n      <td>1 hour</td>\n      <td>Yes</td>\n      <td>Temptation and cravings</td>\n      <td>4</td>\n      <td>Yes</td>\n      <td>No</td>\n      <td>I want to be fit;I want to lose weight</td>\n    </tr>\n    <tr>\n      <th>4</th>\n      <td>2019/07/04 5:44:29 AM GMT+5:30</td>\n      <td>Nikkitha</td>\n      <td>Female</td>\n      <td>19 to 25</td>\n      <td>3</td>\n      <td>Unfit</td>\n      <td>Never</td>\n      <td>I can't stay motivated</td>\n      <td>I don't really exercise</td>\n      <td>I don't really exercise</td>\n      <td>Evening</td>\n      <td>I don't really exercise</td>\n      <td>Yes</td>\n      <td>Ease of access to fast food;Temptation and cra...</td>\n      <td>4</td>\n      <td>Yes</td>\n      <td>No</td>\n      <td>I want to be fit</td>\n    </tr>\n  </tbody>\n</table>\n</div>"
     },
     "execution_count": 354,
     "metadata": {},
     "output_type": "execute_result"
    }
   ],
   "source": [
    "df.head()"
   ],
   "metadata": {
    "collapsed": false,
    "ExecuteTime": {
     "end_time": "2023-12-17T01:34:47.760433Z",
     "start_time": "2023-12-17T01:34:47.509094500Z"
    }
   },
   "id": "abf1f45bf533b8fd"
  },
  {
   "cell_type": "code",
   "execution_count": 7,
   "outputs": [],
   "source": [
    "columns_to_keep = list(column_mapping.values())\n",
    "\n",
    "# Drop columns not in the list of columns to keep\n",
    "df = df[columns_to_keep]"
   ],
   "metadata": {
    "collapsed": false,
    "ExecuteTime": {
     "end_time": "2023-12-18T21:04:04.812819100Z",
     "start_time": "2023-12-18T21:04:04.784512700Z"
    }
   },
   "id": "107ee64590ea4cd4"
  },
  {
   "cell_type": "code",
   "execution_count": 12,
   "outputs": [],
   "source": [
    "df_features = df.copy()"
   ],
   "metadata": {
    "collapsed": false,
    "ExecuteTime": {
     "end_time": "2023-12-18T21:04:33.482664700Z",
     "start_time": "2023-12-18T21:04:33.402288400Z"
    }
   },
   "id": "f64b6984fff052b6"
  },
  {
   "cell_type": "code",
   "execution_count": 13,
   "outputs": [],
   "source": [
    "motivations = [\n",
    "    'I want to be fit',\n",
    "    'I want to increase muscle mass and strength',\n",
    "    'I want to lose weight',\n",
    "    'I want to be flexible',\n",
    "    'I want to relieve stress',\n",
    "    'I want to achieve a sporting goal',\n",
    "    \"I'm not really interested in exercising\"\n",
    "]\n",
    "\n",
    "for motivation in motivations:\n",
    "    column_name = motivation.replace(' ', '_').lower()  # Convert to lowercase and replace spaces with underscores\n",
    "    df_features[column_name] = df['Exercise_Motivation'].str.contains(motivation).astype(int)\n"
   ],
   "metadata": {
    "collapsed": false,
    "ExecuteTime": {
     "end_time": "2023-12-18T21:04:35.684128200Z",
     "start_time": "2023-12-18T21:04:35.570476700Z"
    }
   },
   "id": "adb42215ca2d99ed"
  },
  {
   "cell_type": "code",
   "execution_count": 14,
   "outputs": [
    {
     "data": {
      "text/plain": "             Age     Sex   Exercise_Frequency Time_Preference  \\\n0       19 to 25  Female                Never   Early morning   \n1       19 to 25  Female                Never   Early morning   \n2       15 to 18  Female  1 to 2 times a week   Early morning   \n3       15 to 18  Female  3 to 4 times a week         Evening   \n4       19 to 25  Female                Never         Evening   \n5   40 and above  Female  3 to 4 times a week         Evening   \n6   40 and above    Male  1 to 2 times a week   Early morning   \n7       15 to 18  Female                Never   Early morning   \n8       19 to 25    Male  3 to 4 times a week         Evening   \n9       15 to 18    Male             Everyday   Early morning   \n10      15 to 18    Male  3 to 4 times a week   Early morning   \n11      19 to 25    Male  3 to 4 times a week   Early morning   \n12      15 to 18    Male                Never         Evening   \n13      15 to 18  Female  1 to 2 times a week         Evening   \n14      19 to 25    Male  1 to 2 times a week         Evening   \n15      15 to 18  Female             Everyday   Early morning   \n16      15 to 18    Male                Never         Evening   \n17      15 to 18    Male  1 to 2 times a week   Early morning   \n18      19 to 25    Male                Never   Early morning   \n19      15 to 18    Male             Everyday   Early morning   \n\n          Exercise_Duration Healthy_Diet  \\\n0   I don't really exercise   Not always   \n1   I don't really exercise   Not always   \n2                30 minutes   Not always   \n3                    1 hour          Yes   \n4   I don't really exercise          Yes   \n5                    1 hour   Not always   \n6                30 minutes           No   \n7   I don't really exercise   Not always   \n8                    1 hour           No   \n9                    1 hour   Not always   \n10                   1 hour          Yes   \n11                  2 hours           No   \n12  I don't really exercise           No   \n13               30 minutes   Not always   \n14               30 minutes           No   \n15               30 minutes   Not always   \n16  I don't really exercise   Not always   \n17                   1 hour   Not always   \n18                   1 hour   Not always   \n19               30 minutes   Not always   \n\n                                        Diet_Barriers  \\\n0   Ease of access to fast food;Temptation and cra...   \n1   Ease of access to fast food;Temptation and cra...   \n2                             Temptation and cravings   \n3                             Temptation and cravings   \n4   Ease of access to fast food;Temptation and cra...   \n5                             Temptation and cravings   \n6                             Temptation and cravings   \n7                             Temptation and cravings   \n8                             Temptation and cravings   \n9                         Ease of access to fast food   \n10                                       Lack of time   \n11                            Temptation and cravings   \n12                            Temptation and cravings   \n13                            Temptation and cravings   \n14  Ease of access to fast food;Temptation and cra...   \n15                   Cost;Ease of access to fast food   \n16           Lack of time;Ease of access to fast food   \n17                            Temptation and cravings   \n18                            Temptation and cravings   \n19                            Temptation and cravings   \n\n                                  Exercise_Motivation  \\\n0   I'm sorry ... I'm not really interested in exe...   \n1   I want to be fit;I want to be flexible;I want ...   \n2                                    I want to be fit   \n3              I want to be fit;I want to lose weight   \n4                                    I want to be fit   \n5                               I want to be flexible   \n6                               I want to be flexible   \n7   I want to be fit;I'm sorry ... I'm not really ...   \n8   I want to be fit;I want to increase muscle mas...   \n9   I want to be fit;I want to lose weight;I want ...   \n10                                   I want to be fit   \n11  I want to be fit;I want to increase muscle mas...   \n12  I want to be fit;I want to increase muscle mas...   \n13             I want to be fit;I want to lose weight   \n14  I want to be fit;I want to increase muscle mas...   \n15                           I want to relieve stress   \n16  I want to relieve stress;I'm sorry ... I'm not...   \n17        I want to increase muscle mass and strength   \n18  I want to be fit;I want to increase muscle mas...   \n19  I want to increase muscle mass and strength;I ...   \n\n                           Exercise_Preference      Score  i_want_to_be_fit  \\\n0                      I don't really exercise       Good                 0   \n1                  Walking or jogging;Swimming  Very good                 1   \n2                           Walking or jogging       Good                 1   \n3       Walking or jogging;Gym;Lifting weights       Good                 1   \n4                      I don't really exercise      Unfit                 1   \n5                      Walking or jogging;Yoga    Average                 0   \n6                           Walking or jogging       Good                 0   \n7                           Walking or jogging      Unfit                 1   \n8                               Gym;Team sport      Unfit                 1   \n9                                          Gym  Very good                 1   \n10               Walking or jogging;Team sport  Very good                 1   \n11                          Walking or jogging      Unfit                 1   \n12                     I don't really exercise      Unfit                 1   \n13                          Walking or jogging    Average                 1   \n14                          Walking or jogging    Average                 1   \n15                     Walking or jogging;Yoga    Average                 0   \n16  Walking or jogging;I don't really exercise      Unfit                 0   \n17               Walking or jogging;Team sport       Good                 0   \n18                          Walking or jogging      Unfit                 1   \n19                          Walking or jogging       Good                 0   \n\n    i_want_to_increase_muscle_mass_and_strength  i_want_to_lose_weight  \\\n0                                             0                      0   \n1                                             0                      0   \n2                                             0                      0   \n3                                             0                      1   \n4                                             0                      0   \n5                                             0                      0   \n6                                             0                      0   \n7                                             0                      0   \n8                                             1                      1   \n9                                             0                      1   \n10                                            0                      0   \n11                                            1                      1   \n12                                            1                      1   \n13                                            0                      1   \n14                                            1                      1   \n15                                            0                      0   \n16                                            0                      0   \n17                                            1                      0   \n18                                            1                      1   \n19                                            1                      1   \n\n    i_want_to_be_flexible  i_want_to_relieve_stress  \\\n0                       0                         0   \n1                       1                         1   \n2                       0                         0   \n3                       0                         0   \n4                       0                         0   \n5                       1                         0   \n6                       1                         0   \n7                       0                         0   \n8                       0                         0   \n9                       0                         1   \n10                      0                         0   \n11                      0                         0   \n12                      0                         0   \n13                      0                         0   \n14                      1                         1   \n15                      0                         1   \n16                      0                         1   \n17                      0                         0   \n18                      1                         1   \n19                      1                         0   \n\n    i_want_to_achieve_a_sporting_goal  i'm_not_really_interested_in_exercising  \n0                                   0                                        1  \n1                                   0                                        1  \n2                                   0                                        0  \n3                                   0                                        0  \n4                                   0                                        0  \n5                                   0                                        0  \n6                                   0                                        0  \n7                                   0                                        1  \n8                                   0                                        0  \n9                                   0                                        0  \n10                                  0                                        0  \n11                                  0                                        0  \n12                                  0                                        0  \n13                                  0                                        0  \n14                                  1                                        0  \n15                                  0                                        0  \n16                                  0                                        1  \n17                                  0                                        0  \n18                                  0                                        0  \n19                                  0                                        0  ",
      "text/html": "<div>\n<style scoped>\n    .dataframe tbody tr th:only-of-type {\n        vertical-align: middle;\n    }\n\n    .dataframe tbody tr th {\n        vertical-align: top;\n    }\n\n    .dataframe thead th {\n        text-align: right;\n    }\n</style>\n<table border=\"1\" class=\"dataframe\">\n  <thead>\n    <tr style=\"text-align: right;\">\n      <th></th>\n      <th>Age</th>\n      <th>Sex</th>\n      <th>Exercise_Frequency</th>\n      <th>Time_Preference</th>\n      <th>Exercise_Duration</th>\n      <th>Healthy_Diet</th>\n      <th>Diet_Barriers</th>\n      <th>Exercise_Motivation</th>\n      <th>Exercise_Preference</th>\n      <th>Score</th>\n      <th>i_want_to_be_fit</th>\n      <th>i_want_to_increase_muscle_mass_and_strength</th>\n      <th>i_want_to_lose_weight</th>\n      <th>i_want_to_be_flexible</th>\n      <th>i_want_to_relieve_stress</th>\n      <th>i_want_to_achieve_a_sporting_goal</th>\n      <th>i'm_not_really_interested_in_exercising</th>\n    </tr>\n  </thead>\n  <tbody>\n    <tr>\n      <th>0</th>\n      <td>19 to 25</td>\n      <td>Female</td>\n      <td>Never</td>\n      <td>Early morning</td>\n      <td>I don't really exercise</td>\n      <td>Not always</td>\n      <td>Ease of access to fast food;Temptation and cra...</td>\n      <td>I'm sorry ... I'm not really interested in exe...</td>\n      <td>I don't really exercise</td>\n      <td>Good</td>\n      <td>0</td>\n      <td>0</td>\n      <td>0</td>\n      <td>0</td>\n      <td>0</td>\n      <td>0</td>\n      <td>1</td>\n    </tr>\n    <tr>\n      <th>1</th>\n      <td>19 to 25</td>\n      <td>Female</td>\n      <td>Never</td>\n      <td>Early morning</td>\n      <td>I don't really exercise</td>\n      <td>Not always</td>\n      <td>Ease of access to fast food;Temptation and cra...</td>\n      <td>I want to be fit;I want to be flexible;I want ...</td>\n      <td>Walking or jogging;Swimming</td>\n      <td>Very good</td>\n      <td>1</td>\n      <td>0</td>\n      <td>0</td>\n      <td>1</td>\n      <td>1</td>\n      <td>0</td>\n      <td>1</td>\n    </tr>\n    <tr>\n      <th>2</th>\n      <td>15 to 18</td>\n      <td>Female</td>\n      <td>1 to 2 times a week</td>\n      <td>Early morning</td>\n      <td>30 minutes</td>\n      <td>Not always</td>\n      <td>Temptation and cravings</td>\n      <td>I want to be fit</td>\n      <td>Walking or jogging</td>\n      <td>Good</td>\n      <td>1</td>\n      <td>0</td>\n      <td>0</td>\n      <td>0</td>\n      <td>0</td>\n      <td>0</td>\n      <td>0</td>\n    </tr>\n    <tr>\n      <th>3</th>\n      <td>15 to 18</td>\n      <td>Female</td>\n      <td>3 to 4 times a week</td>\n      <td>Evening</td>\n      <td>1 hour</td>\n      <td>Yes</td>\n      <td>Temptation and cravings</td>\n      <td>I want to be fit;I want to lose weight</td>\n      <td>Walking or jogging;Gym;Lifting weights</td>\n      <td>Good</td>\n      <td>1</td>\n      <td>0</td>\n      <td>1</td>\n      <td>0</td>\n      <td>0</td>\n      <td>0</td>\n      <td>0</td>\n    </tr>\n    <tr>\n      <th>4</th>\n      <td>19 to 25</td>\n      <td>Female</td>\n      <td>Never</td>\n      <td>Evening</td>\n      <td>I don't really exercise</td>\n      <td>Yes</td>\n      <td>Ease of access to fast food;Temptation and cra...</td>\n      <td>I want to be fit</td>\n      <td>I don't really exercise</td>\n      <td>Unfit</td>\n      <td>1</td>\n      <td>0</td>\n      <td>0</td>\n      <td>0</td>\n      <td>0</td>\n      <td>0</td>\n      <td>0</td>\n    </tr>\n    <tr>\n      <th>5</th>\n      <td>40 and above</td>\n      <td>Female</td>\n      <td>3 to 4 times a week</td>\n      <td>Evening</td>\n      <td>1 hour</td>\n      <td>Not always</td>\n      <td>Temptation and cravings</td>\n      <td>I want to be flexible</td>\n      <td>Walking or jogging;Yoga</td>\n      <td>Average</td>\n      <td>0</td>\n      <td>0</td>\n      <td>0</td>\n      <td>1</td>\n      <td>0</td>\n      <td>0</td>\n      <td>0</td>\n    </tr>\n    <tr>\n      <th>6</th>\n      <td>40 and above</td>\n      <td>Male</td>\n      <td>1 to 2 times a week</td>\n      <td>Early morning</td>\n      <td>30 minutes</td>\n      <td>No</td>\n      <td>Temptation and cravings</td>\n      <td>I want to be flexible</td>\n      <td>Walking or jogging</td>\n      <td>Good</td>\n      <td>0</td>\n      <td>0</td>\n      <td>0</td>\n      <td>1</td>\n      <td>0</td>\n      <td>0</td>\n      <td>0</td>\n    </tr>\n    <tr>\n      <th>7</th>\n      <td>15 to 18</td>\n      <td>Female</td>\n      <td>Never</td>\n      <td>Early morning</td>\n      <td>I don't really exercise</td>\n      <td>Not always</td>\n      <td>Temptation and cravings</td>\n      <td>I want to be fit;I'm sorry ... I'm not really ...</td>\n      <td>Walking or jogging</td>\n      <td>Unfit</td>\n      <td>1</td>\n      <td>0</td>\n      <td>0</td>\n      <td>0</td>\n      <td>0</td>\n      <td>0</td>\n      <td>1</td>\n    </tr>\n    <tr>\n      <th>8</th>\n      <td>19 to 25</td>\n      <td>Male</td>\n      <td>3 to 4 times a week</td>\n      <td>Evening</td>\n      <td>1 hour</td>\n      <td>No</td>\n      <td>Temptation and cravings</td>\n      <td>I want to be fit;I want to increase muscle mas...</td>\n      <td>Gym;Team sport</td>\n      <td>Unfit</td>\n      <td>1</td>\n      <td>1</td>\n      <td>1</td>\n      <td>0</td>\n      <td>0</td>\n      <td>0</td>\n      <td>0</td>\n    </tr>\n    <tr>\n      <th>9</th>\n      <td>15 to 18</td>\n      <td>Male</td>\n      <td>Everyday</td>\n      <td>Early morning</td>\n      <td>1 hour</td>\n      <td>Not always</td>\n      <td>Ease of access to fast food</td>\n      <td>I want to be fit;I want to lose weight;I want ...</td>\n      <td>Gym</td>\n      <td>Very good</td>\n      <td>1</td>\n      <td>0</td>\n      <td>1</td>\n      <td>0</td>\n      <td>1</td>\n      <td>0</td>\n      <td>0</td>\n    </tr>\n    <tr>\n      <th>10</th>\n      <td>15 to 18</td>\n      <td>Male</td>\n      <td>3 to 4 times a week</td>\n      <td>Early morning</td>\n      <td>1 hour</td>\n      <td>Yes</td>\n      <td>Lack of time</td>\n      <td>I want to be fit</td>\n      <td>Walking or jogging;Team sport</td>\n      <td>Very good</td>\n      <td>1</td>\n      <td>0</td>\n      <td>0</td>\n      <td>0</td>\n      <td>0</td>\n      <td>0</td>\n      <td>0</td>\n    </tr>\n    <tr>\n      <th>11</th>\n      <td>19 to 25</td>\n      <td>Male</td>\n      <td>3 to 4 times a week</td>\n      <td>Early morning</td>\n      <td>2 hours</td>\n      <td>No</td>\n      <td>Temptation and cravings</td>\n      <td>I want to be fit;I want to increase muscle mas...</td>\n      <td>Walking or jogging</td>\n      <td>Unfit</td>\n      <td>1</td>\n      <td>1</td>\n      <td>1</td>\n      <td>0</td>\n      <td>0</td>\n      <td>0</td>\n      <td>0</td>\n    </tr>\n    <tr>\n      <th>12</th>\n      <td>15 to 18</td>\n      <td>Male</td>\n      <td>Never</td>\n      <td>Evening</td>\n      <td>I don't really exercise</td>\n      <td>No</td>\n      <td>Temptation and cravings</td>\n      <td>I want to be fit;I want to increase muscle mas...</td>\n      <td>I don't really exercise</td>\n      <td>Unfit</td>\n      <td>1</td>\n      <td>1</td>\n      <td>1</td>\n      <td>0</td>\n      <td>0</td>\n      <td>0</td>\n      <td>0</td>\n    </tr>\n    <tr>\n      <th>13</th>\n      <td>15 to 18</td>\n      <td>Female</td>\n      <td>1 to 2 times a week</td>\n      <td>Evening</td>\n      <td>30 minutes</td>\n      <td>Not always</td>\n      <td>Temptation and cravings</td>\n      <td>I want to be fit;I want to lose weight</td>\n      <td>Walking or jogging</td>\n      <td>Average</td>\n      <td>1</td>\n      <td>0</td>\n      <td>1</td>\n      <td>0</td>\n      <td>0</td>\n      <td>0</td>\n      <td>0</td>\n    </tr>\n    <tr>\n      <th>14</th>\n      <td>19 to 25</td>\n      <td>Male</td>\n      <td>1 to 2 times a week</td>\n      <td>Evening</td>\n      <td>30 minutes</td>\n      <td>No</td>\n      <td>Ease of access to fast food;Temptation and cra...</td>\n      <td>I want to be fit;I want to increase muscle mas...</td>\n      <td>Walking or jogging</td>\n      <td>Average</td>\n      <td>1</td>\n      <td>1</td>\n      <td>1</td>\n      <td>1</td>\n      <td>1</td>\n      <td>1</td>\n      <td>0</td>\n    </tr>\n    <tr>\n      <th>15</th>\n      <td>15 to 18</td>\n      <td>Female</td>\n      <td>Everyday</td>\n      <td>Early morning</td>\n      <td>30 minutes</td>\n      <td>Not always</td>\n      <td>Cost;Ease of access to fast food</td>\n      <td>I want to relieve stress</td>\n      <td>Walking or jogging;Yoga</td>\n      <td>Average</td>\n      <td>0</td>\n      <td>0</td>\n      <td>0</td>\n      <td>0</td>\n      <td>1</td>\n      <td>0</td>\n      <td>0</td>\n    </tr>\n    <tr>\n      <th>16</th>\n      <td>15 to 18</td>\n      <td>Male</td>\n      <td>Never</td>\n      <td>Evening</td>\n      <td>I don't really exercise</td>\n      <td>Not always</td>\n      <td>Lack of time;Ease of access to fast food</td>\n      <td>I want to relieve stress;I'm sorry ... I'm not...</td>\n      <td>Walking or jogging;I don't really exercise</td>\n      <td>Unfit</td>\n      <td>0</td>\n      <td>0</td>\n      <td>0</td>\n      <td>0</td>\n      <td>1</td>\n      <td>0</td>\n      <td>1</td>\n    </tr>\n    <tr>\n      <th>17</th>\n      <td>15 to 18</td>\n      <td>Male</td>\n      <td>1 to 2 times a week</td>\n      <td>Early morning</td>\n      <td>1 hour</td>\n      <td>Not always</td>\n      <td>Temptation and cravings</td>\n      <td>I want to increase muscle mass and strength</td>\n      <td>Walking or jogging;Team sport</td>\n      <td>Good</td>\n      <td>0</td>\n      <td>1</td>\n      <td>0</td>\n      <td>0</td>\n      <td>0</td>\n      <td>0</td>\n      <td>0</td>\n    </tr>\n    <tr>\n      <th>18</th>\n      <td>19 to 25</td>\n      <td>Male</td>\n      <td>Never</td>\n      <td>Early morning</td>\n      <td>1 hour</td>\n      <td>Not always</td>\n      <td>Temptation and cravings</td>\n      <td>I want to be fit;I want to increase muscle mas...</td>\n      <td>Walking or jogging</td>\n      <td>Unfit</td>\n      <td>1</td>\n      <td>1</td>\n      <td>1</td>\n      <td>1</td>\n      <td>1</td>\n      <td>0</td>\n      <td>0</td>\n    </tr>\n    <tr>\n      <th>19</th>\n      <td>15 to 18</td>\n      <td>Male</td>\n      <td>Everyday</td>\n      <td>Early morning</td>\n      <td>30 minutes</td>\n      <td>Not always</td>\n      <td>Temptation and cravings</td>\n      <td>I want to increase muscle mass and strength;I ...</td>\n      <td>Walking or jogging</td>\n      <td>Good</td>\n      <td>0</td>\n      <td>1</td>\n      <td>1</td>\n      <td>1</td>\n      <td>0</td>\n      <td>0</td>\n      <td>0</td>\n    </tr>\n  </tbody>\n</table>\n</div>"
     },
     "execution_count": 14,
     "metadata": {},
     "output_type": "execute_result"
    }
   ],
   "source": [
    "df_features.head(20)"
   ],
   "metadata": {
    "collapsed": false,
    "ExecuteTime": {
     "end_time": "2023-12-18T21:04:38.752580800Z",
     "start_time": "2023-12-18T21:04:38.652510600Z"
    }
   },
   "id": "e38cc5b4971700d7"
  },
  {
   "cell_type": "code",
   "execution_count": 15,
   "outputs": [],
   "source": [
    "# Mapping dictionary\n",
    "Exercise_Frequency = {\n",
    "    'Never': 1,\n",
    "    '1 to 2 times a week': 2,\n",
    "    '2 to 3 times a week':3,\n",
    "    '3 to 4 times a week': 4,\n",
    "    '5 to 6 times a week':5,\n",
    "    'Everyday': 6,\n",
    "    # Add more mappings as needed\n",
    "}\n",
    "\n",
    "# Apply mapping to the 'Frequency' column\n",
    "df_features['Exercise_Frequency'] = df['Exercise_Frequency'].map(Exercise_Frequency)\n",
    "# df2['Exercise_Frequency'] = df2['Exercise_Frequency'].map(Exercise_Frequency)\n"
   ],
   "metadata": {
    "collapsed": false,
    "ExecuteTime": {
     "end_time": "2023-12-18T21:04:42.851798100Z",
     "start_time": "2023-12-18T21:04:42.809692100Z"
    }
   },
   "id": "a1234060f610d415"
  },
  {
   "cell_type": "code",
   "execution_count": 16,
   "outputs": [],
   "source": [
    "time_preference_mapping = {\n",
    "    'Early morning': 1,\n",
    "    'Afternoon': 2,\n",
    "    'Evening': 3,\n",
    "    # Add more mappings as needed\n",
    "}\n",
    "\n",
    "# Apply mapping to the 'Time_Preference' column\n",
    "df_features['Time_Preference'] = df['Time_Preference'].map(time_preference_mapping)\n",
    "# df2['Time_Preference'] = df2['Time_Preference'].map(time_preference_mapping)"
   ],
   "metadata": {
    "collapsed": false,
    "ExecuteTime": {
     "end_time": "2023-12-18T21:04:47.343308700Z",
     "start_time": "2023-12-18T21:04:47.269991800Z"
    }
   },
   "id": "7e57c2d2c9ad6bc8"
  },
  {
   "cell_type": "code",
   "execution_count": 18,
   "outputs": [],
   "source": [
    "# Mapping dictionary for Exercise_Duration\n",
    "exercise_duration_mapping = {\n",
    "    '30 minutes': 30,\n",
    "    '1 hour': 60,\n",
    "    '2 hours': 120,\n",
    "    '3 hours and above': 180,  # Adjust this value based on your preference\n",
    "    \"I don't really exercise\": 0,  # Assign a value for 'I don't really exercise'\n",
    "    # Add more mappings as needed\n",
    "}\n",
    "\n",
    "# Apply mapping to the 'Exercise_Duration' column\n",
    "df_features['Exercise_Duration'] = df['Exercise_Duration'].map(exercise_duration_mapping)\n",
    "#df2['Exercise_Duration'] = df2['Exercise_Duration'].map(exercise_duration_mapping)"
   ],
   "metadata": {
    "collapsed": false,
    "ExecuteTime": {
     "end_time": "2023-12-18T21:04:56.330595500Z",
     "start_time": "2023-12-18T21:04:56.138573500Z"
    }
   },
   "id": "5040c2bb9f3377e0"
  },
  {
   "cell_type": "code",
   "execution_count": 361,
   "outputs": [
    {
     "data": {
      "text/plain": "             Age     Sex  Exercise_Frequency  Time_Preference  \\\n0       19 to 25  Female                   1                1   \n1       19 to 25  Female                   1                1   \n2       15 to 18  Female                   2                1   \n3       15 to 18  Female                   4                3   \n4       19 to 25  Female                   1                3   \n5   40 and above  Female                   4                3   \n6   40 and above    Male                   2                1   \n7       15 to 18  Female                   1                1   \n8       19 to 25    Male                   4                3   \n9       15 to 18    Male                   6                1   \n10      15 to 18    Male                   4                1   \n11      19 to 25    Male                   4                1   \n12      15 to 18    Male                   1                3   \n13      15 to 18  Female                   2                3   \n14      19 to 25    Male                   2                3   \n15      15 to 18  Female                   6                1   \n16      15 to 18    Male                   1                3   \n17      15 to 18    Male                   2                1   \n18      19 to 25    Male                   1                1   \n19      15 to 18    Male                   6                1   \n\n    Exercise_Duration Healthy_Diet  \\\n0                   0   Not always   \n1                   0   Not always   \n2                  30   Not always   \n3                  60          Yes   \n4                   0          Yes   \n5                  60   Not always   \n6                  30           No   \n7                   0   Not always   \n8                  60           No   \n9                  60   Not always   \n10                 60          Yes   \n11                120           No   \n12                  0           No   \n13                 30   Not always   \n14                 30           No   \n15                 30   Not always   \n16                  0   Not always   \n17                 60   Not always   \n18                 60   Not always   \n19                 30   Not always   \n\n                                        Diet_Barriers  \\\n0   Ease of access to fast food;Temptation and cra...   \n1   Ease of access to fast food;Temptation and cra...   \n2                             Temptation and cravings   \n3                             Temptation and cravings   \n4   Ease of access to fast food;Temptation and cra...   \n5                             Temptation and cravings   \n6                             Temptation and cravings   \n7                             Temptation and cravings   \n8                             Temptation and cravings   \n9                         Ease of access to fast food   \n10                                       Lack of time   \n11                            Temptation and cravings   \n12                            Temptation and cravings   \n13                            Temptation and cravings   \n14  Ease of access to fast food;Temptation and cra...   \n15                   Cost;Ease of access to fast food   \n16           Lack of time;Ease of access to fast food   \n17                            Temptation and cravings   \n18                            Temptation and cravings   \n19                            Temptation and cravings   \n\n                                  Exercise_Motivation  \\\n0   I'm sorry ... I'm not really interested in exe...   \n1   I want to be fit;I want to be flexible;I want ...   \n2                                    I want to be fit   \n3              I want to be fit;I want to lose weight   \n4                                    I want to be fit   \n5                               I want to be flexible   \n6                               I want to be flexible   \n7   I want to be fit;I'm sorry ... I'm not really ...   \n8   I want to be fit;I want to increase muscle mas...   \n9   I want to be fit;I want to lose weight;I want ...   \n10                                   I want to be fit   \n11  I want to be fit;I want to increase muscle mas...   \n12  I want to be fit;I want to increase muscle mas...   \n13             I want to be fit;I want to lose weight   \n14  I want to be fit;I want to increase muscle mas...   \n15                           I want to relieve stress   \n16  I want to relieve stress;I'm sorry ... I'm not...   \n17        I want to increase muscle mass and strength   \n18  I want to be fit;I want to increase muscle mas...   \n19  I want to increase muscle mass and strength;I ...   \n\n                           Exercise_Preference      Score  i_want_to_be_fit  \\\n0                      I don't really exercise       Good                 0   \n1                  Walking or jogging;Swimming  Very good                 1   \n2                           Walking or jogging       Good                 1   \n3       Walking or jogging;Gym;Lifting weights       Good                 1   \n4                      I don't really exercise      Unfit                 1   \n5                      Walking or jogging;Yoga    Average                 0   \n6                           Walking or jogging       Good                 0   \n7                           Walking or jogging      Unfit                 1   \n8                               Gym;Team sport      Unfit                 1   \n9                                          Gym  Very good                 1   \n10               Walking or jogging;Team sport  Very good                 1   \n11                          Walking or jogging      Unfit                 1   \n12                     I don't really exercise      Unfit                 1   \n13                          Walking or jogging    Average                 1   \n14                          Walking or jogging    Average                 1   \n15                     Walking or jogging;Yoga    Average                 0   \n16  Walking or jogging;I don't really exercise      Unfit                 0   \n17               Walking or jogging;Team sport       Good                 0   \n18                          Walking or jogging      Unfit                 1   \n19                          Walking or jogging       Good                 0   \n\n    i_want_to_increase_muscle_mass_and_strength  i_want_to_lose_weight  \\\n0                                             0                      0   \n1                                             0                      0   \n2                                             0                      0   \n3                                             0                      1   \n4                                             0                      0   \n5                                             0                      0   \n6                                             0                      0   \n7                                             0                      0   \n8                                             1                      1   \n9                                             0                      1   \n10                                            0                      0   \n11                                            1                      1   \n12                                            1                      1   \n13                                            0                      1   \n14                                            1                      1   \n15                                            0                      0   \n16                                            0                      0   \n17                                            1                      0   \n18                                            1                      1   \n19                                            1                      1   \n\n    i_want_to_be_flexible  i_want_to_relieve_stress  \\\n0                       0                         0   \n1                       1                         1   \n2                       0                         0   \n3                       0                         0   \n4                       0                         0   \n5                       1                         0   \n6                       1                         0   \n7                       0                         0   \n8                       0                         0   \n9                       0                         1   \n10                      0                         0   \n11                      0                         0   \n12                      0                         0   \n13                      0                         0   \n14                      1                         1   \n15                      0                         1   \n16                      0                         1   \n17                      0                         0   \n18                      1                         1   \n19                      1                         0   \n\n    i_want_to_achieve_a_sporting_goal  i'm_not_really_interested_in_exercising  \n0                                   0                                        1  \n1                                   0                                        1  \n2                                   0                                        0  \n3                                   0                                        0  \n4                                   0                                        0  \n5                                   0                                        0  \n6                                   0                                        0  \n7                                   0                                        1  \n8                                   0                                        0  \n9                                   0                                        0  \n10                                  0                                        0  \n11                                  0                                        0  \n12                                  0                                        0  \n13                                  0                                        0  \n14                                  1                                        0  \n15                                  0                                        0  \n16                                  0                                        1  \n17                                  0                                        0  \n18                                  0                                        0  \n19                                  0                                        0  ",
      "text/html": "<div>\n<style scoped>\n    .dataframe tbody tr th:only-of-type {\n        vertical-align: middle;\n    }\n\n    .dataframe tbody tr th {\n        vertical-align: top;\n    }\n\n    .dataframe thead th {\n        text-align: right;\n    }\n</style>\n<table border=\"1\" class=\"dataframe\">\n  <thead>\n    <tr style=\"text-align: right;\">\n      <th></th>\n      <th>Age</th>\n      <th>Sex</th>\n      <th>Exercise_Frequency</th>\n      <th>Time_Preference</th>\n      <th>Exercise_Duration</th>\n      <th>Healthy_Diet</th>\n      <th>Diet_Barriers</th>\n      <th>Exercise_Motivation</th>\n      <th>Exercise_Preference</th>\n      <th>Score</th>\n      <th>i_want_to_be_fit</th>\n      <th>i_want_to_increase_muscle_mass_and_strength</th>\n      <th>i_want_to_lose_weight</th>\n      <th>i_want_to_be_flexible</th>\n      <th>i_want_to_relieve_stress</th>\n      <th>i_want_to_achieve_a_sporting_goal</th>\n      <th>i'm_not_really_interested_in_exercising</th>\n    </tr>\n  </thead>\n  <tbody>\n    <tr>\n      <th>0</th>\n      <td>19 to 25</td>\n      <td>Female</td>\n      <td>1</td>\n      <td>1</td>\n      <td>0</td>\n      <td>Not always</td>\n      <td>Ease of access to fast food;Temptation and cra...</td>\n      <td>I'm sorry ... I'm not really interested in exe...</td>\n      <td>I don't really exercise</td>\n      <td>Good</td>\n      <td>0</td>\n      <td>0</td>\n      <td>0</td>\n      <td>0</td>\n      <td>0</td>\n      <td>0</td>\n      <td>1</td>\n    </tr>\n    <tr>\n      <th>1</th>\n      <td>19 to 25</td>\n      <td>Female</td>\n      <td>1</td>\n      <td>1</td>\n      <td>0</td>\n      <td>Not always</td>\n      <td>Ease of access to fast food;Temptation and cra...</td>\n      <td>I want to be fit;I want to be flexible;I want ...</td>\n      <td>Walking or jogging;Swimming</td>\n      <td>Very good</td>\n      <td>1</td>\n      <td>0</td>\n      <td>0</td>\n      <td>1</td>\n      <td>1</td>\n      <td>0</td>\n      <td>1</td>\n    </tr>\n    <tr>\n      <th>2</th>\n      <td>15 to 18</td>\n      <td>Female</td>\n      <td>2</td>\n      <td>1</td>\n      <td>30</td>\n      <td>Not always</td>\n      <td>Temptation and cravings</td>\n      <td>I want to be fit</td>\n      <td>Walking or jogging</td>\n      <td>Good</td>\n      <td>1</td>\n      <td>0</td>\n      <td>0</td>\n      <td>0</td>\n      <td>0</td>\n      <td>0</td>\n      <td>0</td>\n    </tr>\n    <tr>\n      <th>3</th>\n      <td>15 to 18</td>\n      <td>Female</td>\n      <td>4</td>\n      <td>3</td>\n      <td>60</td>\n      <td>Yes</td>\n      <td>Temptation and cravings</td>\n      <td>I want to be fit;I want to lose weight</td>\n      <td>Walking or jogging;Gym;Lifting weights</td>\n      <td>Good</td>\n      <td>1</td>\n      <td>0</td>\n      <td>1</td>\n      <td>0</td>\n      <td>0</td>\n      <td>0</td>\n      <td>0</td>\n    </tr>\n    <tr>\n      <th>4</th>\n      <td>19 to 25</td>\n      <td>Female</td>\n      <td>1</td>\n      <td>3</td>\n      <td>0</td>\n      <td>Yes</td>\n      <td>Ease of access to fast food;Temptation and cra...</td>\n      <td>I want to be fit</td>\n      <td>I don't really exercise</td>\n      <td>Unfit</td>\n      <td>1</td>\n      <td>0</td>\n      <td>0</td>\n      <td>0</td>\n      <td>0</td>\n      <td>0</td>\n      <td>0</td>\n    </tr>\n    <tr>\n      <th>5</th>\n      <td>40 and above</td>\n      <td>Female</td>\n      <td>4</td>\n      <td>3</td>\n      <td>60</td>\n      <td>Not always</td>\n      <td>Temptation and cravings</td>\n      <td>I want to be flexible</td>\n      <td>Walking or jogging;Yoga</td>\n      <td>Average</td>\n      <td>0</td>\n      <td>0</td>\n      <td>0</td>\n      <td>1</td>\n      <td>0</td>\n      <td>0</td>\n      <td>0</td>\n    </tr>\n    <tr>\n      <th>6</th>\n      <td>40 and above</td>\n      <td>Male</td>\n      <td>2</td>\n      <td>1</td>\n      <td>30</td>\n      <td>No</td>\n      <td>Temptation and cravings</td>\n      <td>I want to be flexible</td>\n      <td>Walking or jogging</td>\n      <td>Good</td>\n      <td>0</td>\n      <td>0</td>\n      <td>0</td>\n      <td>1</td>\n      <td>0</td>\n      <td>0</td>\n      <td>0</td>\n    </tr>\n    <tr>\n      <th>7</th>\n      <td>15 to 18</td>\n      <td>Female</td>\n      <td>1</td>\n      <td>1</td>\n      <td>0</td>\n      <td>Not always</td>\n      <td>Temptation and cravings</td>\n      <td>I want to be fit;I'm sorry ... I'm not really ...</td>\n      <td>Walking or jogging</td>\n      <td>Unfit</td>\n      <td>1</td>\n      <td>0</td>\n      <td>0</td>\n      <td>0</td>\n      <td>0</td>\n      <td>0</td>\n      <td>1</td>\n    </tr>\n    <tr>\n      <th>8</th>\n      <td>19 to 25</td>\n      <td>Male</td>\n      <td>4</td>\n      <td>3</td>\n      <td>60</td>\n      <td>No</td>\n      <td>Temptation and cravings</td>\n      <td>I want to be fit;I want to increase muscle mas...</td>\n      <td>Gym;Team sport</td>\n      <td>Unfit</td>\n      <td>1</td>\n      <td>1</td>\n      <td>1</td>\n      <td>0</td>\n      <td>0</td>\n      <td>0</td>\n      <td>0</td>\n    </tr>\n    <tr>\n      <th>9</th>\n      <td>15 to 18</td>\n      <td>Male</td>\n      <td>6</td>\n      <td>1</td>\n      <td>60</td>\n      <td>Not always</td>\n      <td>Ease of access to fast food</td>\n      <td>I want to be fit;I want to lose weight;I want ...</td>\n      <td>Gym</td>\n      <td>Very good</td>\n      <td>1</td>\n      <td>0</td>\n      <td>1</td>\n      <td>0</td>\n      <td>1</td>\n      <td>0</td>\n      <td>0</td>\n    </tr>\n    <tr>\n      <th>10</th>\n      <td>15 to 18</td>\n      <td>Male</td>\n      <td>4</td>\n      <td>1</td>\n      <td>60</td>\n      <td>Yes</td>\n      <td>Lack of time</td>\n      <td>I want to be fit</td>\n      <td>Walking or jogging;Team sport</td>\n      <td>Very good</td>\n      <td>1</td>\n      <td>0</td>\n      <td>0</td>\n      <td>0</td>\n      <td>0</td>\n      <td>0</td>\n      <td>0</td>\n    </tr>\n    <tr>\n      <th>11</th>\n      <td>19 to 25</td>\n      <td>Male</td>\n      <td>4</td>\n      <td>1</td>\n      <td>120</td>\n      <td>No</td>\n      <td>Temptation and cravings</td>\n      <td>I want to be fit;I want to increase muscle mas...</td>\n      <td>Walking or jogging</td>\n      <td>Unfit</td>\n      <td>1</td>\n      <td>1</td>\n      <td>1</td>\n      <td>0</td>\n      <td>0</td>\n      <td>0</td>\n      <td>0</td>\n    </tr>\n    <tr>\n      <th>12</th>\n      <td>15 to 18</td>\n      <td>Male</td>\n      <td>1</td>\n      <td>3</td>\n      <td>0</td>\n      <td>No</td>\n      <td>Temptation and cravings</td>\n      <td>I want to be fit;I want to increase muscle mas...</td>\n      <td>I don't really exercise</td>\n      <td>Unfit</td>\n      <td>1</td>\n      <td>1</td>\n      <td>1</td>\n      <td>0</td>\n      <td>0</td>\n      <td>0</td>\n      <td>0</td>\n    </tr>\n    <tr>\n      <th>13</th>\n      <td>15 to 18</td>\n      <td>Female</td>\n      <td>2</td>\n      <td>3</td>\n      <td>30</td>\n      <td>Not always</td>\n      <td>Temptation and cravings</td>\n      <td>I want to be fit;I want to lose weight</td>\n      <td>Walking or jogging</td>\n      <td>Average</td>\n      <td>1</td>\n      <td>0</td>\n      <td>1</td>\n      <td>0</td>\n      <td>0</td>\n      <td>0</td>\n      <td>0</td>\n    </tr>\n    <tr>\n      <th>14</th>\n      <td>19 to 25</td>\n      <td>Male</td>\n      <td>2</td>\n      <td>3</td>\n      <td>30</td>\n      <td>No</td>\n      <td>Ease of access to fast food;Temptation and cra...</td>\n      <td>I want to be fit;I want to increase muscle mas...</td>\n      <td>Walking or jogging</td>\n      <td>Average</td>\n      <td>1</td>\n      <td>1</td>\n      <td>1</td>\n      <td>1</td>\n      <td>1</td>\n      <td>1</td>\n      <td>0</td>\n    </tr>\n    <tr>\n      <th>15</th>\n      <td>15 to 18</td>\n      <td>Female</td>\n      <td>6</td>\n      <td>1</td>\n      <td>30</td>\n      <td>Not always</td>\n      <td>Cost;Ease of access to fast food</td>\n      <td>I want to relieve stress</td>\n      <td>Walking or jogging;Yoga</td>\n      <td>Average</td>\n      <td>0</td>\n      <td>0</td>\n      <td>0</td>\n      <td>0</td>\n      <td>1</td>\n      <td>0</td>\n      <td>0</td>\n    </tr>\n    <tr>\n      <th>16</th>\n      <td>15 to 18</td>\n      <td>Male</td>\n      <td>1</td>\n      <td>3</td>\n      <td>0</td>\n      <td>Not always</td>\n      <td>Lack of time;Ease of access to fast food</td>\n      <td>I want to relieve stress;I'm sorry ... I'm not...</td>\n      <td>Walking or jogging;I don't really exercise</td>\n      <td>Unfit</td>\n      <td>0</td>\n      <td>0</td>\n      <td>0</td>\n      <td>0</td>\n      <td>1</td>\n      <td>0</td>\n      <td>1</td>\n    </tr>\n    <tr>\n      <th>17</th>\n      <td>15 to 18</td>\n      <td>Male</td>\n      <td>2</td>\n      <td>1</td>\n      <td>60</td>\n      <td>Not always</td>\n      <td>Temptation and cravings</td>\n      <td>I want to increase muscle mass and strength</td>\n      <td>Walking or jogging;Team sport</td>\n      <td>Good</td>\n      <td>0</td>\n      <td>1</td>\n      <td>0</td>\n      <td>0</td>\n      <td>0</td>\n      <td>0</td>\n      <td>0</td>\n    </tr>\n    <tr>\n      <th>18</th>\n      <td>19 to 25</td>\n      <td>Male</td>\n      <td>1</td>\n      <td>1</td>\n      <td>60</td>\n      <td>Not always</td>\n      <td>Temptation and cravings</td>\n      <td>I want to be fit;I want to increase muscle mas...</td>\n      <td>Walking or jogging</td>\n      <td>Unfit</td>\n      <td>1</td>\n      <td>1</td>\n      <td>1</td>\n      <td>1</td>\n      <td>1</td>\n      <td>0</td>\n      <td>0</td>\n    </tr>\n    <tr>\n      <th>19</th>\n      <td>15 to 18</td>\n      <td>Male</td>\n      <td>6</td>\n      <td>1</td>\n      <td>30</td>\n      <td>Not always</td>\n      <td>Temptation and cravings</td>\n      <td>I want to increase muscle mass and strength;I ...</td>\n      <td>Walking or jogging</td>\n      <td>Good</td>\n      <td>0</td>\n      <td>1</td>\n      <td>1</td>\n      <td>1</td>\n      <td>0</td>\n      <td>0</td>\n      <td>0</td>\n    </tr>\n  </tbody>\n</table>\n</div>"
     },
     "execution_count": 361,
     "metadata": {},
     "output_type": "execute_result"
    }
   ],
   "source": [
    "df_features.head(20)"
   ],
   "metadata": {
    "collapsed": false,
    "ExecuteTime": {
     "end_time": "2023-12-17T01:35:08.489936Z",
     "start_time": "2023-12-17T01:35:08.352875Z"
    }
   },
   "id": "df7ba63f71985937"
  },
  {
   "cell_type": "code",
   "execution_count": 362,
   "outputs": [
    {
     "data": {
      "text/plain": "              Age     Sex   Exercise_Frequency Time_Preference  \\\n0        19 to 25  Female                Never   Early morning   \n1        19 to 25  Female                Never   Early morning   \n2        15 to 18  Female  1 to 2 times a week   Early morning   \n3        15 to 18  Female  3 to 4 times a week         Evening   \n4        19 to 25  Female                Never         Evening   \n..            ...     ...                  ...             ...   \n540  40 and above  Female  1 to 2 times a week         Evening   \n541  40 and above  Female  3 to 4 times a week   Early morning   \n542      19 to 25  Female  1 to 2 times a week   Early morning   \n543      19 to 25    Male  3 to 4 times a week         Evening   \n544  40 and above  Female                Never   Early morning   \n\n           Exercise_Duration Healthy_Diet  \\\n0    I don't really exercise   Not always   \n1    I don't really exercise   Not always   \n2                 30 minutes   Not always   \n3                     1 hour          Yes   \n4    I don't really exercise          Yes   \n..                       ...          ...   \n540               30 minutes   Not always   \n541                  2 hours          Yes   \n542               30 minutes   Not always   \n543               30 minutes   Not always   \n544  I don't really exercise   Not always   \n\n                                         Diet_Barriers  \\\n0    Ease of access to fast food;Temptation and cra...   \n1    Ease of access to fast food;Temptation and cra...   \n2                              Temptation and cravings   \n3                              Temptation and cravings   \n4    Ease of access to fast food;Temptation and cra...   \n..                                                 ...   \n540                             I have a balanced diet   \n541                                       Lack of time   \n542  Ease of access to fast food;Temptation and cra...   \n543                            Temptation and cravings   \n544                       Cost;Temptation and cravings   \n\n                                   Exercise_Motivation  \\\n0    I'm sorry ... I'm not really interested in exe...   \n1    I want to be fit;I want to be flexible;I want ...   \n2                                     I want to be fit   \n3               I want to be fit;I want to lose weight   \n4                                     I want to be fit   \n..                                                 ...   \n540                              I want to be flexible   \n541          I want to be fit;I want to relieve stress   \n542        I want to lose weight;I want to be flexible   \n543                           I want to relieve stress   \n544  I'm sorry ... I'm not really interested in exe...   \n\n                        Exercise_Preference      Score  \n0                   I don't really exercise       Good  \n1               Walking or jogging;Swimming  Very good  \n2                        Walking or jogging       Good  \n3    Walking or jogging;Gym;Lifting weights       Good  \n4                   I don't really exercise      Unfit  \n..                                      ...        ...  \n540                      Walking or jogging    Perfect  \n541         Walking or jogging;Gym;Swimming    Average  \n542                 Walking or jogging;Yoga    Average  \n543                      Walking or jogging       Good  \n544                 I don't really exercise    Average  \n\n[545 rows x 10 columns]",
      "text/html": "<div>\n<style scoped>\n    .dataframe tbody tr th:only-of-type {\n        vertical-align: middle;\n    }\n\n    .dataframe tbody tr th {\n        vertical-align: top;\n    }\n\n    .dataframe thead th {\n        text-align: right;\n    }\n</style>\n<table border=\"1\" class=\"dataframe\">\n  <thead>\n    <tr style=\"text-align: right;\">\n      <th></th>\n      <th>Age</th>\n      <th>Sex</th>\n      <th>Exercise_Frequency</th>\n      <th>Time_Preference</th>\n      <th>Exercise_Duration</th>\n      <th>Healthy_Diet</th>\n      <th>Diet_Barriers</th>\n      <th>Exercise_Motivation</th>\n      <th>Exercise_Preference</th>\n      <th>Score</th>\n    </tr>\n  </thead>\n  <tbody>\n    <tr>\n      <th>0</th>\n      <td>19 to 25</td>\n      <td>Female</td>\n      <td>Never</td>\n      <td>Early morning</td>\n      <td>I don't really exercise</td>\n      <td>Not always</td>\n      <td>Ease of access to fast food;Temptation and cra...</td>\n      <td>I'm sorry ... I'm not really interested in exe...</td>\n      <td>I don't really exercise</td>\n      <td>Good</td>\n    </tr>\n    <tr>\n      <th>1</th>\n      <td>19 to 25</td>\n      <td>Female</td>\n      <td>Never</td>\n      <td>Early morning</td>\n      <td>I don't really exercise</td>\n      <td>Not always</td>\n      <td>Ease of access to fast food;Temptation and cra...</td>\n      <td>I want to be fit;I want to be flexible;I want ...</td>\n      <td>Walking or jogging;Swimming</td>\n      <td>Very good</td>\n    </tr>\n    <tr>\n      <th>2</th>\n      <td>15 to 18</td>\n      <td>Female</td>\n      <td>1 to 2 times a week</td>\n      <td>Early morning</td>\n      <td>30 minutes</td>\n      <td>Not always</td>\n      <td>Temptation and cravings</td>\n      <td>I want to be fit</td>\n      <td>Walking or jogging</td>\n      <td>Good</td>\n    </tr>\n    <tr>\n      <th>3</th>\n      <td>15 to 18</td>\n      <td>Female</td>\n      <td>3 to 4 times a week</td>\n      <td>Evening</td>\n      <td>1 hour</td>\n      <td>Yes</td>\n      <td>Temptation and cravings</td>\n      <td>I want to be fit;I want to lose weight</td>\n      <td>Walking or jogging;Gym;Lifting weights</td>\n      <td>Good</td>\n    </tr>\n    <tr>\n      <th>4</th>\n      <td>19 to 25</td>\n      <td>Female</td>\n      <td>Never</td>\n      <td>Evening</td>\n      <td>I don't really exercise</td>\n      <td>Yes</td>\n      <td>Ease of access to fast food;Temptation and cra...</td>\n      <td>I want to be fit</td>\n      <td>I don't really exercise</td>\n      <td>Unfit</td>\n    </tr>\n    <tr>\n      <th>...</th>\n      <td>...</td>\n      <td>...</td>\n      <td>...</td>\n      <td>...</td>\n      <td>...</td>\n      <td>...</td>\n      <td>...</td>\n      <td>...</td>\n      <td>...</td>\n      <td>...</td>\n    </tr>\n    <tr>\n      <th>540</th>\n      <td>40 and above</td>\n      <td>Female</td>\n      <td>1 to 2 times a week</td>\n      <td>Evening</td>\n      <td>30 minutes</td>\n      <td>Not always</td>\n      <td>I have a balanced diet</td>\n      <td>I want to be flexible</td>\n      <td>Walking or jogging</td>\n      <td>Perfect</td>\n    </tr>\n    <tr>\n      <th>541</th>\n      <td>40 and above</td>\n      <td>Female</td>\n      <td>3 to 4 times a week</td>\n      <td>Early morning</td>\n      <td>2 hours</td>\n      <td>Yes</td>\n      <td>Lack of time</td>\n      <td>I want to be fit;I want to relieve stress</td>\n      <td>Walking or jogging;Gym;Swimming</td>\n      <td>Average</td>\n    </tr>\n    <tr>\n      <th>542</th>\n      <td>19 to 25</td>\n      <td>Female</td>\n      <td>1 to 2 times a week</td>\n      <td>Early morning</td>\n      <td>30 minutes</td>\n      <td>Not always</td>\n      <td>Ease of access to fast food;Temptation and cra...</td>\n      <td>I want to lose weight;I want to be flexible</td>\n      <td>Walking or jogging;Yoga</td>\n      <td>Average</td>\n    </tr>\n    <tr>\n      <th>543</th>\n      <td>19 to 25</td>\n      <td>Male</td>\n      <td>3 to 4 times a week</td>\n      <td>Evening</td>\n      <td>30 minutes</td>\n      <td>Not always</td>\n      <td>Temptation and cravings</td>\n      <td>I want to relieve stress</td>\n      <td>Walking or jogging</td>\n      <td>Good</td>\n    </tr>\n    <tr>\n      <th>544</th>\n      <td>40 and above</td>\n      <td>Female</td>\n      <td>Never</td>\n      <td>Early morning</td>\n      <td>I don't really exercise</td>\n      <td>Not always</td>\n      <td>Cost;Temptation and cravings</td>\n      <td>I'm sorry ... I'm not really interested in exe...</td>\n      <td>I don't really exercise</td>\n      <td>Average</td>\n    </tr>\n  </tbody>\n</table>\n<p>545 rows × 10 columns</p>\n</div>"
     },
     "execution_count": 362,
     "metadata": {},
     "output_type": "execute_result"
    }
   ],
   "source": [
    "df"
   ],
   "metadata": {
    "collapsed": false,
    "ExecuteTime": {
     "end_time": "2023-12-17T01:35:09.685927400Z",
     "start_time": "2023-12-17T01:35:09.495379400Z"
    }
   },
   "id": "a2bbc27a3be22731"
  },
  {
   "cell_type": "code",
   "execution_count": 45,
   "outputs": [
    {
     "data": {
      "text/plain": "array([[<AxesSubplot:title={'center':'Exercise_Frequency'}>]],\n      dtype=object)"
     },
     "execution_count": 45,
     "metadata": {},
     "output_type": "execute_result"
    },
    {
     "data": {
      "text/plain": "<Figure size 640x480 with 1 Axes>",
      "image/png": "[encoded data removed]"
     },
     "metadata": {},
     "output_type": "display_data"
    }
   ],
   "source": [
    "df_features.hist(['Exercise_Frequency'])"
   ],
   "metadata": {
    "collapsed": false,
    "ExecuteTime": {
     "end_time": "2023-12-18T21:49:20.459785Z",
     "start_time": "2023-12-18T21:49:20.164584600Z"
    }
   },
   "id": "7ce7e0b9d4c5d69b"
  },
  {
   "cell_type": "code",
   "execution_count": 19,
   "outputs": [
    {
     "ename": "NameError",
     "evalue": "name 'df2' is not defined",
     "output_type": "error",
     "traceback": [
      "\u001B[1;31m---------------------------------------------------------------------------\u001B[0m",
      "\u001B[1;31mNameError\u001B[0m                                 Traceback (most recent call last)",
      "\u001B[1;32m~\\AppData\\Local\\Temp\\ipykernel_14052\\3851323551.py\u001B[0m in \u001B[0;36m<module>\u001B[1;34m\u001B[0m\n\u001B[0;32m      9\u001B[0m \u001B[1;31m# Apply mapping to the 'Healthy_Diet' column\u001B[0m\u001B[1;33m\u001B[0m\u001B[1;33m\u001B[0m\u001B[0m\n\u001B[0;32m     10\u001B[0m \u001B[0mdf_features\u001B[0m\u001B[1;33m[\u001B[0m\u001B[1;34m'Healthy_Diet'\u001B[0m\u001B[1;33m]\u001B[0m \u001B[1;33m=\u001B[0m \u001B[0mdf\u001B[0m\u001B[1;33m[\u001B[0m\u001B[1;34m'Healthy_Diet'\u001B[0m\u001B[1;33m]\u001B[0m\u001B[1;33m.\u001B[0m\u001B[0mmap\u001B[0m\u001B[1;33m(\u001B[0m\u001B[0mhealthy_diet_mapping\u001B[0m\u001B[1;33m)\u001B[0m\u001B[1;33m\u001B[0m\u001B[1;33m\u001B[0m\u001B[0m\n\u001B[1;32m---> 11\u001B[1;33m \u001B[0mdf2\u001B[0m\u001B[1;33m[\u001B[0m\u001B[1;34m'Healthy_Diet'\u001B[0m\u001B[1;33m]\u001B[0m \u001B[1;33m=\u001B[0m \u001B[0mdf2\u001B[0m\u001B[1;33m[\u001B[0m\u001B[1;34m'Healthy_Diet'\u001B[0m\u001B[1;33m]\u001B[0m\u001B[1;33m.\u001B[0m\u001B[0mmap\u001B[0m\u001B[1;33m(\u001B[0m\u001B[0mhealthy_diet_mapping\u001B[0m\u001B[1;33m)\u001B[0m\u001B[1;33m\u001B[0m\u001B[1;33m\u001B[0m\u001B[0m\n\u001B[0m",
      "\u001B[1;31mNameError\u001B[0m: name 'df2' is not defined"
     ]
    }
   ],
   "source": [
    "# Mapping dictionary for Healthy_Diet\n",
    "healthy_diet_mapping = {\n",
    "    'Yes': 1,\n",
    "    'No': 0,\n",
    "    'Not always': 0.5,  # Assign a value for 'Not always' (you can adjust this based on your preference)\n",
    "    # Add more mappings as needed\n",
    "}\n",
    "\n",
    "# Apply mapping to the 'Healthy_Diet' column\n",
    "df_features['Healthy_Diet'] = df['Healthy_Diet'].map(healthy_diet_mapping)\n",
    "df2['Healthy_Diet'] = df2['Healthy_Diet'].map(healthy_diet_mapping)"
   ],
   "metadata": {
    "collapsed": false,
    "ExecuteTime": {
     "start_time": "2023-12-18T21:05:01.243836400Z"
    }
   },
   "id": "298266e6b4c7951d"
  },
  {
   "cell_type": "code",
   "execution_count": 364,
   "outputs": [
    {
     "data": {
      "text/plain": "             Age     Sex  Exercise_Frequency  Time_Preference  \\\n0       19 to 25  Female                   1                1   \n1       19 to 25  Female                   1                1   \n2       15 to 18  Female                   2                1   \n3       15 to 18  Female                   4                3   \n4       19 to 25  Female                   1                3   \n5   40 and above  Female                   4                3   \n6   40 and above    Male                   2                1   \n7       15 to 18  Female                   1                1   \n8       19 to 25    Male                   4                3   \n9       15 to 18    Male                   6                1   \n10      15 to 18    Male                   4                1   \n11      19 to 25    Male                   4                1   \n12      15 to 18    Male                   1                3   \n13      15 to 18  Female                   2                3   \n14      19 to 25    Male                   2                3   \n15      15 to 18  Female                   6                1   \n16      15 to 18    Male                   1                3   \n17      15 to 18    Male                   2                1   \n18      19 to 25    Male                   1                1   \n19      15 to 18    Male                   6                1   \n\n    Exercise_Duration  Healthy_Diet  \\\n0                   0           0.5   \n1                   0           0.5   \n2                  30           0.5   \n3                  60           1.0   \n4                   0           1.0   \n5                  60           0.5   \n6                  30           0.0   \n7                   0           0.5   \n8                  60           0.0   \n9                  60           0.5   \n10                 60           1.0   \n11                120           0.0   \n12                  0           0.0   \n13                 30           0.5   \n14                 30           0.0   \n15                 30           0.5   \n16                  0           0.5   \n17                 60           0.5   \n18                 60           0.5   \n19                 30           0.5   \n\n                                        Diet_Barriers  \\\n0   Ease of access to fast food;Temptation and cra...   \n1   Ease of access to fast food;Temptation and cra...   \n2                             Temptation and cravings   \n3                             Temptation and cravings   \n4   Ease of access to fast food;Temptation and cra...   \n5                             Temptation and cravings   \n6                             Temptation and cravings   \n7                             Temptation and cravings   \n8                             Temptation and cravings   \n9                         Ease of access to fast food   \n10                                       Lack of time   \n11                            Temptation and cravings   \n12                            Temptation and cravings   \n13                            Temptation and cravings   \n14  Ease of access to fast food;Temptation and cra...   \n15                   Cost;Ease of access to fast food   \n16           Lack of time;Ease of access to fast food   \n17                            Temptation and cravings   \n18                            Temptation and cravings   \n19                            Temptation and cravings   \n\n                                  Exercise_Motivation  \\\n0   I'm sorry ... I'm not really interested in exe...   \n1   I want to be fit;I want to be flexible;I want ...   \n2                                    I want to be fit   \n3              I want to be fit;I want to lose weight   \n4                                    I want to be fit   \n5                               I want to be flexible   \n6                               I want to be flexible   \n7   I want to be fit;I'm sorry ... I'm not really ...   \n8   I want to be fit;I want to increase muscle mas...   \n9   I want to be fit;I want to lose weight;I want ...   \n10                                   I want to be fit   \n11  I want to be fit;I want to increase muscle mas...   \n12  I want to be fit;I want to increase muscle mas...   \n13             I want to be fit;I want to lose weight   \n14  I want to be fit;I want to increase muscle mas...   \n15                           I want to relieve stress   \n16  I want to relieve stress;I'm sorry ... I'm not...   \n17        I want to increase muscle mass and strength   \n18  I want to be fit;I want to increase muscle mas...   \n19  I want to increase muscle mass and strength;I ...   \n\n                           Exercise_Preference      Score  i_want_to_be_fit  \\\n0                      I don't really exercise       Good                 0   \n1                  Walking or jogging;Swimming  Very good                 1   \n2                           Walking or jogging       Good                 1   \n3       Walking or jogging;Gym;Lifting weights       Good                 1   \n4                      I don't really exercise      Unfit                 1   \n5                      Walking or jogging;Yoga    Average                 0   \n6                           Walking or jogging       Good                 0   \n7                           Walking or jogging      Unfit                 1   \n8                               Gym;Team sport      Unfit                 1   \n9                                          Gym  Very good                 1   \n10               Walking or jogging;Team sport  Very good                 1   \n11                          Walking or jogging      Unfit                 1   \n12                     I don't really exercise      Unfit                 1   \n13                          Walking or jogging    Average                 1   \n14                          Walking or jogging    Average                 1   \n15                     Walking or jogging;Yoga    Average                 0   \n16  Walking or jogging;I don't really exercise      Unfit                 0   \n17               Walking or jogging;Team sport       Good                 0   \n18                          Walking or jogging      Unfit                 1   \n19                          Walking or jogging       Good                 0   \n\n    i_want_to_increase_muscle_mass_and_strength  i_want_to_lose_weight  \\\n0                                             0                      0   \n1                                             0                      0   \n2                                             0                      0   \n3                                             0                      1   \n4                                             0                      0   \n5                                             0                      0   \n6                                             0                      0   \n7                                             0                      0   \n8                                             1                      1   \n9                                             0                      1   \n10                                            0                      0   \n11                                            1                      1   \n12                                            1                      1   \n13                                            0                      1   \n14                                            1                      1   \n15                                            0                      0   \n16                                            0                      0   \n17                                            1                      0   \n18                                            1                      1   \n19                                            1                      1   \n\n    i_want_to_be_flexible  i_want_to_relieve_stress  \\\n0                       0                         0   \n1                       1                         1   \n2                       0                         0   \n3                       0                         0   \n4                       0                         0   \n5                       1                         0   \n6                       1                         0   \n7                       0                         0   \n8                       0                         0   \n9                       0                         1   \n10                      0                         0   \n11                      0                         0   \n12                      0                         0   \n13                      0                         0   \n14                      1                         1   \n15                      0                         1   \n16                      0                         1   \n17                      0                         0   \n18                      1                         1   \n19                      1                         0   \n\n    i_want_to_achieve_a_sporting_goal  i'm_not_really_interested_in_exercising  \n0                                   0                                        1  \n1                                   0                                        1  \n2                                   0                                        0  \n3                                   0                                        0  \n4                                   0                                        0  \n5                                   0                                        0  \n6                                   0                                        0  \n7                                   0                                        1  \n8                                   0                                        0  \n9                                   0                                        0  \n10                                  0                                        0  \n11                                  0                                        0  \n12                                  0                                        0  \n13                                  0                                        0  \n14                                  1                                        0  \n15                                  0                                        0  \n16                                  0                                        1  \n17                                  0                                        0  \n18                                  0                                        0  \n19                                  0                                        0  ",
      "text/html": "<div>\n<style scoped>\n    .dataframe tbody tr th:only-of-type {\n        vertical-align: middle;\n    }\n\n    .dataframe tbody tr th {\n        vertical-align: top;\n    }\n\n    .dataframe thead th {\n        text-align: right;\n    }\n</style>\n<table border=\"1\" class=\"dataframe\">\n  <thead>\n    <tr style=\"text-align: right;\">\n      <th></th>\n      <th>Age</th>\n      <th>Sex</th>\n      <th>Exercise_Frequency</th>\n      <th>Time_Preference</th>\n      <th>Exercise_Duration</th>\n      <th>Healthy_Diet</th>\n      <th>Diet_Barriers</th>\n      <th>Exercise_Motivation</th>\n      <th>Exercise_Preference</th>\n      <th>Score</th>\n      <th>i_want_to_be_fit</th>\n      <th>i_want_to_increase_muscle_mass_and_strength</th>\n      <th>i_want_to_lose_weight</th>\n      <th>i_want_to_be_flexible</th>\n      <th>i_want_to_relieve_stress</th>\n      <th>i_want_to_achieve_a_sporting_goal</th>\n      <th>i'm_not_really_interested_in_exercising</th>\n    </tr>\n  </thead>\n  <tbody>\n    <tr>\n      <th>0</th>\n      <td>19 to 25</td>\n      <td>Female</td>\n      <td>1</td>\n      <td>1</td>\n      <td>0</td>\n      <td>0.5</td>\n      <td>Ease of access to fast food;Temptation and cra...</td>\n      <td>I'm sorry ... I'm not really interested in exe...</td>\n      <td>I don't really exercise</td>\n      <td>Good</td>\n      <td>0</td>\n      <td>0</td>\n      <td>0</td>\n      <td>0</td>\n      <td>0</td>\n      <td>0</td>\n      <td>1</td>\n    </tr>\n    <tr>\n      <th>1</th>\n      <td>19 to 25</td>\n      <td>Female</td>\n      <td>1</td>\n      <td>1</td>\n      <td>0</td>\n      <td>0.5</td>\n      <td>Ease of access to fast food;Temptation and cra...</td>\n      <td>I want to be fit;I want to be flexible;I want ...</td>\n      <td>Walking or jogging;Swimming</td>\n      <td>Very good</td>\n      <td>1</td>\n      <td>0</td>\n      <td>0</td>\n      <td>1</td>\n      <td>1</td>\n      <td>0</td>\n      <td>1</td>\n    </tr>\n    <tr>\n      <th>2</th>\n      <td>15 to 18</td>\n      <td>Female</td>\n      <td>2</td>\n      <td>1</td>\n      <td>30</td>\n      <td>0.5</td>\n      <td>Temptation and cravings</td>\n      <td>I want to be fit</td>\n      <td>Walking or jogging</td>\n      <td>Good</td>\n      <td>1</td>\n      <td>0</td>\n      <td>0</td>\n      <td>0</td>\n      <td>0</td>\n      <td>0</td>\n      <td>0</td>\n    </tr>\n    <tr>\n      <th>3</th>\n      <td>15 to 18</td>\n      <td>Female</td>\n      <td>4</td>\n      <td>3</td>\n      <td>60</td>\n      <td>1.0</td>\n      <td>Temptation and cravings</td>\n      <td>I want to be fit;I want to lose weight</td>\n      <td>Walking or jogging;Gym;Lifting weights</td>\n      <td>Good</td>\n      <td>1</td>\n      <td>0</td>\n      <td>1</td>\n      <td>0</td>\n      <td>0</td>\n      <td>0</td>\n      <td>0</td>\n    </tr>\n    <tr>\n      <th>4</th>\n      <td>19 to 25</td>\n      <td>Female</td>\n      <td>1</td>\n      <td>3</td>\n      <td>0</td>\n      <td>1.0</td>\n      <td>Ease of access to fast food;Temptation and cra...</td>\n      <td>I want to be fit</td>\n      <td>I don't really exercise</td>\n      <td>Unfit</td>\n      <td>1</td>\n      <td>0</td>\n      <td>0</td>\n      <td>0</td>\n      <td>0</td>\n      <td>0</td>\n      <td>0</td>\n    </tr>\n    <tr>\n      <th>5</th>\n      <td>40 and above</td>\n      <td>Female</td>\n      <td>4</td>\n      <td>3</td>\n      <td>60</td>\n      <td>0.5</td>\n      <td>Temptation and cravings</td>\n      <td>I want to be flexible</td>\n      <td>Walking or jogging;Yoga</td>\n      <td>Average</td>\n      <td>0</td>\n      <td>0</td>\n      <td>0</td>\n      <td>1</td>\n      <td>0</td>\n      <td>0</td>\n      <td>0</td>\n    </tr>\n    <tr>\n      <th>6</th>\n      <td>40 and above</td>\n      <td>Male</td>\n      <td>2</td>\n      <td>1</td>\n      <td>30</td>\n      <td>0.0</td>\n      <td>Temptation and cravings</td>\n      <td>I want to be flexible</td>\n      <td>Walking or jogging</td>\n      <td>Good</td>\n      <td>0</td>\n      <td>0</td>\n      <td>0</td>\n      <td>1</td>\n      <td>0</td>\n      <td>0</td>\n      <td>0</td>\n    </tr>\n    <tr>\n      <th>7</th>\n      <td>15 to 18</td>\n      <td>Female</td>\n      <td>1</td>\n      <td>1</td>\n      <td>0</td>\n      <td>0.5</td>\n      <td>Temptation and cravings</td>\n      <td>I want to be fit;I'm sorry ... I'm not really ...</td>\n      <td>Walking or jogging</td>\n      <td>Unfit</td>\n      <td>1</td>\n      <td>0</td>\n      <td>0</td>\n      <td>0</td>\n      <td>0</td>\n      <td>0</td>\n      <td>1</td>\n    </tr>\n    <tr>\n      <th>8</th>\n      <td>19 to 25</td>\n      <td>Male</td>\n      <td>4</td>\n      <td>3</td>\n      <td>60</td>\n      <td>0.0</td>\n      <td>Temptation and cravings</td>\n      <td>I want to be fit;I want to increase muscle mas...</td>\n      <td>Gym;Team sport</td>\n      <td>Unfit</td>\n      <td>1</td>\n      <td>1</td>\n      <td>1</td>\n      <td>0</td>\n      <td>0</td>\n      <td>0</td>\n      <td>0</td>\n    </tr>\n    <tr>\n      <th>9</th>\n      <td>15 to 18</td>\n      <td>Male</td>\n      <td>6</td>\n      <td>1</td>\n      <td>60</td>\n      <td>0.5</td>\n      <td>Ease of access to fast food</td>\n      <td>I want to be fit;I want to lose weight;I want ...</td>\n      <td>Gym</td>\n      <td>Very good</td>\n      <td>1</td>\n      <td>0</td>\n      <td>1</td>\n      <td>0</td>\n      <td>1</td>\n      <td>0</td>\n      <td>0</td>\n    </tr>\n    <tr>\n      <th>10</th>\n      <td>15 to 18</td>\n      <td>Male</td>\n      <td>4</td>\n      <td>1</td>\n      <td>60</td>\n      <td>1.0</td>\n      <td>Lack of time</td>\n      <td>I want to be fit</td>\n      <td>Walking or jogging;Team sport</td>\n      <td>Very good</td>\n      <td>1</td>\n      <td>0</td>\n      <td>0</td>\n      <td>0</td>\n      <td>0</td>\n      <td>0</td>\n      <td>0</td>\n    </tr>\n    <tr>\n      <th>11</th>\n      <td>19 to 25</td>\n      <td>Male</td>\n      <td>4</td>\n      <td>1</td>\n      <td>120</td>\n      <td>0.0</td>\n      <td>Temptation and cravings</td>\n      <td>I want to be fit;I want to increase muscle mas...</td>\n      <td>Walking or jogging</td>\n      <td>Unfit</td>\n      <td>1</td>\n      <td>1</td>\n      <td>1</td>\n      <td>0</td>\n      <td>0</td>\n      <td>0</td>\n      <td>0</td>\n    </tr>\n    <tr>\n      <th>12</th>\n      <td>15 to 18</td>\n      <td>Male</td>\n      <td>1</td>\n      <td>3</td>\n      <td>0</td>\n      <td>0.0</td>\n      <td>Temptation and cravings</td>\n      <td>I want to be fit;I want to increase muscle mas...</td>\n      <td>I don't really exercise</td>\n      <td>Unfit</td>\n      <td>1</td>\n      <td>1</td>\n      <td>1</td>\n      <td>0</td>\n      <td>0</td>\n      <td>0</td>\n      <td>0</td>\n    </tr>\n    <tr>\n      <th>13</th>\n      <td>15 to 18</td>\n      <td>Female</td>\n      <td>2</td>\n      <td>3</td>\n      <td>30</td>\n      <td>0.5</td>\n      <td>Temptation and cravings</td>\n      <td>I want to be fit;I want to lose weight</td>\n      <td>Walking or jogging</td>\n      <td>Average</td>\n      <td>1</td>\n      <td>0</td>\n      <td>1</td>\n      <td>0</td>\n      <td>0</td>\n      <td>0</td>\n      <td>0</td>\n    </tr>\n    <tr>\n      <th>14</th>\n      <td>19 to 25</td>\n      <td>Male</td>\n      <td>2</td>\n      <td>3</td>\n      <td>30</td>\n      <td>0.0</td>\n      <td>Ease of access to fast food;Temptation and cra...</td>\n      <td>I want to be fit;I want to increase muscle mas...</td>\n      <td>Walking or jogging</td>\n      <td>Average</td>\n      <td>1</td>\n      <td>1</td>\n      <td>1</td>\n      <td>1</td>\n      <td>1</td>\n      <td>1</td>\n      <td>0</td>\n    </tr>\n    <tr>\n      <th>15</th>\n      <td>15 to 18</td>\n      <td>Female</td>\n      <td>6</td>\n      <td>1</td>\n      <td>30</td>\n      <td>0.5</td>\n      <td>Cost;Ease of access to fast food</td>\n      <td>I want to relieve stress</td>\n      <td>Walking or jogging;Yoga</td>\n      <td>Average</td>\n      <td>0</td>\n      <td>0</td>\n      <td>0</td>\n      <td>0</td>\n      <td>1</td>\n      <td>0</td>\n      <td>0</td>\n    </tr>\n    <tr>\n      <th>16</th>\n      <td>15 to 18</td>\n      <td>Male</td>\n      <td>1</td>\n      <td>3</td>\n      <td>0</td>\n      <td>0.5</td>\n      <td>Lack of time;Ease of access to fast food</td>\n      <td>I want to relieve stress;I'm sorry ... I'm not...</td>\n      <td>Walking or jogging;I don't really exercise</td>\n      <td>Unfit</td>\n      <td>0</td>\n      <td>0</td>\n      <td>0</td>\n      <td>0</td>\n      <td>1</td>\n      <td>0</td>\n      <td>1</td>\n    </tr>\n    <tr>\n      <th>17</th>\n      <td>15 to 18</td>\n      <td>Male</td>\n      <td>2</td>\n      <td>1</td>\n      <td>60</td>\n      <td>0.5</td>\n      <td>Temptation and cravings</td>\n      <td>I want to increase muscle mass and strength</td>\n      <td>Walking or jogging;Team sport</td>\n      <td>Good</td>\n      <td>0</td>\n      <td>1</td>\n      <td>0</td>\n      <td>0</td>\n      <td>0</td>\n      <td>0</td>\n      <td>0</td>\n    </tr>\n    <tr>\n      <th>18</th>\n      <td>19 to 25</td>\n      <td>Male</td>\n      <td>1</td>\n      <td>1</td>\n      <td>60</td>\n      <td>0.5</td>\n      <td>Temptation and cravings</td>\n      <td>I want to be fit;I want to increase muscle mas...</td>\n      <td>Walking or jogging</td>\n      <td>Unfit</td>\n      <td>1</td>\n      <td>1</td>\n      <td>1</td>\n      <td>1</td>\n      <td>1</td>\n      <td>0</td>\n      <td>0</td>\n    </tr>\n    <tr>\n      <th>19</th>\n      <td>15 to 18</td>\n      <td>Male</td>\n      <td>6</td>\n      <td>1</td>\n      <td>30</td>\n      <td>0.5</td>\n      <td>Temptation and cravings</td>\n      <td>I want to increase muscle mass and strength;I ...</td>\n      <td>Walking or jogging</td>\n      <td>Good</td>\n      <td>0</td>\n      <td>1</td>\n      <td>1</td>\n      <td>1</td>\n      <td>0</td>\n      <td>0</td>\n      <td>0</td>\n    </tr>\n  </tbody>\n</table>\n</div>"
     },
     "execution_count": 364,
     "metadata": {},
     "output_type": "execute_result"
    }
   ],
   "source": [
    "df_features.head(20)"
   ],
   "metadata": {
    "collapsed": false,
    "ExecuteTime": {
     "start_time": "2023-12-17T01:35:24.529953700Z"
    }
   },
   "id": "bf41a312b11c9ba8"
  },
  {
   "cell_type": "code",
   "execution_count": 364,
   "outputs": [],
   "source": [],
   "metadata": {
    "collapsed": false,
    "ExecuteTime": {
     "start_time": "2023-12-17T01:35:25.257345500Z"
    }
   },
   "id": "92f79e7a4b0aa1b3"
  },
  {
   "cell_type": "code",
   "execution_count": 364,
   "outputs": [],
   "source": [],
   "metadata": {
    "collapsed": false,
    "ExecuteTime": {
     "start_time": "2023-12-17T01:35:26.047601500Z"
    }
   },
   "id": "ce26d44b6edf41e1"
  },
  {
   "cell_type": "code",
   "execution_count": 20,
   "outputs": [],
   "source": [
    "age_mapping = {\n",
    "    '19 to 25': 1,\n",
    "    '15 to 18': 2,\n",
    "    '26 to 30': 3,\n",
    "    '30 to 40': 4,\n",
    "    '40 and above': 5,\n",
    "    # Add more mappings as needed\n",
    "}\n",
    "\n",
    "# Apply mapping to the 'Age' column\n",
    "df_features['Age'] = df['Age'].map(age_mapping)"
   ],
   "metadata": {
    "collapsed": false,
    "ExecuteTime": {
     "start_time": "2023-12-18T21:05:06.957269Z"
    }
   },
   "id": "6ed56c55b8db47b2"
  },
  {
   "cell_type": "code",
   "execution_count": 22,
   "outputs": [],
   "source": [
    "exercise_forms = [\n",
    "    'Walking or jogging',\n",
    "    'Gym',\n",
    "    'Swimming',\n",
    "    'Yoga',\n",
    "    'Zumba dance',\n",
    "    'Lifting weights',\n",
    "    'Team sport',\n",
    "    \"I don't really exercise\"\n",
    "]\n",
    "\n",
    "for form in exercise_forms:\n",
    "    column_name = form.replace(' ', '_').lower()  # Convert to lowercase and replace spaces with underscores\n",
    "    df_features[column_name] = df['Exercise_Preference'].str.contains(form).astype(int)\n"
   ],
   "metadata": {
    "collapsed": false,
    "ExecuteTime": {
     "start_time": "2023-12-18T21:05:09.484089300Z"
    }
   },
   "id": "dbd1eeeff1dd82c"
  },
  {
   "cell_type": "code",
   "execution_count": 23,
   "outputs": [],
   "source": [
    "# List of columns to be deleted\n",
    "columns_to_delete = ['Exercise_Preference', 'Exercise_Motivation', 'Diet_Barriers']\n",
    "\n",
    "# Drop the specified columns\n",
    "df_features = df_features.drop(columns=columns_to_delete, errors='ignore')\n"
   ],
   "metadata": {
    "collapsed": false,
    "ExecuteTime": {
     "start_time": "2023-12-18T21:05:15.800708Z"
    }
   },
   "id": "622a13c893dd4cbb"
  },
  {
   "cell_type": "code",
   "execution_count": 24,
   "outputs": [],
   "source": [
    "# Mapping dictionary for Fitness_Level\n",
    "fitness_level_mapping = {\n",
    "    'Perfect': 5,\n",
    "    'Very good': 4,\n",
    "    'Good': 3,\n",
    "    'Average': 2,\n",
    "    'Unfit': 1,\n",
    "    # Add more mappings as needed\n",
    "}\n",
    "\n",
    "# Apply mapping to the 'Fitness_Level' column\n",
    "df_features['Score'] = df['Score'].map(fitness_level_mapping)\n"
   ],
   "metadata": {
    "collapsed": false,
    "ExecuteTime": {
     "start_time": "2023-12-18T21:05:18.487483600Z"
    }
   },
   "id": "eac7f363116c6273"
  },
  {
   "cell_type": "code",
   "execution_count": 25,
   "outputs": [
    {
     "data": {
      "text/plain": "array([3, 4, 1, 2, 5], dtype=int64)"
     },
     "execution_count": 25,
     "metadata": {},
     "output_type": "execute_result"
    }
   ],
   "source": [
    "df_features.Score.unique()"
   ],
   "metadata": {
    "collapsed": false,
    "ExecuteTime": {
     "start_time": "2023-12-18T21:05:22.226561700Z"
    }
   },
   "id": "ee91bd88b0fd8b50"
  },
  {
   "cell_type": "code",
   "execution_count": 370,
   "outputs": [
    {
     "data": {
      "text/plain": "    Age     Sex  Exercise_Frequency  Time_Preference  Exercise_Duration  \\\n0     1  Female                   1                1                  0   \n1     1  Female                   1                1                  0   \n2     2  Female                   2                1                 30   \n3     2  Female                   4                3                 60   \n4     1  Female                   1                3                  0   \n5     5  Female                   4                3                 60   \n6     5    Male                   2                1                 30   \n7     2  Female                   1                1                  0   \n8     1    Male                   4                3                 60   \n9     2    Male                   6                1                 60   \n10    2    Male                   4                1                 60   \n11    1    Male                   4                1                120   \n12    2    Male                   1                3                  0   \n13    2  Female                   2                3                 30   \n14    1    Male                   2                3                 30   \n15    2  Female                   6                1                 30   \n16    2    Male                   1                3                  0   \n17    2    Male                   2                1                 60   \n18    1    Male                   1                1                 60   \n19    2    Male                   6                1                 30   \n\n    Healthy_Diet  Score  i_want_to_be_fit  \\\n0            0.5      3                 0   \n1            0.5      4                 1   \n2            0.5      3                 1   \n3            1.0      3                 1   \n4            1.0      1                 1   \n5            0.5      2                 0   \n6            0.0      3                 0   \n7            0.5      1                 1   \n8            0.0      1                 1   \n9            0.5      4                 1   \n10           1.0      4                 1   \n11           0.0      1                 1   \n12           0.0      1                 1   \n13           0.5      2                 1   \n14           0.0      2                 1   \n15           0.5      2                 0   \n16           0.5      1                 0   \n17           0.5      3                 0   \n18           0.5      1                 1   \n19           0.5      3                 0   \n\n    i_want_to_increase_muscle_mass_and_strength  i_want_to_lose_weight  ...  \\\n0                                             0                      0  ...   \n1                                             0                      0  ...   \n2                                             0                      0  ...   \n3                                             0                      1  ...   \n4                                             0                      0  ...   \n5                                             0                      0  ...   \n6                                             0                      0  ...   \n7                                             0                      0  ...   \n8                                             1                      1  ...   \n9                                             0                      1  ...   \n10                                            0                      0  ...   \n11                                            1                      1  ...   \n12                                            1                      1  ...   \n13                                            0                      1  ...   \n14                                            1                      1  ...   \n15                                            0                      0  ...   \n16                                            0                      0  ...   \n17                                            1                      0  ...   \n18                                            1                      1  ...   \n19                                            1                      1  ...   \n\n    i_want_to_achieve_a_sporting_goal  \\\n0                                   0   \n1                                   0   \n2                                   0   \n3                                   0   \n4                                   0   \n5                                   0   \n6                                   0   \n7                                   0   \n8                                   0   \n9                                   0   \n10                                  0   \n11                                  0   \n12                                  0   \n13                                  0   \n14                                  1   \n15                                  0   \n16                                  0   \n17                                  0   \n18                                  0   \n19                                  0   \n\n    i'm_not_really_interested_in_exercising  walking_or_jogging  gym  \\\n0                                         1                   0    0   \n1                                         1                   1    0   \n2                                         0                   1    0   \n3                                         0                   1    1   \n4                                         0                   0    0   \n5                                         0                   1    0   \n6                                         0                   1    0   \n7                                         1                   1    0   \n8                                         0                   0    1   \n9                                         0                   0    1   \n10                                        0                   1    0   \n11                                        0                   1    0   \n12                                        0                   0    0   \n13                                        0                   1    0   \n14                                        0                   1    0   \n15                                        0                   1    0   \n16                                        1                   1    0   \n17                                        0                   1    0   \n18                                        0                   1    0   \n19                                        0                   1    0   \n\n    swimming  yoga  zumba_dance  lifting_weights  team_sport  \\\n0          0     0            0                0           0   \n1          1     0            0                0           0   \n2          0     0            0                0           0   \n3          0     0            0                1           0   \n4          0     0            0                0           0   \n5          0     1            0                0           0   \n6          0     0            0                0           0   \n7          0     0            0                0           0   \n8          0     0            0                0           1   \n9          0     0            0                0           0   \n10         0     0            0                0           1   \n11         0     0            0                0           0   \n12         0     0            0                0           0   \n13         0     0            0                0           0   \n14         0     0            0                0           0   \n15         0     1            0                0           0   \n16         0     0            0                0           0   \n17         0     0            0                0           1   \n18         0     0            0                0           0   \n19         0     0            0                0           0   \n\n    i_don't_really_exercise  \n0                         1  \n1                         0  \n2                         0  \n3                         0  \n4                         1  \n5                         0  \n6                         0  \n7                         0  \n8                         0  \n9                         0  \n10                        0  \n11                        0  \n12                        1  \n13                        0  \n14                        0  \n15                        0  \n16                        1  \n17                        0  \n18                        0  \n19                        0  \n\n[20 rows x 22 columns]",
      "text/html": "<div>\n<style scoped>\n    .dataframe tbody tr th:only-of-type {\n        vertical-align: middle;\n    }\n\n    .dataframe tbody tr th {\n        vertical-align: top;\n    }\n\n    .dataframe thead th {\n        text-align: right;\n    }\n</style>\n<table border=\"1\" class=\"dataframe\">\n  <thead>\n    <tr style=\"text-align: right;\">\n      <th></th>\n      <th>Age</th>\n      <th>Sex</th>\n      <th>Exercise_Frequency</th>\n      <th>Time_Preference</th>\n      <th>Exercise_Duration</th>\n      <th>Healthy_Diet</th>\n      <th>Score</th>\n      <th>i_want_to_be_fit</th>\n      <th>i_want_to_increase_muscle_mass_and_strength</th>\n      <th>i_want_to_lose_weight</th>\n      <th>...</th>\n      <th>i_want_to_achieve_a_sporting_goal</th>\n      <th>i'm_not_really_interested_in_exercising</th>\n      <th>walking_or_jogging</th>\n      <th>gym</th>\n      <th>swimming</th>\n      <th>yoga</th>\n      <th>zumba_dance</th>\n      <th>lifting_weights</th>\n      <th>team_sport</th>\n      <th>i_don't_really_exercise</th>\n    </tr>\n  </thead>\n  <tbody>\n    <tr>\n      <th>0</th>\n      <td>1</td>\n      <td>Female</td>\n      <td>1</td>\n      <td>1</td>\n      <td>0</td>\n      <td>0.5</td>\n      <td>3</td>\n      <td>0</td>\n      <td>0</td>\n      <td>0</td>\n      <td>...</td>\n      <td>0</td>\n      <td>1</td>\n      <td>0</td>\n      <td>0</td>\n      <td>0</td>\n      <td>0</td>\n      <td>0</td>\n      <td>0</td>\n      <td>0</td>\n      <td>1</td>\n    </tr>\n    <tr>\n      <th>1</th>\n      <td>1</td>\n      <td>Female</td>\n      <td>1</td>\n      <td>1</td>\n      <td>0</td>\n      <td>0.5</td>\n      <td>4</td>\n      <td>1</td>\n      <td>0</td>\n      <td>0</td>\n      <td>...</td>\n      <td>0</td>\n      <td>1</td>\n      <td>1</td>\n      <td>0</td>\n      <td>1</td>\n      <td>0</td>\n      <td>0</td>\n      <td>0</td>\n      <td>0</td>\n      <td>0</td>\n    </tr>\n    <tr>\n      <th>2</th>\n      <td>2</td>\n      <td>Female</td>\n      <td>2</td>\n      <td>1</td>\n      <td>30</td>\n      <td>0.5</td>\n      <td>3</td>\n      <td>1</td>\n      <td>0</td>\n      <td>0</td>\n      <td>...</td>\n      <td>0</td>\n      <td>0</td>\n      <td>1</td>\n      <td>0</td>\n      <td>0</td>\n      <td>0</td>\n      <td>0</td>\n      <td>0</td>\n      <td>0</td>\n      <td>0</td>\n    </tr>\n    <tr>\n      <th>3</th>\n      <td>2</td>\n      <td>Female</td>\n      <td>4</td>\n      <td>3</td>\n      <td>60</td>\n      <td>1.0</td>\n      <td>3</td>\n      <td>1</td>\n      <td>0</td>\n      <td>1</td>\n      <td>...</td>\n      <td>0</td>\n      <td>0</td>\n      <td>1</td>\n      <td>1</td>\n      <td>0</td>\n      <td>0</td>\n      <td>0</td>\n      <td>1</td>\n      <td>0</td>\n      <td>0</td>\n    </tr>\n    <tr>\n      <th>4</th>\n      <td>1</td>\n      <td>Female</td>\n      <td>1</td>\n      <td>3</td>\n      <td>0</td>\n      <td>1.0</td>\n      <td>1</td>\n      <td>1</td>\n      <td>0</td>\n      <td>0</td>\n      <td>...</td>\n      <td>0</td>\n      <td>0</td>\n      <td>0</td>\n      <td>0</td>\n      <td>0</td>\n      <td>0</td>\n      <td>0</td>\n      <td>0</td>\n      <td>0</td>\n      <td>1</td>\n    </tr>\n    <tr>\n      <th>5</th>\n      <td>5</td>\n      <td>Female</td>\n      <td>4</td>\n      <td>3</td>\n      <td>60</td>\n      <td>0.5</td>\n      <td>2</td>\n      <td>0</td>\n      <td>0</td>\n      <td>0</td>\n      <td>...</td>\n      <td>0</td>\n      <td>0</td>\n      <td>1</td>\n      <td>0</td>\n      <td>0</td>\n      <td>1</td>\n      <td>0</td>\n      <td>0</td>\n      <td>0</td>\n      <td>0</td>\n    </tr>\n    <tr>\n      <th>6</th>\n      <td>5</td>\n      <td>Male</td>\n      <td>2</td>\n      <td>1</td>\n      <td>30</td>\n      <td>0.0</td>\n      <td>3</td>\n      <td>0</td>\n      <td>0</td>\n      <td>0</td>\n      <td>...</td>\n      <td>0</td>\n      <td>0</td>\n      <td>1</td>\n      <td>0</td>\n      <td>0</td>\n      <td>0</td>\n      <td>0</td>\n      <td>0</td>\n      <td>0</td>\n      <td>0</td>\n    </tr>\n    <tr>\n      <th>7</th>\n      <td>2</td>\n      <td>Female</td>\n      <td>1</td>\n      <td>1</td>\n      <td>0</td>\n      <td>0.5</td>\n      <td>1</td>\n      <td>1</td>\n      <td>0</td>\n      <td>0</td>\n      <td>...</td>\n      <td>0</td>\n      <td>1</td>\n      <td>1</td>\n      <td>0</td>\n      <td>0</td>\n      <td>0</td>\n      <td>0</td>\n      <td>0</td>\n      <td>0</td>\n      <td>0</td>\n    </tr>\n    <tr>\n      <th>8</th>\n      <td>1</td>\n      <td>Male</td>\n      <td>4</td>\n      <td>3</td>\n      <td>60</td>\n      <td>0.0</td>\n      <td>1</td>\n      <td>1</td>\n      <td>1</td>\n      <td>1</td>\n      <td>...</td>\n      <td>0</td>\n      <td>0</td>\n      <td>0</td>\n      <td>1</td>\n      <td>0</td>\n      <td>0</td>\n      <td>0</td>\n      <td>0</td>\n      <td>1</td>\n      <td>0</td>\n    </tr>\n    <tr>\n      <th>9</th>\n      <td>2</td>\n      <td>Male</td>\n      <td>6</td>\n      <td>1</td>\n      <td>60</td>\n      <td>0.5</td>\n      <td>4</td>\n      <td>1</td>\n      <td>0</td>\n      <td>1</td>\n      <td>...</td>\n      <td>0</td>\n      <td>0</td>\n      <td>0</td>\n      <td>1</td>\n      <td>0</td>\n      <td>0</td>\n      <td>0</td>\n      <td>0</td>\n      <td>0</td>\n      <td>0</td>\n    </tr>\n    <tr>\n      <th>10</th>\n      <td>2</td>\n      <td>Male</td>\n      <td>4</td>\n      <td>1</td>\n      <td>60</td>\n      <td>1.0</td>\n      <td>4</td>\n      <td>1</td>\n      <td>0</td>\n      <td>0</td>\n      <td>...</td>\n      <td>0</td>\n      <td>0</td>\n      <td>1</td>\n      <td>0</td>\n      <td>0</td>\n      <td>0</td>\n      <td>0</td>\n      <td>0</td>\n      <td>1</td>\n      <td>0</td>\n    </tr>\n    <tr>\n      <th>11</th>\n      <td>1</td>\n      <td>Male</td>\n      <td>4</td>\n      <td>1</td>\n      <td>120</td>\n      <td>0.0</td>\n      <td>1</td>\n      <td>1</td>\n      <td>1</td>\n      <td>1</td>\n      <td>...</td>\n      <td>0</td>\n      <td>0</td>\n      <td>1</td>\n      <td>0</td>\n      <td>0</td>\n      <td>0</td>\n      <td>0</td>\n      <td>0</td>\n      <td>0</td>\n      <td>0</td>\n    </tr>\n    <tr>\n      <th>12</th>\n      <td>2</td>\n      <td>Male</td>\n      <td>1</td>\n      <td>3</td>\n      <td>0</td>\n      <td>0.0</td>\n      <td>1</td>\n      <td>1</td>\n      <td>1</td>\n      <td>1</td>\n      <td>...</td>\n      <td>0</td>\n      <td>0</td>\n      <td>0</td>\n      <td>0</td>\n      <td>0</td>\n      <td>0</td>\n      <td>0</td>\n      <td>0</td>\n      <td>0</td>\n      <td>1</td>\n    </tr>\n    <tr>\n      <th>13</th>\n      <td>2</td>\n      <td>Female</td>\n      <td>2</td>\n      <td>3</td>\n      <td>30</td>\n      <td>0.5</td>\n      <td>2</td>\n      <td>1</td>\n      <td>0</td>\n      <td>1</td>\n      <td>...</td>\n      <td>0</td>\n      <td>0</td>\n      <td>1</td>\n      <td>0</td>\n      <td>0</td>\n      <td>0</td>\n      <td>0</td>\n      <td>0</td>\n      <td>0</td>\n      <td>0</td>\n    </tr>\n    <tr>\n      <th>14</th>\n      <td>1</td>\n      <td>Male</td>\n      <td>2</td>\n      <td>3</td>\n      <td>30</td>\n      <td>0.0</td>\n      <td>2</td>\n      <td>1</td>\n      <td>1</td>\n      <td>1</td>\n      <td>...</td>\n      <td>1</td>\n      <td>0</td>\n      <td>1</td>\n      <td>0</td>\n      <td>0</td>\n      <td>0</td>\n      <td>0</td>\n      <td>0</td>\n      <td>0</td>\n      <td>0</td>\n    </tr>\n    <tr>\n      <th>15</th>\n      <td>2</td>\n      <td>Female</td>\n      <td>6</td>\n      <td>1</td>\n      <td>30</td>\n      <td>0.5</td>\n      <td>2</td>\n      <td>0</td>\n      <td>0</td>\n      <td>0</td>\n      <td>...</td>\n      <td>0</td>\n      <td>0</td>\n      <td>1</td>\n      <td>0</td>\n      <td>0</td>\n      <td>1</td>\n      <td>0</td>\n      <td>0</td>\n      <td>0</td>\n      <td>0</td>\n    </tr>\n    <tr>\n      <th>16</th>\n      <td>2</td>\n      <td>Male</td>\n      <td>1</td>\n      <td>3</td>\n      <td>0</td>\n      <td>0.5</td>\n      <td>1</td>\n      <td>0</td>\n      <td>0</td>\n      <td>0</td>\n      <td>...</td>\n      <td>0</td>\n      <td>1</td>\n      <td>1</td>\n      <td>0</td>\n      <td>0</td>\n      <td>0</td>\n      <td>0</td>\n      <td>0</td>\n      <td>0</td>\n      <td>1</td>\n    </tr>\n    <tr>\n      <th>17</th>\n      <td>2</td>\n      <td>Male</td>\n      <td>2</td>\n      <td>1</td>\n      <td>60</td>\n      <td>0.5</td>\n      <td>3</td>\n      <td>0</td>\n      <td>1</td>\n      <td>0</td>\n      <td>...</td>\n      <td>0</td>\n      <td>0</td>\n      <td>1</td>\n      <td>0</td>\n      <td>0</td>\n      <td>0</td>\n      <td>0</td>\n      <td>0</td>\n      <td>1</td>\n      <td>0</td>\n    </tr>\n    <tr>\n      <th>18</th>\n      <td>1</td>\n      <td>Male</td>\n      <td>1</td>\n      <td>1</td>\n      <td>60</td>\n      <td>0.5</td>\n      <td>1</td>\n      <td>1</td>\n      <td>1</td>\n      <td>1</td>\n      <td>...</td>\n      <td>0</td>\n      <td>0</td>\n      <td>1</td>\n      <td>0</td>\n      <td>0</td>\n      <td>0</td>\n      <td>0</td>\n      <td>0</td>\n      <td>0</td>\n      <td>0</td>\n    </tr>\n    <tr>\n      <th>19</th>\n      <td>2</td>\n      <td>Male</td>\n      <td>6</td>\n      <td>1</td>\n      <td>30</td>\n      <td>0.5</td>\n      <td>3</td>\n      <td>0</td>\n      <td>1</td>\n      <td>1</td>\n      <td>...</td>\n      <td>0</td>\n      <td>0</td>\n      <td>1</td>\n      <td>0</td>\n      <td>0</td>\n      <td>0</td>\n      <td>0</td>\n      <td>0</td>\n      <td>0</td>\n      <td>0</td>\n    </tr>\n  </tbody>\n</table>\n<p>20 rows × 22 columns</p>\n</div>"
     },
     "execution_count": 370,
     "metadata": {},
     "output_type": "execute_result"
    }
   ],
   "source": [
    "df_features.head(20)"
   ],
   "metadata": {
    "collapsed": false,
    "ExecuteTime": {
     "start_time": "2023-12-17T01:35:35.063082400Z"
    }
   },
   "id": "9191e90c92986189"
  },
  {
   "cell_type": "code",
   "execution_count": 26,
   "outputs": [],
   "source": [
    "target = 'Score'"
   ],
   "metadata": {
    "collapsed": false,
    "ExecuteTime": {
     "start_time": "2023-12-18T21:05:29.535246Z"
    }
   },
   "id": "d8c950f08a8cd8f5"
  },
  {
   "cell_type": "code",
   "execution_count": 40,
   "outputs": [
    {
     "data": {
      "text/plain": "<Figure size 800x800 with 1 Axes>",
      "image/png": "[encoded data removed]"
     },
     "metadata": {},
     "output_type": "display_data"
    }
   ],
   "source": [
    "import matplotlib.pyplot as plt\n",
    "\n",
    "\n",
    "value_counts = df_features['Sex'].value_counts()\n",
    "\n",
    "    \n",
    "plt.figure(figsize=(8, 8))\n",
    "plt.pie(value_counts, labels=value_counts.index, autopct='%1.1f%%', startangle=140, colors=plt.cm.Paired.colors)\n",
    "plt.title(f'Pie Chart for Gender ')\n",
    "plt.show()"
   ],
   "metadata": {
    "collapsed": false,
    "ExecuteTime": {
     "start_time": "2023-12-18T21:33:43.741575Z"
    }
   },
   "id": "c1a04ce0813bd79c"
  },
  {
   "cell_type": "code",
   "execution_count": 32,
   "outputs": [
    {
     "data": {
      "text/plain": "array([[<AxesSubplot:title={'center':'Score'}>]], dtype=object)"
     },
     "execution_count": 32,
     "metadata": {},
     "output_type": "execute_result"
    },
    {
     "data": {
      "text/plain": "<Figure size 640x480 with 1 Axes>",
      "image/png": "[encoded data removed]"
     },
     "metadata": {},
     "output_type": "display_data"
    }
   ],
   "source": [
    "df_features.hist(['Score'])"
   ],
   "metadata": {
    "collapsed": false,
    "ExecuteTime": {
     "end_time": "2023-12-18T21:23:49.818458300Z",
     "start_time": "2023-12-18T21:23:48.645615900Z"
    }
   },
   "id": "6d6ffe7065901fbc"
  },
  {
   "cell_type": "code",
   "execution_count": 27,
   "outputs": [
    {
     "data": {
      "text/plain": "Index(['Age', 'Sex', 'Exercise_Frequency', 'Time_Preference',\n       'Exercise_Duration', 'Healthy_Diet', 'Score', 'i_want_to_be_fit',\n       'i_want_to_increase_muscle_mass_and_strength', 'i_want_to_lose_weight',\n       'i_want_to_be_flexible', 'i_want_to_relieve_stress',\n       'i_want_to_achieve_a_sporting_goal',\n       'i'm_not_really_interested_in_exercising', 'walking_or_jogging', 'gym',\n       'swimming', 'yoga', 'zumba_dance', 'lifting_weights', 'team_sport',\n       'i_don't_really_exercise'],\n      dtype='object')"
     },
     "execution_count": 27,
     "metadata": {},
     "output_type": "execute_result"
    }
   ],
   "source": [
    "df_features.columns"
   ],
   "metadata": {
    "collapsed": false,
    "ExecuteTime": {
     "end_time": "2023-12-18T21:05:31.282048900Z",
     "start_time": "2023-12-18T21:05:31.145042400Z"
    }
   },
   "id": "5da432a0fef68472"
  },
  {
   "cell_type": "code",
   "execution_count": 373,
   "outputs": [],
   "source": [
    "from sklearn.metrics import accuracy_score\n",
    "from sklearn.linear_model import LogisticRegression\n",
    "from sklearn.model_selection import train_test_split\n",
    "\n",
    "X_train, X_test, y_train, y_test = train_test_split(df_features, df[target], test_size=0.2, random_state=42, stratify=df[target])"
   ],
   "metadata": {
    "collapsed": false,
    "ExecuteTime": {
     "end_time": "2023-12-17T01:35:39.176419200Z",
     "start_time": "2023-12-17T01:35:39.012070200Z"
    }
   },
   "id": "7377dedf5b579165"
  },
  {
   "cell_type": "code",
   "execution_count": 374,
   "outputs": [],
   "source": [
    "from sklearn.preprocessing import MinMaxScaler\n",
    "\n",
    "numeric_columns = [['Age','Exercise_Frequency', 'Time_Preference',\n",
    "       'Exercise_Duration', 'Healthy_Diet', 'i_want_to_be_fit',\n",
    "       'i_want_to_increase_muscle_mass_and_strength', 'i_want_to_lose_weight',\n",
    "       'i_want_to_be_flexible', 'i_want_to_relieve_stress',\n",
    "       'i_want_to_achieve_a_sporting_goal',\n",
    "       'i\\'m_not_really_interested_in_exercising', 'walking_or_jogging', 'gym',\n",
    "       'swimming', 'yoga', 'zumba_dance', 'lifting_weights', 'team_sport',\n",
    "       'i_don\\'t_really_exercise']]\n",
    "\n",
    "# Initialize the MinMaxScaler"
   ],
   "metadata": {
    "collapsed": false,
    "ExecuteTime": {
     "end_time": "2023-12-17T01:35:40.519517700Z",
     "start_time": "2023-12-17T01:35:40.429299900Z"
    }
   },
   "id": "dd615d1f3068ed9"
  },
  {
   "cell_type": "code",
   "execution_count": 375,
   "outputs": [],
   "source": [
    "target = 'Score'\n",
    "categorical_columns = ['Sex']\n",
    "numeric_columns = [f for f in df_features.columns if f not in categorical_columns and f != target]"
   ],
   "metadata": {
    "collapsed": false,
    "ExecuteTime": {
     "end_time": "2023-12-17T01:35:41.805374800Z",
     "start_time": "2023-12-17T01:35:41.752139300Z"
    }
   },
   "id": "a1d763fc06bed185"
  },
  {
   "cell_type": "code",
   "execution_count": 434,
   "outputs": [
    {
     "data": {
      "text/plain": "              Age     Sex   Exercise_Frequency Time_Preference  \\\n0        19 to 25  Female                Never   Early morning   \n1        19 to 25  Female                Never   Early morning   \n2        15 to 18  Female  1 to 2 times a week   Early morning   \n3        15 to 18  Female  3 to 4 times a week         Evening   \n4        19 to 25  Female                Never         Evening   \n..            ...     ...                  ...             ...   \n540  40 and above  Female  1 to 2 times a week         Evening   \n541  40 and above  Female  3 to 4 times a week   Early morning   \n542      19 to 25  Female  1 to 2 times a week   Early morning   \n543      19 to 25    Male  3 to 4 times a week         Evening   \n544  40 and above  Female                Never   Early morning   \n\n           Exercise_Duration Healthy_Diet  \\\n0    I don't really exercise   Not always   \n1    I don't really exercise   Not always   \n2                 30 minutes   Not always   \n3                     1 hour          Yes   \n4    I don't really exercise          Yes   \n..                       ...          ...   \n540               30 minutes   Not always   \n541                  2 hours          Yes   \n542               30 minutes   Not always   \n543               30 minutes   Not always   \n544  I don't really exercise   Not always   \n\n                                         Diet_Barriers  \\\n0    Ease of access to fast food;Temptation and cra...   \n1    Ease of access to fast food;Temptation and cra...   \n2                              Temptation and cravings   \n3                              Temptation and cravings   \n4    Ease of access to fast food;Temptation and cra...   \n..                                                 ...   \n540                             I have a balanced diet   \n541                                       Lack of time   \n542  Ease of access to fast food;Temptation and cra...   \n543                            Temptation and cravings   \n544                       Cost;Temptation and cravings   \n\n                                   Exercise_Motivation  \\\n0    I'm sorry ... I'm not really interested in exe...   \n1    I want to be fit;I want to be flexible;I want ...   \n2                                     I want to be fit   \n3               I want to be fit;I want to lose weight   \n4                                     I want to be fit   \n..                                                 ...   \n540                              I want to be flexible   \n541          I want to be fit;I want to relieve stress   \n542        I want to lose weight;I want to be flexible   \n543                           I want to relieve stress   \n544  I'm sorry ... I'm not really interested in exe...   \n\n                        Exercise_Preference      Score  \n0                   I don't really exercise       Good  \n1               Walking or jogging;Swimming  Very good  \n2                        Walking or jogging       Good  \n3    Walking or jogging;Gym;Lifting weights       Good  \n4                   I don't really exercise      Unfit  \n..                                      ...        ...  \n540                      Walking or jogging    Perfect  \n541         Walking or jogging;Gym;Swimming    Average  \n542                 Walking or jogging;Yoga    Average  \n543                      Walking or jogging       Good  \n544                 I don't really exercise    Average  \n\n[545 rows x 10 columns]",
      "text/html": "<div>\n<style scoped>\n    .dataframe tbody tr th:only-of-type {\n        vertical-align: middle;\n    }\n\n    .dataframe tbody tr th {\n        vertical-align: top;\n    }\n\n    .dataframe thead th {\n        text-align: right;\n    }\n</style>\n<table border=\"1\" class=\"dataframe\">\n  <thead>\n    <tr style=\"text-align: right;\">\n      <th></th>\n      <th>Age</th>\n      <th>Sex</th>\n      <th>Exercise_Frequency</th>\n      <th>Time_Preference</th>\n      <th>Exercise_Duration</th>\n      <th>Healthy_Diet</th>\n      <th>Diet_Barriers</th>\n      <th>Exercise_Motivation</th>\n      <th>Exercise_Preference</th>\n      <th>Score</th>\n    </tr>\n  </thead>\n  <tbody>\n    <tr>\n      <th>0</th>\n      <td>19 to 25</td>\n      <td>Female</td>\n      <td>Never</td>\n      <td>Early morning</td>\n      <td>I don't really exercise</td>\n      <td>Not always</td>\n      <td>Ease of access to fast food;Temptation and cra...</td>\n      <td>I'm sorry ... I'm not really interested in exe...</td>\n      <td>I don't really exercise</td>\n      <td>Good</td>\n    </tr>\n    <tr>\n      <th>1</th>\n      <td>19 to 25</td>\n      <td>Female</td>\n      <td>Never</td>\n      <td>Early morning</td>\n      <td>I don't really exercise</td>\n      <td>Not always</td>\n      <td>Ease of access to fast food;Temptation and cra...</td>\n      <td>I want to be fit;I want to be flexible;I want ...</td>\n      <td>Walking or jogging;Swimming</td>\n      <td>Very good</td>\n    </tr>\n    <tr>\n      <th>2</th>\n      <td>15 to 18</td>\n      <td>Female</td>\n      <td>1 to 2 times a week</td>\n      <td>Early morning</td>\n      <td>30 minutes</td>\n      <td>Not always</td>\n      <td>Temptation and cravings</td>\n      <td>I want to be fit</td>\n      <td>Walking or jogging</td>\n      <td>Good</td>\n    </tr>\n    <tr>\n      <th>3</th>\n      <td>15 to 18</td>\n      <td>Female</td>\n      <td>3 to 4 times a week</td>\n      <td>Evening</td>\n      <td>1 hour</td>\n      <td>Yes</td>\n      <td>Temptation and cravings</td>\n      <td>I want to be fit;I want to lose weight</td>\n      <td>Walking or jogging;Gym;Lifting weights</td>\n      <td>Good</td>\n    </tr>\n    <tr>\n      <th>4</th>\n      <td>19 to 25</td>\n      <td>Female</td>\n      <td>Never</td>\n      <td>Evening</td>\n      <td>I don't really exercise</td>\n      <td>Yes</td>\n      <td>Ease of access to fast food;Temptation and cra...</td>\n      <td>I want to be fit</td>\n      <td>I don't really exercise</td>\n      <td>Unfit</td>\n    </tr>\n    <tr>\n      <th>...</th>\n      <td>...</td>\n      <td>...</td>\n      <td>...</td>\n      <td>...</td>\n      <td>...</td>\n      <td>...</td>\n      <td>...</td>\n      <td>...</td>\n      <td>...</td>\n      <td>...</td>\n    </tr>\n    <tr>\n      <th>540</th>\n      <td>40 and above</td>\n      <td>Female</td>\n      <td>1 to 2 times a week</td>\n      <td>Evening</td>\n      <td>30 minutes</td>\n      <td>Not always</td>\n      <td>I have a balanced diet</td>\n      <td>I want to be flexible</td>\n      <td>Walking or jogging</td>\n      <td>Perfect</td>\n    </tr>\n    <tr>\n      <th>541</th>\n      <td>40 and above</td>\n      <td>Female</td>\n      <td>3 to 4 times a week</td>\n      <td>Early morning</td>\n      <td>2 hours</td>\n      <td>Yes</td>\n      <td>Lack of time</td>\n      <td>I want to be fit;I want to relieve stress</td>\n      <td>Walking or jogging;Gym;Swimming</td>\n      <td>Average</td>\n    </tr>\n    <tr>\n      <th>542</th>\n      <td>19 to 25</td>\n      <td>Female</td>\n      <td>1 to 2 times a week</td>\n      <td>Early morning</td>\n      <td>30 minutes</td>\n      <td>Not always</td>\n      <td>Ease of access to fast food;Temptation and cra...</td>\n      <td>I want to lose weight;I want to be flexible</td>\n      <td>Walking or jogging;Yoga</td>\n      <td>Average</td>\n    </tr>\n    <tr>\n      <th>543</th>\n      <td>19 to 25</td>\n      <td>Male</td>\n      <td>3 to 4 times a week</td>\n      <td>Evening</td>\n      <td>30 minutes</td>\n      <td>Not always</td>\n      <td>Temptation and cravings</td>\n      <td>I want to relieve stress</td>\n      <td>Walking or jogging</td>\n      <td>Good</td>\n    </tr>\n    <tr>\n      <th>544</th>\n      <td>40 and above</td>\n      <td>Female</td>\n      <td>Never</td>\n      <td>Early morning</td>\n      <td>I don't really exercise</td>\n      <td>Not always</td>\n      <td>Cost;Temptation and cravings</td>\n      <td>I'm sorry ... I'm not really interested in exe...</td>\n      <td>I don't really exercise</td>\n      <td>Average</td>\n    </tr>\n  </tbody>\n</table>\n<p>545 rows × 10 columns</p>\n</div>"
     },
     "execution_count": 434,
     "metadata": {},
     "output_type": "execute_result"
    }
   ],
   "source": [
    "df"
   ],
   "metadata": {
    "collapsed": false,
    "ExecuteTime": {
     "end_time": "2023-12-17T22:39:10.520784300Z",
     "start_time": "2023-12-17T22:39:09.648689600Z"
    }
   },
   "id": "a6932a41a875e966"
  },
  {
   "cell_type": "code",
   "execution_count": 406,
   "outputs": [],
   "source": [
    "from sklearn.impute import SimpleImputer\n",
    "from sklearn.preprocessing import StandardScaler, OneHotEncoder\n",
    "from sklearn.compose import ColumnTransformer\n",
    "from sklearn.pipeline import Pipeline\n",
    "\n",
    "# Assume 'numeric_columns' is a list of column names that you want to scale\n",
    "# Assume 'categorical_columns' is a list of column names that you want to one-hot encode\n",
    "\n",
    "# Create a column transformer\n",
    "preprocessor = ColumnTransformer(\n",
    "    transformers=[\n",
    "        ('numeric', StandardScaler(), numeric_columns),\n",
    "        ('categorical', OneHotEncoder(sparse_output=False), categorical_columns)\n",
    "    ],\n",
    "    remainder='drop'  # Include other columns as they are\n",
    ")\n",
    "\n",
    "# Create a pipeline\n",
    "pipeline = Pipeline(steps=[\n",
    "    ('preprocessor', preprocessor),\n",
    "    ('imputer', SimpleImputer(strategy='median')),\n",
    "]).set_output(transform='pandas')\n",
    "\n",
    "# Fit and transform the data\n",
    "transformed_data = pipeline.fit_transform(df_features)\n"
   ],
   "metadata": {
    "collapsed": false,
    "ExecuteTime": {
     "end_time": "2023-12-17T01:40:50.860277600Z",
     "start_time": "2023-12-17T01:40:50.738877800Z"
    }
   },
   "id": "23c66c64d4f5fc31"
  },
  {
   "cell_type": "code",
   "execution_count": 407,
   "outputs": [
    {
     "data": {
      "text/plain": "     numeric__Age  numeric__Exercise_Frequency  numeric__Time_Preference  \\\n0       -0.832754                    -1.175403                 -0.895438   \n1       -0.832754                    -1.175403                 -0.895438   \n2       -0.143011                    -0.580055                 -0.895438   \n3       -0.143011                     0.610641                  1.137953   \n4       -0.832754                    -1.175403                  1.137953   \n..            ...                          ...                       ...   \n540      1.926218                    -0.580055                  1.137953   \n541      1.926218                     0.610641                 -0.895438   \n542     -0.832754                    -0.580055                 -0.895438   \n543     -0.832754                     0.610641                  1.137953   \n544      1.926218                    -1.175403                 -0.895438   \n\n     numeric__Exercise_Duration  numeric__Healthy_Diet  \\\n0                     -1.217993              -0.034835   \n1                     -1.217993              -0.034835   \n2                     -0.417262              -0.034835   \n3                      0.383470               1.547263   \n4                     -1.217993               1.547263   \n..                          ...                    ...   \n540                   -0.417262              -0.034835   \n541                    1.984933               1.547263   \n542                   -0.417262              -0.034835   \n543                   -0.417262              -0.034835   \n544                   -1.217993              -0.034835   \n\n     numeric__i_want_to_be_fit  \\\n0                    -1.292892   \n1                     0.773460   \n2                     0.773460   \n3                     0.773460   \n4                     0.773460   \n..                         ...   \n540                  -1.292892   \n541                   0.773460   \n542                  -1.292892   \n543                  -1.292892   \n544                  -1.292892   \n\n     numeric__i_want_to_increase_muscle_mass_and_strength  \\\n0                                            -0.441787      \n1                                            -0.441787      \n2                                            -0.441787      \n3                                            -0.441787      \n4                                            -0.441787      \n..                                                 ...      \n540                                          -0.441787      \n541                                          -0.441787      \n542                                          -0.441787      \n543                                          -0.441787      \n544                                          -0.441787      \n\n     numeric__i_want_to_lose_weight  numeric__i_want_to_be_flexible  \\\n0                         -0.755384                       -0.681949   \n1                         -0.755384                        1.466386   \n2                         -0.755384                       -0.681949   \n3                          1.323830                       -0.681949   \n4                         -0.755384                       -0.681949   \n..                              ...                             ...   \n540                       -0.755384                        1.466386   \n541                       -0.755384                       -0.681949   \n542                        1.323830                        1.466386   \n543                       -0.755384                       -0.681949   \n544                       -0.755384                       -0.681949   \n\n     numeric__i_want_to_relieve_stress  ...  numeric__walking_or_jogging  \\\n0                            -0.681949  ...                    -1.210811   \n1                             1.466386  ...                     0.825893   \n2                            -0.681949  ...                     0.825893   \n3                            -0.681949  ...                     0.825893   \n4                            -0.681949  ...                    -1.210811   \n..                                 ...  ...                          ...   \n540                          -0.681949  ...                     0.825893   \n541                           1.466386  ...                     0.825893   \n542                          -0.681949  ...                     0.825893   \n543                           1.466386  ...                     0.825893   \n544                          -0.681949  ...                    -1.210811   \n\n     numeric__gym  numeric__swimming  numeric__yoga  numeric__zumba_dance  \\\n0       -0.587945          -0.285218      -0.417815             -0.253876   \n1       -0.587945           3.506092      -0.417815             -0.253876   \n2       -0.587945          -0.285218      -0.417815             -0.253876   \n3        1.700840          -0.285218      -0.417815             -0.253876   \n4       -0.587945          -0.285218      -0.417815             -0.253876   \n..            ...                ...            ...                   ...   \n540     -0.587945          -0.285218      -0.417815             -0.253876   \n541      1.700840           3.506092      -0.417815             -0.253876   \n542     -0.587945          -0.285218       2.393407             -0.253876   \n543     -0.587945          -0.285218      -0.417815             -0.253876   \n544     -0.587945          -0.285218      -0.417815             -0.253876   \n\n     numeric__lifting_weights  numeric__team_sport  \\\n0                   -0.307209            -0.453599   \n1                   -0.307209            -0.453599   \n2                   -0.307209            -0.453599   \n3                    3.255111            -0.453599   \n4                   -0.307209            -0.453599   \n..                        ...                  ...   \n540                 -0.307209            -0.453599   \n541                 -0.307209            -0.453599   \n542                 -0.307209            -0.453599   \n543                 -0.307209            -0.453599   \n544                 -0.307209            -0.453599   \n\n     numeric__i_don't_really_exercise  categorical__Sex_Female  \\\n0                            2.248456                      1.0   \n1                           -0.444750                      1.0   \n2                           -0.444750                      1.0   \n3                           -0.444750                      1.0   \n4                            2.248456                      1.0   \n..                                ...                      ...   \n540                         -0.444750                      1.0   \n541                         -0.444750                      1.0   \n542                         -0.444750                      1.0   \n543                         -0.444750                      0.0   \n544                          2.248456                      1.0   \n\n     categorical__Sex_Male  \n0                      0.0  \n1                      0.0  \n2                      0.0  \n3                      0.0  \n4                      0.0  \n..                     ...  \n540                    0.0  \n541                    0.0  \n542                    0.0  \n543                    1.0  \n544                    0.0  \n\n[545 rows x 22 columns]",
      "text/html": "<div>\n<style scoped>\n    .dataframe tbody tr th:only-of-type {\n        vertical-align: middle;\n    }\n\n    .dataframe tbody tr th {\n        vertical-align: top;\n    }\n\n    .dataframe thead th {\n        text-align: right;\n    }\n</style>\n<table border=\"1\" class=\"dataframe\">\n  <thead>\n    <tr style=\"text-align: right;\">\n      <th></th>\n      <th>numeric__Age</th>\n      <th>numeric__Exercise_Frequency</th>\n      <th>numeric__Time_Preference</th>\n      <th>numeric__Exercise_Duration</th>\n      <th>numeric__Healthy_Diet</th>\n      <th>numeric__i_want_to_be_fit</th>\n      <th>numeric__i_want_to_increase_muscle_mass_and_strength</th>\n      <th>numeric__i_want_to_lose_weight</th>\n      <th>numeric__i_want_to_be_flexible</th>\n      <th>numeric__i_want_to_relieve_stress</th>\n      <th>...</th>\n      <th>numeric__walking_or_jogging</th>\n      <th>numeric__gym</th>\n      <th>numeric__swimming</th>\n      <th>numeric__yoga</th>\n      <th>numeric__zumba_dance</th>\n      <th>numeric__lifting_weights</th>\n      <th>numeric__team_sport</th>\n      <th>numeric__i_don't_really_exercise</th>\n      <th>categorical__Sex_Female</th>\n      <th>categorical__Sex_Male</th>\n    </tr>\n  </thead>\n  <tbody>\n    <tr>\n      <th>0</th>\n      <td>-0.832754</td>\n      <td>-1.175403</td>\n      <td>-0.895438</td>\n      <td>-1.217993</td>\n      <td>-0.034835</td>\n      <td>-1.292892</td>\n      <td>-0.441787</td>\n      <td>-0.755384</td>\n      <td>-0.681949</td>\n      <td>-0.681949</td>\n      <td>...</td>\n      <td>-1.210811</td>\n      <td>-0.587945</td>\n      <td>-0.285218</td>\n      <td>-0.417815</td>\n      <td>-0.253876</td>\n      <td>-0.307209</td>\n      <td>-0.453599</td>\n      <td>2.248456</td>\n      <td>1.0</td>\n      <td>0.0</td>\n    </tr>\n    <tr>\n      <th>1</th>\n      <td>-0.832754</td>\n      <td>-1.175403</td>\n      <td>-0.895438</td>\n      <td>-1.217993</td>\n      <td>-0.034835</td>\n      <td>0.773460</td>\n      <td>-0.441787</td>\n      <td>-0.755384</td>\n      <td>1.466386</td>\n      <td>1.466386</td>\n      <td>...</td>\n      <td>0.825893</td>\n      <td>-0.587945</td>\n      <td>3.506092</td>\n      <td>-0.417815</td>\n      <td>-0.253876</td>\n      <td>-0.307209</td>\n      <td>-0.453599</td>\n      <td>-0.444750</td>\n      <td>1.0</td>\n      <td>0.0</td>\n    </tr>\n    <tr>\n      <th>2</th>\n      <td>-0.143011</td>\n      <td>-0.580055</td>\n      <td>-0.895438</td>\n      <td>-0.417262</td>\n      <td>-0.034835</td>\n      <td>0.773460</td>\n      <td>-0.441787</td>\n      <td>-0.755384</td>\n      <td>-0.681949</td>\n      <td>-0.681949</td>\n      <td>...</td>\n      <td>0.825893</td>\n      <td>-0.587945</td>\n      <td>-0.285218</td>\n      <td>-0.417815</td>\n      <td>-0.253876</td>\n      <td>-0.307209</td>\n      <td>-0.453599</td>\n      <td>-0.444750</td>\n      <td>1.0</td>\n      <td>0.0</td>\n    </tr>\n    <tr>\n      <th>3</th>\n      <td>-0.143011</td>\n      <td>0.610641</td>\n      <td>1.137953</td>\n      <td>0.383470</td>\n      <td>1.547263</td>\n      <td>0.773460</td>\n      <td>-0.441787</td>\n      <td>1.323830</td>\n      <td>-0.681949</td>\n      <td>-0.681949</td>\n      <td>...</td>\n      <td>0.825893</td>\n      <td>1.700840</td>\n      <td>-0.285218</td>\n      <td>-0.417815</td>\n      <td>-0.253876</td>\n      <td>3.255111</td>\n      <td>-0.453599</td>\n      <td>-0.444750</td>\n      <td>1.0</td>\n      <td>0.0</td>\n    </tr>\n    <tr>\n      <th>4</th>\n      <td>-0.832754</td>\n      <td>-1.175403</td>\n      <td>1.137953</td>\n      <td>-1.217993</td>\n      <td>1.547263</td>\n      <td>0.773460</td>\n      <td>-0.441787</td>\n      <td>-0.755384</td>\n      <td>-0.681949</td>\n      <td>-0.681949</td>\n      <td>...</td>\n      <td>-1.210811</td>\n      <td>-0.587945</td>\n      <td>-0.285218</td>\n      <td>-0.417815</td>\n      <td>-0.253876</td>\n      <td>-0.307209</td>\n      <td>-0.453599</td>\n      <td>2.248456</td>\n      <td>1.0</td>\n      <td>0.0</td>\n    </tr>\n    <tr>\n      <th>...</th>\n      <td>...</td>\n      <td>...</td>\n      <td>...</td>\n      <td>...</td>\n      <td>...</td>\n      <td>...</td>\n      <td>...</td>\n      <td>...</td>\n      <td>...</td>\n      <td>...</td>\n      <td>...</td>\n      <td>...</td>\n      <td>...</td>\n      <td>...</td>\n      <td>...</td>\n      <td>...</td>\n      <td>...</td>\n      <td>...</td>\n      <td>...</td>\n      <td>...</td>\n      <td>...</td>\n    </tr>\n    <tr>\n      <th>540</th>\n      <td>1.926218</td>\n      <td>-0.580055</td>\n      <td>1.137953</td>\n      <td>-0.417262</td>\n      <td>-0.034835</td>\n      <td>-1.292892</td>\n      <td>-0.441787</td>\n      <td>-0.755384</td>\n      <td>1.466386</td>\n      <td>-0.681949</td>\n      <td>...</td>\n      <td>0.825893</td>\n      <td>-0.587945</td>\n      <td>-0.285218</td>\n      <td>-0.417815</td>\n      <td>-0.253876</td>\n      <td>-0.307209</td>\n      <td>-0.453599</td>\n      <td>-0.444750</td>\n      <td>1.0</td>\n      <td>0.0</td>\n    </tr>\n    <tr>\n      <th>541</th>\n      <td>1.926218</td>\n      <td>0.610641</td>\n      <td>-0.895438</td>\n      <td>1.984933</td>\n      <td>1.547263</td>\n      <td>0.773460</td>\n      <td>-0.441787</td>\n      <td>-0.755384</td>\n      <td>-0.681949</td>\n      <td>1.466386</td>\n      <td>...</td>\n      <td>0.825893</td>\n      <td>1.700840</td>\n      <td>3.506092</td>\n      <td>-0.417815</td>\n      <td>-0.253876</td>\n      <td>-0.307209</td>\n      <td>-0.453599</td>\n      <td>-0.444750</td>\n      <td>1.0</td>\n      <td>0.0</td>\n    </tr>\n    <tr>\n      <th>542</th>\n      <td>-0.832754</td>\n      <td>-0.580055</td>\n      <td>-0.895438</td>\n      <td>-0.417262</td>\n      <td>-0.034835</td>\n      <td>-1.292892</td>\n      <td>-0.441787</td>\n      <td>1.323830</td>\n      <td>1.466386</td>\n      <td>-0.681949</td>\n      <td>...</td>\n      <td>0.825893</td>\n      <td>-0.587945</td>\n      <td>-0.285218</td>\n      <td>2.393407</td>\n      <td>-0.253876</td>\n      <td>-0.307209</td>\n      <td>-0.453599</td>\n      <td>-0.444750</td>\n      <td>1.0</td>\n      <td>0.0</td>\n    </tr>\n    <tr>\n      <th>543</th>\n      <td>-0.832754</td>\n      <td>0.610641</td>\n      <td>1.137953</td>\n      <td>-0.417262</td>\n      <td>-0.034835</td>\n      <td>-1.292892</td>\n      <td>-0.441787</td>\n      <td>-0.755384</td>\n      <td>-0.681949</td>\n      <td>1.466386</td>\n      <td>...</td>\n      <td>0.825893</td>\n      <td>-0.587945</td>\n      <td>-0.285218</td>\n      <td>-0.417815</td>\n      <td>-0.253876</td>\n      <td>-0.307209</td>\n      <td>-0.453599</td>\n      <td>-0.444750</td>\n      <td>0.0</td>\n      <td>1.0</td>\n    </tr>\n    <tr>\n      <th>544</th>\n      <td>1.926218</td>\n      <td>-1.175403</td>\n      <td>-0.895438</td>\n      <td>-1.217993</td>\n      <td>-0.034835</td>\n      <td>-1.292892</td>\n      <td>-0.441787</td>\n      <td>-0.755384</td>\n      <td>-0.681949</td>\n      <td>-0.681949</td>\n      <td>...</td>\n      <td>-1.210811</td>\n      <td>-0.587945</td>\n      <td>-0.285218</td>\n      <td>-0.417815</td>\n      <td>-0.253876</td>\n      <td>-0.307209</td>\n      <td>-0.453599</td>\n      <td>2.248456</td>\n      <td>1.0</td>\n      <td>0.0</td>\n    </tr>\n  </tbody>\n</table>\n<p>545 rows × 22 columns</p>\n</div>"
     },
     "execution_count": 407,
     "metadata": {},
     "output_type": "execute_result"
    }
   ],
   "source": [
    "transformed_data"
   ],
   "metadata": {
    "collapsed": false,
    "ExecuteTime": {
     "end_time": "2023-12-17T01:40:52.309409200Z",
     "start_time": "2023-12-17T01:40:52.127243Z"
    }
   },
   "id": "7060282d6c914c21"
  },
  {
   "cell_type": "code",
   "execution_count": 408,
   "outputs": [],
   "source": [
    "y = df_features['Score'] - 1"
   ],
   "metadata": {
    "collapsed": false,
    "ExecuteTime": {
     "end_time": "2023-12-17T01:40:53.172507Z",
     "start_time": "2023-12-17T01:40:52.858312500Z"
    }
   },
   "id": "745851f3c87a007b"
  },
  {
   "cell_type": "code",
   "execution_count": 409,
   "outputs": [],
   "source": [
    "X_train, X_test, y_train, y_test = train_test_split(transformed_data, y, test_size=0.2, stratify=y)"
   ],
   "metadata": {
    "collapsed": false,
    "ExecuteTime": {
     "end_time": "2023-12-17T01:40:53.590274100Z",
     "start_time": "2023-12-17T01:40:53.161195400Z"
    }
   },
   "id": "b5f968fe416c249e"
  },
  {
   "cell_type": "markdown",
   "source": [],
   "metadata": {
    "collapsed": false
   },
   "id": "53562f4a1a85b2f2"
  },
  {
   "cell_type": "code",
   "execution_count": 410,
   "outputs": [
    {
     "data": {
      "text/plain": "numeric__Age                                            0\nnumeric__Exercise_Frequency                             0\nnumeric__Time_Preference                                0\nnumeric__Exercise_Duration                              0\nnumeric__Healthy_Diet                                   0\nnumeric__i_want_to_be_fit                               0\nnumeric__i_want_to_increase_muscle_mass_and_strength    0\nnumeric__i_want_to_lose_weight                          0\nnumeric__i_want_to_be_flexible                          0\nnumeric__i_want_to_relieve_stress                       0\nnumeric__i_want_to_achieve_a_sporting_goal              0\nnumeric__i'm_not_really_interested_in_exercising        0\nnumeric__walking_or_jogging                             0\nnumeric__gym                                            0\nnumeric__swimming                                       0\nnumeric__yoga                                           0\nnumeric__zumba_dance                                    0\nnumeric__lifting_weights                                0\nnumeric__team_sport                                     0\nnumeric__i_don't_really_exercise                        0\ncategorical__Sex_Female                                 0\ncategorical__Sex_Male                                   0\ndtype: int64"
     },
     "execution_count": 410,
     "metadata": {},
     "output_type": "execute_result"
    }
   ],
   "source": [
    "X_train.isna().sum()"
   ],
   "metadata": {
    "collapsed": false,
    "ExecuteTime": {
     "end_time": "2023-12-17T01:40:55.209806300Z",
     "start_time": "2023-12-17T01:40:55.069908800Z"
    }
   },
   "id": "ded50d269114ace9"
  },
  {
   "cell_type": "code",
   "execution_count": 411,
   "outputs": [
    {
     "name": "stdout",
     "output_type": "stream",
     "text": [
      "################################################################\n",
      "Dummy\n",
      "Train\n",
      "              precision    recall  f1-score   support\n",
      "\n",
      "           0       0.07      0.07      0.07        43\n",
      "           1       0.31      0.28      0.29       156\n",
      "           2       0.40      0.40      0.40       176\n",
      "           3       0.21      0.23      0.22        43\n",
      "           4       0.00      0.00      0.00        18\n",
      "\n",
      "    accuracy                           0.29       436\n",
      "   macro avg       0.20      0.20      0.20       436\n",
      "weighted avg       0.30      0.29      0.30       436\n",
      "\n",
      "[[ 3 15 19  6  0]\n",
      " [24 44 65 14  9]\n",
      " [13 67 71 16  9]\n",
      " [ 3 12 15 10  3]\n",
      " [ 2  6  8  2  0]]\n",
      "Test\n",
      "              precision    recall  f1-score   support\n",
      "\n",
      "           0       0.00      0.00      0.00        11\n",
      "           1       0.42      0.33      0.37        39\n",
      "           2       0.37      0.41      0.39        44\n",
      "           3       0.00      0.00      0.00        10\n",
      "           4       0.11      0.20      0.14         5\n",
      "\n",
      "    accuracy                           0.29       109\n",
      "   macro avg       0.18      0.19      0.18       109\n",
      "weighted avg       0.30      0.29      0.30       109\n",
      "\n",
      "[[ 0  3  6  1  1]\n",
      " [ 3 13 16  5  2]\n",
      " [ 4 13 18  4  5]\n",
      " [ 2  1  7  0  0]\n",
      " [ 1  1  2  0  1]]\n",
      "################################################################\n",
      "RandomForest\n",
      "Train\n",
      "              precision    recall  f1-score   support\n",
      "\n",
      "           0       0.93      0.98      0.95        43\n",
      "           1       0.97      0.98      0.98       156\n",
      "           2       0.99      0.97      0.98       176\n",
      "           3       1.00      1.00      1.00        43\n",
      "           4       1.00      1.00      1.00        18\n",
      "\n",
      "    accuracy                           0.98       436\n",
      "   macro avg       0.98      0.99      0.98       436\n",
      "weighted avg       0.98      0.98      0.98       436\n",
      "\n",
      "[[ 42   1   0   0   0]\n",
      " [  1 153   2   0   0]\n",
      " [  2   3 171   0   0]\n",
      " [  0   0   0  43   0]\n",
      " [  0   0   0   0  18]]\n",
      "Test\n",
      "              precision    recall  f1-score   support\n",
      "\n",
      "           0       0.00      0.00      0.00        11\n",
      "           1       0.53      0.54      0.53        39\n",
      "           2       0.52      0.73      0.61        44\n",
      "           3       0.00      0.00      0.00        10\n",
      "           4       1.00      0.20      0.33         5\n",
      "\n",
      "    accuracy                           0.50       109\n",
      "   macro avg       0.41      0.29      0.29       109\n",
      "weighted avg       0.45      0.50      0.45       109\n",
      "\n",
      "[[ 0  8  3  0  0]\n",
      " [ 3 21 15  0  0]\n",
      " [ 3  8 32  1  0]\n",
      " [ 0  2  8  0  0]\n",
      " [ 0  1  3  0  1]]\n",
      "[LightGBM] [Info] Auto-choosing row-wise multi-threading, the overhead of testing was 0.000220 seconds.\n",
      "You can set `force_row_wise=true` to remove the overhead.\n",
      "And if memory is not enough, you can set `force_col_wise=true`.\n",
      "[LightGBM] [Info] Total Bins 76\n",
      "[LightGBM] [Info] Number of data points in the train set: 436, number of used features: 22\n",
      "[LightGBM] [Info] Start training from score -2.316442\n",
      "[LightGBM] [Info] Start training from score -1.027786\n",
      "[LightGBM] [Info] Start training from score -0.907158\n",
      "[LightGBM] [Info] Start training from score -2.316442\n",
      "[LightGBM] [Info] Start training from score -3.187270\n",
      "[LightGBM] [Warning] No further splits with positive gain, best gain: -inf\n",
      "[LightGBM] [Warning] No further splits with positive gain, best gain: -inf\n",
      "[LightGBM] [Warning] No further splits with positive gain, best gain: -inf\n",
      "[LightGBM] [Warning] No further splits with positive gain, best gain: -inf\n",
      "[LightGBM] [Warning] No further splits with positive gain, best gain: -inf\n",
      "[LightGBM] [Warning] No further splits with positive gain, best gain: -inf\n",
      "[LightGBM] [Warning] No further splits with positive gain, best gain: -inf\n",
      "[LightGBM] [Warning] No further splits with positive gain, best gain: -inf\n",
      "[LightGBM] [Warning] No further splits with positive gain, best gain: -inf\n",
      "[LightGBM] [Warning] No further splits with positive gain, best gain: -inf\n",
      "[LightGBM] [Warning] No further splits with positive gain, best gain: -inf\n",
      "[LightGBM] [Warning] No further splits with positive gain, best gain: -inf\n",
      "[LightGBM] [Warning] No further splits with positive gain, best gain: -inf\n",
      "[LightGBM] [Warning] No further splits with positive gain, best gain: -inf\n",
      "[LightGBM] [Warning] No further splits with positive gain, best gain: -inf\n",
      "[LightGBM] [Warning] No further splits with positive gain, best gain: -inf\n",
      "[LightGBM] [Warning] No further splits with positive gain, best gain: -inf\n",
      "[LightGBM] [Warning] No further splits with positive gain, best gain: -inf\n",
      "[LightGBM] [Warning] No further splits with positive gain, best gain: -inf\n",
      "[LightGBM] [Warning] No further splits with positive gain, best gain: -inf\n",
      "[LightGBM] [Warning] No further splits with positive gain, best gain: -inf\n",
      "[LightGBM] [Warning] No further splits with positive gain, best gain: -inf\n",
      "[LightGBM] [Warning] No further splits with positive gain, best gain: -inf\n",
      "[LightGBM] [Warning] No further splits with positive gain, best gain: -inf\n",
      "[LightGBM] [Warning] No further splits with positive gain, best gain: -inf\n",
      "[LightGBM] [Warning] No further splits with positive gain, best gain: -inf\n",
      "[LightGBM] [Warning] No further splits with positive gain, best gain: -inf\n",
      "[LightGBM] [Warning] No further splits with positive gain, best gain: -inf\n",
      "[LightGBM] [Warning] No further splits with positive gain, best gain: -inf\n",
      "[LightGBM] [Warning] No further splits with positive gain, best gain: -inf\n",
      "[LightGBM] [Warning] No further splits with positive gain, best gain: -inf\n",
      "[LightGBM] [Warning] No further splits with positive gain, best gain: -inf\n",
      "[LightGBM] [Warning] No further splits with positive gain, best gain: -inf\n",
      "[LightGBM] [Warning] No further splits with positive gain, best gain: -inf\n",
      "[LightGBM] [Warning] No further splits with positive gain, best gain: -inf\n",
      "[LightGBM] [Warning] No further splits with positive gain, best gain: -inf\n",
      "[LightGBM] [Warning] No further splits with positive gain, best gain: -inf\n",
      "[LightGBM] [Warning] No further splits with positive gain, best gain: -inf\n",
      "[LightGBM] [Warning] No further splits with positive gain, best gain: -inf\n",
      "[LightGBM] [Warning] No further splits with positive gain, best gain: -inf\n",
      "[LightGBM] [Warning] No further splits with positive gain, best gain: -inf\n",
      "[LightGBM] [Warning] No further splits with positive gain, best gain: -inf\n",
      "[LightGBM] [Warning] No further splits with positive gain, best gain: -inf\n",
      "[LightGBM] [Warning] No further splits with positive gain, best gain: -inf\n",
      "[LightGBM] [Warning] No further splits with positive gain, best gain: -inf\n",
      "[LightGBM] [Warning] No further splits with positive gain, best gain: -inf\n",
      "[LightGBM] [Warning] No further splits with positive gain, best gain: -inf\n",
      "[LightGBM] [Warning] No further splits with positive gain, best gain: -inf\n",
      "[LightGBM] [Warning] No further splits with positive gain, best gain: -inf\n",
      "[LightGBM] [Warning] No further splits with positive gain, best gain: -inf\n",
      "[LightGBM] [Warning] No further splits with positive gain, best gain: -inf\n",
      "[LightGBM] [Warning] No further splits with positive gain, best gain: -inf\n",
      "[LightGBM] [Warning] No further splits with positive gain, best gain: -inf\n",
      "[LightGBM] [Warning] No further splits with positive gain, best gain: -inf\n",
      "[LightGBM] [Warning] No further splits with positive gain, best gain: -inf\n",
      "[LightGBM] [Warning] No further splits with positive gain, best gain: -inf\n",
      "[LightGBM] [Warning] No further splits with positive gain, best gain: -inf\n",
      "[LightGBM] [Warning] No further splits with positive gain, best gain: -inf\n",
      "[LightGBM] [Warning] No further splits with positive gain, best gain: -inf\n",
      "[LightGBM] [Warning] No further splits with positive gain, best gain: -inf\n",
      "[LightGBM] [Warning] No further splits with positive gain, best gain: -inf\n",
      "[LightGBM] [Warning] No further splits with positive gain, best gain: -inf\n",
      "[LightGBM] [Warning] No further splits with positive gain, best gain: -inf\n",
      "[LightGBM] [Warning] No further splits with positive gain, best gain: -inf\n",
      "[LightGBM] [Warning] No further splits with positive gain, best gain: -inf\n",
      "[LightGBM] [Warning] No further splits with positive gain, best gain: -inf\n",
      "[LightGBM] [Warning] No further splits with positive gain, best gain: -inf\n",
      "[LightGBM] [Warning] No further splits with positive gain, best gain: -inf\n",
      "[LightGBM] [Warning] No further splits with positive gain, best gain: -inf\n",
      "[LightGBM] [Warning] No further splits with positive gain, best gain: -inf\n",
      "[LightGBM] [Warning] No further splits with positive gain, best gain: -inf\n",
      "[LightGBM] [Warning] No further splits with positive gain, best gain: -inf\n",
      "[LightGBM] [Warning] No further splits with positive gain, best gain: -inf\n",
      "[LightGBM] [Warning] No further splits with positive gain, best gain: -inf\n",
      "[LightGBM] [Warning] No further splits with positive gain, best gain: -inf\n",
      "[LightGBM] [Warning] No further splits with positive gain, best gain: -inf\n",
      "[LightGBM] [Warning] No further splits with positive gain, best gain: -inf\n",
      "[LightGBM] [Warning] No further splits with positive gain, best gain: -inf\n",
      "[LightGBM] [Warning] No further splits with positive gain, best gain: -inf\n",
      "[LightGBM] [Warning] No further splits with positive gain, best gain: -inf\n",
      "[LightGBM] [Warning] No further splits with positive gain, best gain: -inf\n",
      "[LightGBM] [Warning] No further splits with positive gain, best gain: -inf\n",
      "[LightGBM] [Warning] No further splits with positive gain, best gain: -inf\n",
      "[LightGBM] [Warning] No further splits with positive gain, best gain: -inf\n",
      "[LightGBM] [Warning] No further splits with positive gain, best gain: -inf\n",
      "[LightGBM] [Warning] No further splits with positive gain, best gain: -inf\n",
      "[LightGBM] [Warning] No further splits with positive gain, best gain: -inf\n",
      "[LightGBM] [Warning] No further splits with positive gain, best gain: -inf\n",
      "[LightGBM] [Warning] No further splits with positive gain, best gain: -inf\n",
      "[LightGBM] [Warning] No further splits with positive gain, best gain: -inf\n",
      "[LightGBM] [Warning] No further splits with positive gain, best gain: -inf\n",
      "[LightGBM] [Warning] No further splits with positive gain, best gain: -inf\n",
      "[LightGBM] [Warning] No further splits with positive gain, best gain: -inf\n",
      "[LightGBM] [Warning] No further splits with positive gain, best gain: -inf\n",
      "[LightGBM] [Warning] No further splits with positive gain, best gain: -inf\n",
      "[LightGBM] [Warning] No further splits with positive gain, best gain: -inf\n",
      "[LightGBM] [Warning] No further splits with positive gain, best gain: -inf\n",
      "[LightGBM] [Warning] No further splits with positive gain, best gain: -inf\n",
      "[LightGBM] [Warning] No further splits with positive gain, best gain: -inf\n",
      "[LightGBM] [Warning] No further splits with positive gain, best gain: -inf\n",
      "[LightGBM] [Warning] No further splits with positive gain, best gain: -inf\n",
      "[LightGBM] [Warning] No further splits with positive gain, best gain: -inf\n",
      "[LightGBM] [Warning] No further splits with positive gain, best gain: -inf\n",
      "[LightGBM] [Warning] No further splits with positive gain, best gain: -inf\n",
      "[LightGBM] [Warning] No further splits with positive gain, best gain: -inf\n",
      "[LightGBM] [Warning] No further splits with positive gain, best gain: -inf\n",
      "[LightGBM] [Warning] No further splits with positive gain, best gain: -inf\n",
      "[LightGBM] [Warning] No further splits with positive gain, best gain: -inf\n",
      "[LightGBM] [Warning] No further splits with positive gain, best gain: -inf\n",
      "[LightGBM] [Warning] No further splits with positive gain, best gain: -inf\n",
      "[LightGBM] [Warning] No further splits with positive gain, best gain: -inf\n",
      "[LightGBM] [Warning] No further splits with positive gain, best gain: -inf\n",
      "[LightGBM] [Warning] No further splits with positive gain, best gain: -inf\n",
      "[LightGBM] [Warning] No further splits with positive gain, best gain: -inf\n",
      "[LightGBM] [Warning] No further splits with positive gain, best gain: -inf\n",
      "[LightGBM] [Warning] No further splits with positive gain, best gain: -inf\n",
      "[LightGBM] [Warning] No further splits with positive gain, best gain: -inf\n",
      "[LightGBM] [Warning] No further splits with positive gain, best gain: -inf\n",
      "[LightGBM] [Warning] No further splits with positive gain, best gain: -inf\n",
      "[LightGBM] [Warning] No further splits with positive gain, best gain: -inf\n",
      "[LightGBM] [Warning] No further splits with positive gain, best gain: -inf\n",
      "[LightGBM] [Warning] No further splits with positive gain, best gain: -inf\n",
      "[LightGBM] [Warning] No further splits with positive gain, best gain: -inf\n",
      "[LightGBM] [Warning] No further splits with positive gain, best gain: -inf\n",
      "[LightGBM] [Warning] No further splits with positive gain, best gain: -inf\n",
      "[LightGBM] [Warning] No further splits with positive gain, best gain: -inf\n",
      "[LightGBM] [Warning] No further splits with positive gain, best gain: -inf\n",
      "[LightGBM] [Warning] No further splits with positive gain, best gain: -inf\n",
      "[LightGBM] [Warning] No further splits with positive gain, best gain: -inf\n",
      "[LightGBM] [Warning] No further splits with positive gain, best gain: -inf\n",
      "[LightGBM] [Warning] No further splits with positive gain, best gain: -inf\n",
      "[LightGBM] [Warning] No further splits with positive gain, best gain: -inf\n",
      "[LightGBM] [Warning] No further splits with positive gain, best gain: -inf\n",
      "[LightGBM] [Warning] No further splits with positive gain, best gain: -inf\n",
      "[LightGBM] [Warning] No further splits with positive gain, best gain: -inf\n",
      "[LightGBM] [Warning] No further splits with positive gain, best gain: -inf\n",
      "[LightGBM] [Warning] No further splits with positive gain, best gain: -inf\n",
      "[LightGBM] [Warning] No further splits with positive gain, best gain: -inf\n",
      "[LightGBM] [Warning] No further splits with positive gain, best gain: -inf\n",
      "[LightGBM] [Warning] No further splits with positive gain, best gain: -inf\n",
      "[LightGBM] [Warning] No further splits with positive gain, best gain: -inf\n",
      "[LightGBM] [Warning] No further splits with positive gain, best gain: -inf\n",
      "[LightGBM] [Warning] No further splits with positive gain, best gain: -inf\n",
      "[LightGBM] [Warning] No further splits with positive gain, best gain: -inf\n",
      "[LightGBM] [Warning] No further splits with positive gain, best gain: -inf\n",
      "[LightGBM] [Warning] No further splits with positive gain, best gain: -inf\n",
      "[LightGBM] [Warning] No further splits with positive gain, best gain: -inf\n",
      "[LightGBM] [Warning] No further splits with positive gain, best gain: -inf\n",
      "[LightGBM] [Warning] No further splits with positive gain, best gain: -inf\n",
      "[LightGBM] [Warning] No further splits with positive gain, best gain: -inf\n",
      "[LightGBM] [Warning] No further splits with positive gain, best gain: -inf\n",
      "[LightGBM] [Warning] No further splits with positive gain, best gain: -inf\n",
      "[LightGBM] [Warning] No further splits with positive gain, best gain: -inf\n",
      "[LightGBM] [Warning] No further splits with positive gain, best gain: -inf\n",
      "[LightGBM] [Warning] No further splits with positive gain, best gain: -inf\n",
      "[LightGBM] [Warning] No further splits with positive gain, best gain: -inf\n",
      "[LightGBM] [Warning] No further splits with positive gain, best gain: -inf\n",
      "[LightGBM] [Warning] No further splits with positive gain, best gain: -inf\n",
      "[LightGBM] [Warning] No further splits with positive gain, best gain: -inf\n",
      "[LightGBM] [Warning] No further splits with positive gain, best gain: -inf\n",
      "[LightGBM] [Warning] No further splits with positive gain, best gain: -inf\n",
      "[LightGBM] [Warning] No further splits with positive gain, best gain: -inf\n",
      "[LightGBM] [Warning] No further splits with positive gain, best gain: -inf\n",
      "[LightGBM] [Warning] No further splits with positive gain, best gain: -inf\n",
      "[LightGBM] [Warning] No further splits with positive gain, best gain: -inf\n",
      "[LightGBM] [Warning] No further splits with positive gain, best gain: -inf\n",
      "[LightGBM] [Warning] No further splits with positive gain, best gain: -inf\n",
      "[LightGBM] [Warning] No further splits with positive gain, best gain: -inf\n",
      "[LightGBM] [Warning] No further splits with positive gain, best gain: -inf\n",
      "[LightGBM] [Warning] No further splits with positive gain, best gain: -inf\n",
      "[LightGBM] [Warning] No further splits with positive gain, best gain: -inf\n",
      "[LightGBM] [Warning] No further splits with positive gain, best gain: -inf\n",
      "[LightGBM] [Warning] No further splits with positive gain, best gain: -inf\n",
      "[LightGBM] [Warning] No further splits with positive gain, best gain: -inf\n",
      "[LightGBM] [Warning] No further splits with positive gain, best gain: -inf\n",
      "[LightGBM] [Warning] No further splits with positive gain, best gain: -inf\n",
      "[LightGBM] [Warning] No further splits with positive gain, best gain: -inf\n",
      "[LightGBM] [Warning] No further splits with positive gain, best gain: -inf\n",
      "[LightGBM] [Warning] No further splits with positive gain, best gain: -inf\n",
      "[LightGBM] [Warning] No further splits with positive gain, best gain: -inf\n",
      "[LightGBM] [Warning] No further splits with positive gain, best gain: -inf\n",
      "[LightGBM] [Warning] No further splits with positive gain, best gain: -inf\n",
      "[LightGBM] [Warning] No further splits with positive gain, best gain: -inf\n",
      "[LightGBM] [Warning] No further splits with positive gain, best gain: -inf\n",
      "[LightGBM] [Warning] No further splits with positive gain, best gain: -inf\n",
      "[LightGBM] [Warning] No further splits with positive gain, best gain: -inf\n",
      "[LightGBM] [Warning] No further splits with positive gain, best gain: -inf\n",
      "[LightGBM] [Warning] No further splits with positive gain, best gain: -inf\n",
      "[LightGBM] [Warning] No further splits with positive gain, best gain: -inf\n",
      "[LightGBM] [Warning] No further splits with positive gain, best gain: -inf\n",
      "[LightGBM] [Warning] No further splits with positive gain, best gain: -inf\n",
      "[LightGBM] [Warning] No further splits with positive gain, best gain: -inf\n",
      "[LightGBM] [Warning] No further splits with positive gain, best gain: -inf\n",
      "[LightGBM] [Warning] No further splits with positive gain, best gain: -inf\n",
      "[LightGBM] [Warning] No further splits with positive gain, best gain: -inf\n",
      "[LightGBM] [Warning] No further splits with positive gain, best gain: -inf\n",
      "[LightGBM] [Warning] No further splits with positive gain, best gain: -inf\n",
      "[LightGBM] [Warning] No further splits with positive gain, best gain: -inf\n",
      "[LightGBM] [Warning] No further splits with positive gain, best gain: -inf\n",
      "[LightGBM] [Warning] No further splits with positive gain, best gain: -inf\n",
      "[LightGBM] [Warning] No further splits with positive gain, best gain: -inf\n",
      "[LightGBM] [Warning] No further splits with positive gain, best gain: -inf\n",
      "[LightGBM] [Warning] No further splits with positive gain, best gain: -inf\n",
      "[LightGBM] [Warning] No further splits with positive gain, best gain: -inf\n",
      "[LightGBM] [Warning] No further splits with positive gain, best gain: -inf\n",
      "[LightGBM] [Warning] No further splits with positive gain, best gain: -inf\n",
      "[LightGBM] [Warning] No further splits with positive gain, best gain: -inf\n",
      "[LightGBM] [Warning] No further splits with positive gain, best gain: -inf\n",
      "[LightGBM] [Warning] No further splits with positive gain, best gain: -inf\n",
      "[LightGBM] [Warning] No further splits with positive gain, best gain: -inf\n",
      "[LightGBM] [Warning] No further splits with positive gain, best gain: -inf\n",
      "[LightGBM] [Warning] No further splits with positive gain, best gain: -inf\n",
      "[LightGBM] [Warning] No further splits with positive gain, best gain: -inf\n",
      "[LightGBM] [Warning] No further splits with positive gain, best gain: -inf\n",
      "[LightGBM] [Warning] No further splits with positive gain, best gain: -inf\n",
      "[LightGBM] [Warning] No further splits with positive gain, best gain: -inf\n",
      "[LightGBM] [Warning] No further splits with positive gain, best gain: -inf\n",
      "[LightGBM] [Warning] No further splits with positive gain, best gain: -inf\n",
      "[LightGBM] [Warning] No further splits with positive gain, best gain: -inf\n",
      "[LightGBM] [Warning] No further splits with positive gain, best gain: -inf\n",
      "[LightGBM] [Warning] No further splits with positive gain, best gain: -inf\n",
      "[LightGBM] [Warning] No further splits with positive gain, best gain: -inf\n",
      "[LightGBM] [Warning] No further splits with positive gain, best gain: -inf\n",
      "[LightGBM] [Warning] No further splits with positive gain, best gain: -inf\n",
      "[LightGBM] [Warning] No further splits with positive gain, best gain: -inf\n",
      "[LightGBM] [Warning] No further splits with positive gain, best gain: -inf\n",
      "[LightGBM] [Warning] No further splits with positive gain, best gain: -inf\n",
      "[LightGBM] [Warning] No further splits with positive gain, best gain: -inf\n",
      "[LightGBM] [Warning] No further splits with positive gain, best gain: -inf\n",
      "[LightGBM] [Warning] No further splits with positive gain, best gain: -inf\n",
      "[LightGBM] [Warning] No further splits with positive gain, best gain: -inf\n",
      "[LightGBM] [Warning] No further splits with positive gain, best gain: -inf\n",
      "[LightGBM] [Warning] No further splits with positive gain, best gain: -inf\n",
      "[LightGBM] [Warning] No further splits with positive gain, best gain: -inf\n",
      "[LightGBM] [Warning] No further splits with positive gain, best gain: -inf\n",
      "[LightGBM] [Warning] No further splits with positive gain, best gain: -inf\n",
      "[LightGBM] [Warning] No further splits with positive gain, best gain: -inf\n",
      "[LightGBM] [Warning] No further splits with positive gain, best gain: -inf\n",
      "[LightGBM] [Warning] No further splits with positive gain, best gain: -inf\n",
      "[LightGBM] [Warning] No further splits with positive gain, best gain: -inf\n",
      "[LightGBM] [Warning] No further splits with positive gain, best gain: -inf\n",
      "[LightGBM] [Warning] No further splits with positive gain, best gain: -inf\n",
      "[LightGBM] [Warning] No further splits with positive gain, best gain: -inf\n",
      "[LightGBM] [Warning] No further splits with positive gain, best gain: -inf\n",
      "[LightGBM] [Warning] No further splits with positive gain, best gain: -inf\n",
      "[LightGBM] [Warning] No further splits with positive gain, best gain: -inf\n",
      "[LightGBM] [Warning] No further splits with positive gain, best gain: -inf\n",
      "[LightGBM] [Warning] No further splits with positive gain, best gain: -inf\n",
      "[LightGBM] [Warning] No further splits with positive gain, best gain: -inf\n",
      "[LightGBM] [Warning] No further splits with positive gain, best gain: -inf\n",
      "[LightGBM] [Warning] No further splits with positive gain, best gain: -inf\n",
      "[LightGBM] [Warning] No further splits with positive gain, best gain: -inf\n",
      "[LightGBM] [Warning] No further splits with positive gain, best gain: -inf\n",
      "[LightGBM] [Warning] No further splits with positive gain, best gain: -inf\n",
      "[LightGBM] [Warning] No further splits with positive gain, best gain: -inf\n",
      "[LightGBM] [Warning] No further splits with positive gain, best gain: -inf\n",
      "[LightGBM] [Warning] No further splits with positive gain, best gain: -inf\n",
      "[LightGBM] [Warning] No further splits with positive gain, best gain: -inf\n",
      "[LightGBM] [Warning] No further splits with positive gain, best gain: -inf\n",
      "[LightGBM] [Warning] No further splits with positive gain, best gain: -inf\n",
      "[LightGBM] [Warning] No further splits with positive gain, best gain: -inf\n",
      "[LightGBM] [Warning] No further splits with positive gain, best gain: -inf\n",
      "[LightGBM] [Warning] No further splits with positive gain, best gain: -inf\n",
      "[LightGBM] [Warning] No further splits with positive gain, best gain: -inf\n",
      "[LightGBM] [Warning] No further splits with positive gain, best gain: -inf\n",
      "[LightGBM] [Warning] No further splits with positive gain, best gain: -inf\n",
      "[LightGBM] [Warning] No further splits with positive gain, best gain: -inf\n",
      "[LightGBM] [Warning] No further splits with positive gain, best gain: -inf\n",
      "[LightGBM] [Warning] No further splits with positive gain, best gain: -inf\n",
      "[LightGBM] [Warning] No further splits with positive gain, best gain: -inf\n",
      "[LightGBM] [Warning] No further splits with positive gain, best gain: -inf\n",
      "[LightGBM] [Warning] No further splits with positive gain, best gain: -inf\n",
      "[LightGBM] [Warning] No further splits with positive gain, best gain: -inf\n",
      "[LightGBM] [Warning] No further splits with positive gain, best gain: -inf\n",
      "[LightGBM] [Warning] No further splits with positive gain, best gain: -inf\n",
      "[LightGBM] [Warning] No further splits with positive gain, best gain: -inf\n",
      "[LightGBM] [Warning] No further splits with positive gain, best gain: -inf\n",
      "[LightGBM] [Warning] No further splits with positive gain, best gain: -inf\n",
      "[LightGBM] [Warning] No further splits with positive gain, best gain: -inf\n",
      "[LightGBM] [Warning] No further splits with positive gain, best gain: -inf\n",
      "[LightGBM] [Warning] No further splits with positive gain, best gain: -inf\n",
      "[LightGBM] [Warning] No further splits with positive gain, best gain: -inf\n",
      "[LightGBM] [Warning] No further splits with positive gain, best gain: -inf\n",
      "[LightGBM] [Warning] No further splits with positive gain, best gain: -inf\n",
      "[LightGBM] [Warning] No further splits with positive gain, best gain: -inf\n",
      "[LightGBM] [Warning] No further splits with positive gain, best gain: -inf\n",
      "[LightGBM] [Warning] No further splits with positive gain, best gain: -inf\n",
      "[LightGBM] [Warning] No further splits with positive gain, best gain: -inf\n",
      "[LightGBM] [Warning] No further splits with positive gain, best gain: -inf\n",
      "[LightGBM] [Warning] No further splits with positive gain, best gain: -inf\n",
      "[LightGBM] [Warning] No further splits with positive gain, best gain: -inf\n",
      "[LightGBM] [Warning] No further splits with positive gain, best gain: -inf\n",
      "[LightGBM] [Warning] No further splits with positive gain, best gain: -inf\n",
      "[LightGBM] [Warning] No further splits with positive gain, best gain: -inf\n",
      "[LightGBM] [Warning] No further splits with positive gain, best gain: -inf\n",
      "[LightGBM] [Warning] No further splits with positive gain, best gain: -inf\n",
      "[LightGBM] [Warning] No further splits with positive gain, best gain: -inf\n",
      "[LightGBM] [Warning] No further splits with positive gain, best gain: -inf\n",
      "[LightGBM] [Warning] No further splits with positive gain, best gain: -inf\n",
      "[LightGBM] [Warning] No further splits with positive gain, best gain: -inf\n",
      "[LightGBM] [Warning] No further splits with positive gain, best gain: -inf\n",
      "[LightGBM] [Warning] No further splits with positive gain, best gain: -inf\n",
      "[LightGBM] [Warning] No further splits with positive gain, best gain: -inf\n",
      "[LightGBM] [Warning] No further splits with positive gain, best gain: -inf\n",
      "[LightGBM] [Warning] No further splits with positive gain, best gain: -inf\n",
      "[LightGBM] [Warning] No further splits with positive gain, best gain: -inf\n",
      "[LightGBM] [Warning] No further splits with positive gain, best gain: -inf\n",
      "[LightGBM] [Warning] No further splits with positive gain, best gain: -inf\n",
      "[LightGBM] [Warning] No further splits with positive gain, best gain: -inf\n",
      "[LightGBM] [Warning] No further splits with positive gain, best gain: -inf\n",
      "[LightGBM] [Warning] No further splits with positive gain, best gain: -inf\n",
      "[LightGBM] [Warning] No further splits with positive gain, best gain: -inf\n",
      "[LightGBM] [Warning] No further splits with positive gain, best gain: -inf\n",
      "[LightGBM] [Warning] No further splits with positive gain, best gain: -inf\n",
      "[LightGBM] [Warning] No further splits with positive gain, best gain: -inf\n",
      "[LightGBM] [Warning] No further splits with positive gain, best gain: -inf\n",
      "[LightGBM] [Warning] No further splits with positive gain, best gain: -inf\n",
      "[LightGBM] [Warning] No further splits with positive gain, best gain: -inf\n",
      "[LightGBM] [Warning] No further splits with positive gain, best gain: -inf\n",
      "[LightGBM] [Warning] No further splits with positive gain, best gain: -inf\n",
      "[LightGBM] [Warning] No further splits with positive gain, best gain: -inf\n",
      "[LightGBM] [Warning] No further splits with positive gain, best gain: -inf\n",
      "[LightGBM] [Warning] No further splits with positive gain, best gain: -inf\n",
      "[LightGBM] [Warning] No further splits with positive gain, best gain: -inf\n",
      "[LightGBM] [Warning] No further splits with positive gain, best gain: -inf\n",
      "[LightGBM] [Warning] No further splits with positive gain, best gain: -inf\n",
      "[LightGBM] [Warning] No further splits with positive gain, best gain: -inf\n",
      "[LightGBM] [Warning] No further splits with positive gain, best gain: -inf\n",
      "[LightGBM] [Warning] No further splits with positive gain, best gain: -inf\n",
      "[LightGBM] [Warning] No further splits with positive gain, best gain: -inf\n",
      "[LightGBM] [Warning] No further splits with positive gain, best gain: -inf\n",
      "[LightGBM] [Warning] No further splits with positive gain, best gain: -inf\n",
      "[LightGBM] [Warning] No further splits with positive gain, best gain: -inf\n",
      "[LightGBM] [Warning] No further splits with positive gain, best gain: -inf\n",
      "[LightGBM] [Warning] No further splits with positive gain, best gain: -inf\n",
      "[LightGBM] [Warning] No further splits with positive gain, best gain: -inf\n",
      "[LightGBM] [Warning] No further splits with positive gain, best gain: -inf\n",
      "[LightGBM] [Warning] No further splits with positive gain, best gain: -inf\n",
      "[LightGBM] [Warning] No further splits with positive gain, best gain: -inf\n",
      "[LightGBM] [Warning] No further splits with positive gain, best gain: -inf\n",
      "[LightGBM] [Warning] No further splits with positive gain, best gain: -inf\n",
      "[LightGBM] [Warning] No further splits with positive gain, best gain: -inf\n",
      "[LightGBM] [Warning] No further splits with positive gain, best gain: -inf\n",
      "[LightGBM] [Warning] No further splits with positive gain, best gain: -inf\n",
      "[LightGBM] [Warning] No further splits with positive gain, best gain: -inf\n",
      "[LightGBM] [Warning] No further splits with positive gain, best gain: -inf\n",
      "[LightGBM] [Warning] No further splits with positive gain, best gain: -inf\n",
      "[LightGBM] [Warning] No further splits with positive gain, best gain: -inf\n",
      "[LightGBM] [Warning] No further splits with positive gain, best gain: -inf\n",
      "[LightGBM] [Warning] No further splits with positive gain, best gain: -inf\n",
      "[LightGBM] [Warning] No further splits with positive gain, best gain: -inf\n",
      "[LightGBM] [Warning] No further splits with positive gain, best gain: -inf\n",
      "[LightGBM] [Warning] No further splits with positive gain, best gain: -inf\n",
      "[LightGBM] [Warning] No further splits with positive gain, best gain: -inf\n",
      "[LightGBM] [Warning] No further splits with positive gain, best gain: -inf\n",
      "[LightGBM] [Warning] No further splits with positive gain, best gain: -inf\n",
      "[LightGBM] [Warning] No further splits with positive gain, best gain: -inf\n",
      "[LightGBM] [Warning] No further splits with positive gain, best gain: -inf\n",
      "[LightGBM] [Warning] No further splits with positive gain, best gain: -inf\n",
      "[LightGBM] [Warning] No further splits with positive gain, best gain: -inf\n",
      "[LightGBM] [Warning] No further splits with positive gain, best gain: -inf\n",
      "[LightGBM] [Warning] No further splits with positive gain, best gain: -inf\n",
      "[LightGBM] [Warning] No further splits with positive gain, best gain: -inf\n",
      "[LightGBM] [Warning] No further splits with positive gain, best gain: -inf\n",
      "[LightGBM] [Warning] No further splits with positive gain, best gain: -inf\n",
      "[LightGBM] [Warning] No further splits with positive gain, best gain: -inf\n",
      "[LightGBM] [Warning] No further splits with positive gain, best gain: -inf\n",
      "[LightGBM] [Warning] No further splits with positive gain, best gain: -inf\n",
      "[LightGBM] [Warning] No further splits with positive gain, best gain: -inf\n",
      "[LightGBM] [Warning] No further splits with positive gain, best gain: -inf\n",
      "[LightGBM] [Warning] No further splits with positive gain, best gain: -inf\n",
      "[LightGBM] [Warning] No further splits with positive gain, best gain: -inf\n",
      "[LightGBM] [Warning] No further splits with positive gain, best gain: -inf\n",
      "[LightGBM] [Warning] No further splits with positive gain, best gain: -inf\n",
      "[LightGBM] [Warning] No further splits with positive gain, best gain: -inf\n",
      "[LightGBM] [Warning] No further splits with positive gain, best gain: -inf\n",
      "[LightGBM] [Warning] No further splits with positive gain, best gain: -inf\n",
      "[LightGBM] [Warning] No further splits with positive gain, best gain: -inf\n",
      "[LightGBM] [Warning] No further splits with positive gain, best gain: -inf\n",
      "[LightGBM] [Warning] No further splits with positive gain, best gain: -inf\n",
      "[LightGBM] [Warning] No further splits with positive gain, best gain: -inf\n",
      "[LightGBM] [Warning] No further splits with positive gain, best gain: -inf\n",
      "[LightGBM] [Warning] No further splits with positive gain, best gain: -inf\n",
      "[LightGBM] [Warning] No further splits with positive gain, best gain: -inf\n",
      "[LightGBM] [Warning] No further splits with positive gain, best gain: -inf\n",
      "[LightGBM] [Warning] No further splits with positive gain, best gain: -inf\n",
      "[LightGBM] [Warning] No further splits with positive gain, best gain: -inf\n",
      "[LightGBM] [Warning] No further splits with positive gain, best gain: -inf\n",
      "[LightGBM] [Warning] No further splits with positive gain, best gain: -inf\n",
      "[LightGBM] [Warning] No further splits with positive gain, best gain: -inf\n",
      "[LightGBM] [Warning] No further splits with positive gain, best gain: -inf\n",
      "[LightGBM] [Warning] No further splits with positive gain, best gain: -inf\n",
      "[LightGBM] [Warning] No further splits with positive gain, best gain: -inf\n",
      "[LightGBM] [Warning] No further splits with positive gain, best gain: -inf\n",
      "[LightGBM] [Warning] No further splits with positive gain, best gain: -inf\n",
      "[LightGBM] [Warning] No further splits with positive gain, best gain: -inf\n",
      "[LightGBM] [Warning] No further splits with positive gain, best gain: -inf\n",
      "[LightGBM] [Warning] No further splits with positive gain, best gain: -inf\n",
      "[LightGBM] [Warning] No further splits with positive gain, best gain: -inf\n",
      "[LightGBM] [Warning] No further splits with positive gain, best gain: -inf\n",
      "[LightGBM] [Warning] No further splits with positive gain, best gain: -inf\n",
      "[LightGBM] [Warning] No further splits with positive gain, best gain: -inf\n",
      "[LightGBM] [Warning] No further splits with positive gain, best gain: -inf\n",
      "[LightGBM] [Warning] No further splits with positive gain, best gain: -inf\n",
      "[LightGBM] [Warning] No further splits with positive gain, best gain: -inf\n",
      "[LightGBM] [Warning] No further splits with positive gain, best gain: -inf\n",
      "[LightGBM] [Warning] No further splits with positive gain, best gain: -inf\n",
      "[LightGBM] [Warning] No further splits with positive gain, best gain: -inf\n",
      "[LightGBM] [Warning] No further splits with positive gain, best gain: -inf\n",
      "[LightGBM] [Warning] No further splits with positive gain, best gain: -inf\n",
      "[LightGBM] [Warning] No further splits with positive gain, best gain: -inf\n",
      "[LightGBM] [Warning] No further splits with positive gain, best gain: -inf\n",
      "[LightGBM] [Warning] No further splits with positive gain, best gain: -inf\n",
      "[LightGBM] [Warning] No further splits with positive gain, best gain: -inf\n",
      "[LightGBM] [Warning] No further splits with positive gain, best gain: -inf\n",
      "[LightGBM] [Warning] No further splits with positive gain, best gain: -inf\n",
      "[LightGBM] [Warning] No further splits with positive gain, best gain: -inf\n",
      "[LightGBM] [Warning] No further splits with positive gain, best gain: -inf\n",
      "[LightGBM] [Warning] No further splits with positive gain, best gain: -inf\n",
      "[LightGBM] [Warning] No further splits with positive gain, best gain: -inf\n",
      "[LightGBM] [Warning] No further splits with positive gain, best gain: -inf\n",
      "[LightGBM] [Warning] No further splits with positive gain, best gain: -inf\n",
      "[LightGBM] [Warning] No further splits with positive gain, best gain: -inf\n",
      "[LightGBM] [Warning] No further splits with positive gain, best gain: -inf\n",
      "[LightGBM] [Warning] No further splits with positive gain, best gain: -inf\n",
      "[LightGBM] [Warning] No further splits with positive gain, best gain: -inf\n",
      "[LightGBM] [Warning] No further splits with positive gain, best gain: -inf\n",
      "[LightGBM] [Warning] No further splits with positive gain, best gain: -inf\n",
      "[LightGBM] [Warning] No further splits with positive gain, best gain: -inf\n",
      "[LightGBM] [Warning] No further splits with positive gain, best gain: -inf\n",
      "[LightGBM] [Warning] No further splits with positive gain, best gain: -inf\n",
      "[LightGBM] [Warning] No further splits with positive gain, best gain: -inf\n",
      "[LightGBM] [Warning] No further splits with positive gain, best gain: -inf\n",
      "[LightGBM] [Warning] No further splits with positive gain, best gain: -inf\n",
      "[LightGBM] [Warning] No further splits with positive gain, best gain: -inf\n",
      "[LightGBM] [Warning] No further splits with positive gain, best gain: -inf\n",
      "[LightGBM] [Warning] No further splits with positive gain, best gain: -inf\n",
      "[LightGBM] [Warning] No further splits with positive gain, best gain: -inf\n",
      "[LightGBM] [Warning] No further splits with positive gain, best gain: -inf\n",
      "[LightGBM] [Warning] No further splits with positive gain, best gain: -inf\n",
      "[LightGBM] [Warning] No further splits with positive gain, best gain: -inf\n",
      "[LightGBM] [Warning] No further splits with positive gain, best gain: -inf\n",
      "[LightGBM] [Warning] No further splits with positive gain, best gain: -inf\n",
      "[LightGBM] [Warning] No further splits with positive gain, best gain: -inf\n",
      "[LightGBM] [Warning] No further splits with positive gain, best gain: -inf\n",
      "[LightGBM] [Warning] No further splits with positive gain, best gain: -inf\n",
      "[LightGBM] [Warning] No further splits with positive gain, best gain: -inf\n",
      "[LightGBM] [Warning] No further splits with positive gain, best gain: -inf\n",
      "[LightGBM] [Warning] No further splits with positive gain, best gain: -inf\n",
      "[LightGBM] [Warning] No further splits with positive gain, best gain: -inf\n",
      "[LightGBM] [Warning] No further splits with positive gain, best gain: -inf\n",
      "[LightGBM] [Warning] No further splits with positive gain, best gain: -inf\n",
      "[LightGBM] [Warning] No further splits with positive gain, best gain: -inf\n",
      "[LightGBM] [Warning] No further splits with positive gain, best gain: -inf\n",
      "[LightGBM] [Warning] No further splits with positive gain, best gain: -inf\n",
      "[LightGBM] [Warning] No further splits with positive gain, best gain: -inf\n",
      "[LightGBM] [Warning] No further splits with positive gain, best gain: -inf\n",
      "[LightGBM] [Warning] No further splits with positive gain, best gain: -inf\n",
      "[LightGBM] [Warning] No further splits with positive gain, best gain: -inf\n",
      "[LightGBM] [Warning] No further splits with positive gain, best gain: -inf\n",
      "[LightGBM] [Warning] No further splits with positive gain, best gain: -inf\n",
      "[LightGBM] [Warning] No further splits with positive gain, best gain: -inf\n",
      "[LightGBM] [Warning] No further splits with positive gain, best gain: -inf\n",
      "[LightGBM] [Warning] No further splits with positive gain, best gain: -inf\n",
      "[LightGBM] [Warning] No further splits with positive gain, best gain: -inf\n",
      "[LightGBM] [Warning] No further splits with positive gain, best gain: -inf\n",
      "[LightGBM] [Warning] No further splits with positive gain, best gain: -inf\n",
      "[LightGBM] [Warning] No further splits with positive gain, best gain: -inf\n",
      "[LightGBM] [Warning] No further splits with positive gain, best gain: -inf\n",
      "[LightGBM] [Warning] No further splits with positive gain, best gain: -inf\n",
      "[LightGBM] [Warning] No further splits with positive gain, best gain: -inf\n",
      "[LightGBM] [Warning] No further splits with positive gain, best gain: -inf\n",
      "[LightGBM] [Warning] No further splits with positive gain, best gain: -inf\n",
      "[LightGBM] [Warning] No further splits with positive gain, best gain: -inf\n",
      "[LightGBM] [Warning] No further splits with positive gain, best gain: -inf\n",
      "[LightGBM] [Warning] No further splits with positive gain, best gain: -inf\n",
      "[LightGBM] [Warning] No further splits with positive gain, best gain: -inf\n",
      "[LightGBM] [Warning] No further splits with positive gain, best gain: -inf\n",
      "[LightGBM] [Warning] No further splits with positive gain, best gain: -inf\n",
      "[LightGBM] [Warning] No further splits with positive gain, best gain: -inf\n",
      "[LightGBM] [Warning] No further splits with positive gain, best gain: -inf\n",
      "[LightGBM] [Warning] No further splits with positive gain, best gain: -inf\n",
      "[LightGBM] [Warning] No further splits with positive gain, best gain: -inf\n",
      "[LightGBM] [Warning] No further splits with positive gain, best gain: -inf\n",
      "[LightGBM] [Warning] No further splits with positive gain, best gain: -inf\n",
      "[LightGBM] [Warning] No further splits with positive gain, best gain: -inf\n",
      "[LightGBM] [Warning] No further splits with positive gain, best gain: -inf\n",
      "[LightGBM] [Warning] No further splits with positive gain, best gain: -inf\n",
      "[LightGBM] [Warning] No further splits with positive gain, best gain: -inf\n",
      "[LightGBM] [Warning] No further splits with positive gain, best gain: -inf\n",
      "[LightGBM] [Warning] No further splits with positive gain, best gain: -inf\n",
      "[LightGBM] [Warning] No further splits with positive gain, best gain: -inf\n",
      "[LightGBM] [Warning] No further splits with positive gain, best gain: -inf\n",
      "[LightGBM] [Warning] No further splits with positive gain, best gain: -inf\n",
      "[LightGBM] [Warning] No further splits with positive gain, best gain: -inf\n",
      "[LightGBM] [Warning] No further splits with positive gain, best gain: -inf\n",
      "[LightGBM] [Warning] No further splits with positive gain, best gain: -inf\n",
      "[LightGBM] [Warning] No further splits with positive gain, best gain: -inf\n",
      "[LightGBM] [Warning] No further splits with positive gain, best gain: -inf\n",
      "[LightGBM] [Warning] No further splits with positive gain, best gain: -inf\n",
      "################################################################\n",
      "LightGBM\n",
      "Train\n",
      "              precision    recall  f1-score   support\n",
      "\n",
      "           0       0.89      0.93      0.91        43\n",
      "           1       0.93      0.95      0.94       156\n",
      "           2       0.96      0.92      0.94       176\n",
      "           3       0.98      1.00      0.99        43\n",
      "           4       1.00      1.00      1.00        18\n",
      "\n",
      "    accuracy                           0.94       436\n",
      "   macro avg       0.95      0.96      0.95       436\n",
      "weighted avg       0.94      0.94      0.94       436\n",
      "\n",
      "[[ 40   3   0   0   0]\n",
      " [  1 148   7   0   0]\n",
      " [  4   9 162   1   0]\n",
      " [  0   0   0  43   0]\n",
      " [  0   0   0   0  18]]\n",
      "Test\n",
      "              precision    recall  f1-score   support\n",
      "\n",
      "           0       0.14      0.09      0.11        11\n",
      "           1       0.42      0.46      0.44        39\n",
      "           2       0.52      0.57      0.54        44\n",
      "           3       0.33      0.20      0.25        10\n",
      "           4       0.20      0.20      0.20         5\n",
      "\n",
      "    accuracy                           0.43       109\n",
      "   macro avg       0.32      0.30      0.31       109\n",
      "weighted avg       0.41      0.43      0.42       109\n",
      "\n",
      "[[ 1  8  1  1  0]\n",
      " [ 5 18 15  0  1]\n",
      " [ 1 13 25  2  3]\n",
      " [ 0  3  5  2  0]\n",
      " [ 0  1  2  1  1]]\n",
      "################################################################\n",
      "XGBoost\n",
      "Train\n",
      "              precision    recall  f1-score   support\n",
      "\n",
      "           0       0.95      0.95      0.95        43\n",
      "           1       0.97      0.99      0.98       156\n",
      "           2       0.99      0.97      0.98       176\n",
      "           3       1.00      1.00      1.00        43\n",
      "           4       1.00      1.00      1.00        18\n",
      "\n",
      "    accuracy                           0.98       436\n",
      "   macro avg       0.98      0.98      0.98       436\n",
      "weighted avg       0.98      0.98      0.98       436\n",
      "\n",
      "[[ 41   2   0   0   0]\n",
      " [  0 154   2   0   0]\n",
      " [  2   3 171   0   0]\n",
      " [  0   0   0  43   0]\n",
      " [  0   0   0   0  18]]\n",
      "Test\n",
      "              precision    recall  f1-score   support\n",
      "\n",
      "           0       0.00      0.00      0.00        11\n",
      "           1       0.48      0.54      0.51        39\n",
      "           2       0.53      0.57      0.55        44\n",
      "           3       0.14      0.10      0.12        10\n",
      "           4       0.33      0.20      0.25         5\n",
      "\n",
      "    accuracy                           0.44       109\n",
      "   macro avg       0.30      0.28      0.28       109\n",
      "weighted avg       0.41      0.44      0.43       109\n",
      "\n",
      "[[ 0  9  1  1  0]\n",
      " [ 5 21 13  0  0]\n",
      " [ 3 10 25  4  2]\n",
      " [ 0  3  6  1  0]\n",
      " [ 0  1  2  1  1]]\n",
      "################################################################\n",
      "LogisticRegression\n",
      "Train\n",
      "              precision    recall  f1-score   support\n",
      "\n",
      "           0       0.44      0.28      0.34        43\n",
      "           1       0.56      0.64      0.60       156\n",
      "           2       0.56      0.66      0.61       176\n",
      "           3       0.60      0.21      0.31        43\n",
      "           4       0.80      0.22      0.35        18\n",
      "\n",
      "    accuracy                           0.56       436\n",
      "   macro avg       0.59      0.40      0.44       436\n",
      "weighted avg       0.56      0.56      0.54       436\n",
      "\n",
      "[[ 12  22   9   0   0]\n",
      " [  9 100  47   0   0]\n",
      " [  6  48 117   4   1]\n",
      " [  0   6  28   9   0]\n",
      " [  0   3   9   2   4]]\n",
      "Test\n",
      "              precision    recall  f1-score   support\n",
      "\n",
      "           0       0.25      0.18      0.21        11\n",
      "           1       0.42      0.46      0.44        39\n",
      "           2       0.42      0.50      0.45        44\n",
      "           3       0.50      0.10      0.17        10\n",
      "           4       0.00      0.00      0.00         5\n",
      "\n",
      "    accuracy                           0.39       109\n",
      "   macro avg       0.32      0.25      0.25       109\n",
      "weighted avg       0.39      0.39      0.38       109\n",
      "\n",
      "[[ 2  7  2  0  0]\n",
      " [ 4 18 17  0  0]\n",
      " [ 2 16 22  1  3]\n",
      " [ 0  2  7  1  0]\n",
      " [ 0  0  5  0  0]]\n",
      "################################################################\n",
      "KNN\n",
      "Train\n",
      "              precision    recall  f1-score   support\n",
      "\n",
      "           0       0.44      0.40      0.41        43\n",
      "           1       0.57      0.69      0.62       156\n",
      "           2       0.62      0.63      0.62       176\n",
      "           3       0.47      0.19      0.27        43\n",
      "           4       0.60      0.33      0.43        18\n",
      "\n",
      "    accuracy                           0.57       436\n",
      "   macro avg       0.54      0.45      0.47       436\n",
      "weighted avg       0.57      0.57      0.56       436\n",
      "\n",
      "[[ 17  17   9   0   0]\n",
      " [ 10 108  31   5   2]\n",
      " [ 12  48 111   3   2]\n",
      " [  0  12  23   8   0]\n",
      " [  0   5   6   1   6]]\n",
      "Test\n",
      "              precision    recall  f1-score   support\n",
      "\n",
      "           0       0.25      0.18      0.21        11\n",
      "           1       0.38      0.51      0.44        39\n",
      "           2       0.48      0.50      0.49        44\n",
      "           3       0.00      0.00      0.00        10\n",
      "           4       1.00      0.20      0.33         5\n",
      "\n",
      "    accuracy                           0.41       109\n",
      "   macro avg       0.42      0.28      0.29       109\n",
      "weighted avg       0.40      0.41      0.39       109\n",
      "\n",
      "[[ 2  5  4  0  0]\n",
      " [ 4 20 14  1  0]\n",
      " [ 2 19 22  1  0]\n",
      " [ 0  6  4  0  0]\n",
      " [ 0  2  2  0  1]]\n"
     ]
    }
   ],
   "source": [
    "from sklearn.neural_network import MLPClassifier\n",
    "from sklearn.linear_model import RidgeClassifier\n",
    "from lightgbm import LGBMClassifier\n",
    "from xgboost import XGBClassifier\n",
    "from sklearn.neighbors import KNeighborsClassifier\n",
    "from sklearn.dummy import DummyClassifier\n",
    "from sklearn.metrics import f1_score, precision_score, recall_score, roc_auc_score, cohen_kappa_score, \\\n",
    "    classification_report\n",
    "from sklearn.ensemble import RandomForestClassifier\n",
    "from sklearn.linear_model import LogisticRegression\n",
    "import pandas as pd\n",
    "from sklearn.metrics import confusion_matrix\n",
    "\n",
    "\n",
    "\n",
    "# Initialize models list\n",
    "models = [\n",
    "    ('Dummy', DummyClassifier(strategy=\"stratified\", random_state=42)),\n",
    "    ('RandomForest', RandomForestClassifier(random_state=42)),\n",
    "    ('LightGBM', LGBMClassifier(random_state=42)),\n",
    "    ('XGBoost', XGBClassifier(random_state=42)),\n",
    "    ('LogisticRegression', LogisticRegression(random_state=42)),\n",
    "    \n",
    "    ('KNN', KNeighborsClassifier())\n",
    "   \n",
    "]\n",
    "\n",
    "# Initialize an empty list to store metrics\n",
    "metrics_list = []\n",
    "\n",
    "# Loop through models\n",
    "for name, model in models:\n",
    "    # Fit the model\n",
    "    model.fit(X_train, y_train)\n",
    "\n",
    "    # Initialize dict for this model's metrics\n",
    "    model_metrics = {'Model': name}\n",
    "\n",
    "    print('#' * 64)\n",
    "    print(name)\n",
    "    for dataset, X, y in [\n",
    "        ('Train', X_train, y_train),\n",
    "        ('Test', X_test, y_test),\n",
    "    ]:\n",
    "        # Make predictions\n",
    "        y_pred = model.predict(X)\n",
    "        try:\n",
    "            y_prob = model.predict_proba(X)[:, 1]\n",
    "        except AttributeError:\n",
    "            print(f'Model {name} has no predict_proba. Hard prediction used')\n",
    "            y_prob = y_pred\n",
    "\n",
    "        # Compute metrics\n",
    "        f1 = f1_score(y, y_pred, average='macro')\n",
    "        precision = precision_score(y, y_pred, average='macro')\n",
    "        recall = recall_score(y, y_pred, average='macro')\n",
    "        # auc = roc_auc_score(y, y_prob, average='macro', multi_class='ovo')\n",
    "        # kappa = cohen_kappa_score(y, y_pred, average='macro')\n",
    "\n",
    "        print(dataset)\n",
    "        print(classification_report(y, y_pred))\n",
    "        print(confusion_matrix(y, y_pred))\n",
    "\n",
    "        # Append metrics to dict\n",
    "        model_metrics.update({\n",
    "            f'{dataset}_F1_Score': f1,\n",
    "            f'{dataset}_Precision': precision,\n",
    "            f'{dataset}_Recall': recall,\n",
    "            # f'{dataset}_AUC': auc,\n",
    "            # f'{dataset}_Kappa': kappa\n",
    "        })\n",
    "\n",
    "    # Append model metrics to list\n",
    "    metrics_list.append(model_metrics)\n",
    "\n",
    "# Convert list of metrics to DataFrame\n",
    "metrics_df = pd.DataFrame(metrics_list, index=[i[0] for i in models])"
   ],
   "metadata": {
    "collapsed": false,
    "ExecuteTime": {
     "end_time": "2023-12-17T01:40:58.858240400Z",
     "start_time": "2023-12-17T01:40:55.931068200Z"
    }
   },
   "id": "5ec7f4ec6d8efcc4"
  },
  {
   "cell_type": "code",
   "execution_count": 415,
   "outputs": [
    {
     "data": {
      "text/plain": "                    Test_F1_Score  Test_Precision  Test_Recall\nDummy                    0.180276        0.179563     0.188485\nRandomForest             0.294901        0.409918     0.293147\nLightGBM                 0.308723        0.323126     0.304126\nXGBoost                  0.284624        0.297076     0.281329\nLogisticRegression       0.253965        0.316740     0.248671\nKNN                      0.294462        0.422575     0.278928",
      "text/html": "<div>\n<style scoped>\n    .dataframe tbody tr th:only-of-type {\n        vertical-align: middle;\n    }\n\n    .dataframe tbody tr th {\n        vertical-align: top;\n    }\n\n    .dataframe thead th {\n        text-align: right;\n    }\n</style>\n<table border=\"1\" class=\"dataframe\">\n  <thead>\n    <tr style=\"text-align: right;\">\n      <th></th>\n      <th>Test_F1_Score</th>\n      <th>Test_Precision</th>\n      <th>Test_Recall</th>\n    </tr>\n  </thead>\n  <tbody>\n    <tr>\n      <th>Dummy</th>\n      <td>0.180276</td>\n      <td>0.179563</td>\n      <td>0.188485</td>\n    </tr>\n    <tr>\n      <th>RandomForest</th>\n      <td>0.294901</td>\n      <td>0.409918</td>\n      <td>0.293147</td>\n    </tr>\n    <tr>\n      <th>LightGBM</th>\n      <td>0.308723</td>\n      <td>0.323126</td>\n      <td>0.304126</td>\n    </tr>\n    <tr>\n      <th>XGBoost</th>\n      <td>0.284624</td>\n      <td>0.297076</td>\n      <td>0.281329</td>\n    </tr>\n    <tr>\n      <th>LogisticRegression</th>\n      <td>0.253965</td>\n      <td>0.316740</td>\n      <td>0.248671</td>\n    </tr>\n    <tr>\n      <th>KNN</th>\n      <td>0.294462</td>\n      <td>0.422575</td>\n      <td>0.278928</td>\n    </tr>\n  </tbody>\n</table>\n</div>"
     },
     "execution_count": 415,
     "metadata": {},
     "output_type": "execute_result"
    }
   ],
   "source": [
    "metrics_df[[f for f in metrics_df if 'Test' in f]]"
   ],
   "metadata": {
    "collapsed": false,
    "ExecuteTime": {
     "end_time": "2023-12-17T01:41:34.235423700Z",
     "start_time": "2023-12-17T01:41:34.110076600Z"
    }
   },
   "id": "ac312cb2666da0c7"
  },
  {
   "cell_type": "code",
   "execution_count": 433,
   "outputs": [
    {
     "name": "stdout",
     "output_type": "stream",
     "text": [
      "Data saved to lgbm.pkl\n",
      "Data saved to processor.pkl\n"
     ]
    }
   ],
   "source": [
    "from load import save_pickle_file\n",
    "\n",
    "save_pickle_file(models[2][1], 'lgbm.pkl')\n",
    "save_pickle_file(pipeline, 'processor.pkl')"
   ],
   "metadata": {
    "collapsed": false,
    "ExecuteTime": {
     "end_time": "2023-12-17T01:45:27.695096500Z",
     "start_time": "2023-12-17T01:45:27.535025Z"
    }
   },
   "id": "f05103bea8062315"
  },
  {
   "cell_type": "code",
   "execution_count": null,
   "outputs": [],
   "source": [],
   "metadata": {
    "collapsed": false
   },
   "id": "f420357e40906cf9"
  },
  {
   "cell_type": "code",
   "execution_count": 416,
   "outputs": [
    {
     "data": {
      "text/plain": "Age                                            5\nSex                                            2\nExercise_Frequency                             6\nTime_Preference                                3\nExercise_Duration                              5\nHealthy_Diet                                   3\nScore                                          5\ni_want_to_be_fit                               2\ni_want_to_increase_muscle_mass_and_strength    2\ni_want_to_lose_weight                          2\ni_want_to_be_flexible                          2\ni_want_to_relieve_stress                       2\ni_want_to_achieve_a_sporting_goal              2\ni'm_not_really_interested_in_exercising        2\nwalking_or_jogging                             2\ngym                                            2\nswimming                                       2\nyoga                                           2\nzumba_dance                                    2\nlifting_weights                                2\nteam_sport                                     2\ni_don't_really_exercise                        2\ndtype: int64"
     },
     "execution_count": 416,
     "metadata": {},
     "output_type": "execute_result"
    }
   ],
   "source": [
    "df_features.nunique()"
   ],
   "metadata": {
    "collapsed": false,
    "ExecuteTime": {
     "end_time": "2023-12-17T01:41:34.648775300Z",
     "start_time": "2023-12-17T01:41:34.385020800Z"
    }
   },
   "id": "2e3cce637ef72949"
  },
  {
   "cell_type": "markdown",
   "source": [
    "# Regression approach"
   ],
   "metadata": {
    "collapsed": false
   },
   "id": "8428676ee6db2794"
  },
  {
   "cell_type": "code",
   "execution_count": 417,
   "outputs": [
    {
     "data": {
      "text/plain": "<Figure size 800x550 with 2 Axes>",
      "image/png": "[encoded data removed]"
     },
     "metadata": {},
     "output_type": "display_data"
    },
    {
     "data": {
      "text/plain": "<AxesSubplot:title={'center':'Residuals for LinearRegression Model'}, xlabel='Predicted Value', ylabel='Residuals'>"
     },
     "execution_count": 417,
     "metadata": {},
     "output_type": "execute_result"
    }
   ],
   "source": [
    "from xgboost import XGBRegressor\n",
    "from lightgbm import LGBMRegressor\n",
    "from sklearn.linear_model import Ridge, LinearRegression\n",
    "from sklearn.model_selection import train_test_split\n",
    "\n",
    "from yellowbrick.datasets import load_concrete\n",
    "from yellowbrick.regressor import ResidualsPlot\n",
    "\n",
    "# Load a regression dataset\n",
    "\n",
    "# Instantiate the linear model and visualizer\n",
    "model = LinearRegression(\n",
    "    # max_depth= 5,\n",
    "    # max_leaves= 2,\n",
    "    # n_estimators=200,\n",
    ")\n",
    "visualizer = ResidualsPlot(model)\n",
    "\n",
    "visualizer.fit(X_train, y_train)  # Fit the training data to the visualizer\n",
    "visualizer.score(X_test, y_test)  # Evaluate the model on the test data\n",
    "visualizer.show()                 # Finalize and render the figure"
   ],
   "metadata": {
    "collapsed": false,
    "ExecuteTime": {
     "end_time": "2023-12-17T01:41:38.200916100Z",
     "start_time": "2023-12-17T01:41:36.270125400Z"
    }
   },
   "id": "99ed54cd03622557"
  },
  {
   "cell_type": "code",
   "execution_count": 418,
   "outputs": [
    {
     "data": {
      "text/plain": "   Age  Weight   Sex Exercise_Frequency Time_Preference  Exercise_Duration  \\\n0   44    44.0  male          every_day   Early morning                NaN   \n\n   Healthy_Diet Diet_Barriers Exercise_Motivation      Exercise_Preference  \n0           NaN  lack_of_time      relieve_stress  ['alone', 'with_group']  ",
      "text/html": "<div>\n<style scoped>\n    .dataframe tbody tr th:only-of-type {\n        vertical-align: middle;\n    }\n\n    .dataframe tbody tr th {\n        vertical-align: top;\n    }\n\n    .dataframe thead th {\n        text-align: right;\n    }\n</style>\n<table border=\"1\" class=\"dataframe\">\n  <thead>\n    <tr style=\"text-align: right;\">\n      <th></th>\n      <th>Age</th>\n      <th>Weight</th>\n      <th>Sex</th>\n      <th>Exercise_Frequency</th>\n      <th>Time_Preference</th>\n      <th>Exercise_Duration</th>\n      <th>Healthy_Diet</th>\n      <th>Diet_Barriers</th>\n      <th>Exercise_Motivation</th>\n      <th>Exercise_Preference</th>\n    </tr>\n  </thead>\n  <tbody>\n    <tr>\n      <th>0</th>\n      <td>44</td>\n      <td>44.0</td>\n      <td>male</td>\n      <td>every_day</td>\n      <td>Early morning</td>\n      <td>NaN</td>\n      <td>NaN</td>\n      <td>lack_of_time</td>\n      <td>relieve_stress</td>\n      <td>['alone', 'with_group']</td>\n    </tr>\n  </tbody>\n</table>\n</div>"
     },
     "execution_count": 418,
     "metadata": {},
     "output_type": "execute_result"
    }
   ],
   "source": [
    "df2.head()"
   ],
   "metadata": {
    "collapsed": false,
    "ExecuteTime": {
     "end_time": "2023-12-17T01:41:38.565111700Z",
     "start_time": "2023-12-17T01:41:38.164018500Z"
    }
   },
   "id": "b174f569e64d8368"
  },
  {
   "cell_type": "code",
   "execution_count": 419,
   "outputs": [],
   "source": [
    "columns_to_delete = ['Weight']\n",
    "\n",
    "# Drop the specified columns\n",
    "df2 = df2.drop(columns=columns_to_delete, errors='ignore')"
   ],
   "metadata": {
    "collapsed": false,
    "ExecuteTime": {
     "end_time": "2023-12-17T01:41:38.591790900Z",
     "start_time": "2023-12-17T01:41:38.208108600Z"
    }
   },
   "id": "c58a45fa26bca07b"
  },
  {
   "cell_type": "code",
   "execution_count": 420,
   "outputs": [],
   "source": [
    "# patient_data -> pd.DataFrame() (done)\n",
    "# \n",
    "# patient_data -> (function with encodings, mappings, etc.) -> processed_patient_data (pd.DataFrame)\n",
    "# \n",
    "# processed_patient_data -> (function with scaler, scaler is loaded from file) -> scaled_data \n",
    "# \n",
    "# scaled_data -> (function with model, model is loaded from file) -> output "
   ],
   "metadata": {
    "collapsed": false,
    "ExecuteTime": {
     "end_time": "2023-12-17T01:41:40.101890300Z",
     "start_time": "2023-12-17T01:41:39.969865Z"
    }
   },
   "id": "92812a82fe80f925"
  },
  {
   "cell_type": "code",
   "execution_count": 420,
   "outputs": [],
   "source": [],
   "metadata": {
    "collapsed": false,
    "ExecuteTime": {
     "end_time": "2023-12-17T01:41:40.706320600Z",
     "start_time": "2023-12-17T01:41:40.626224900Z"
    }
   },
   "id": "92b0e515252b3ebc"
  },
  {
   "cell_type": "code",
   "execution_count": 421,
   "outputs": [],
   "source": [
    "def processing(data: pd.DataFrame):\n",
    "    motivations = [\n",
    "        'I want to be fit',\n",
    "        'I want to increase muscle mass and strength',\n",
    "        'I want to lose weight',\n",
    "        'I want to be flexible',\n",
    "        'I want to relieve stress',\n",
    "        'I want to achieve a sporting goal',\n",
    "        \"I'm not really interested in exercising\"\n",
    "    ]\n",
    "\n",
    "    for motivation in motivations:\n",
    "        column_name = motivation.replace(' ', '_').lower()  # Convert to lowercase and replace spaces with underscores\n",
    "        data[column_name] = data['Exercise_Motivation'].str.contains(motivation).astype(int)\n",
    "\n",
    "    # Mapping dictionary\n",
    "    Exercise_Frequency = {\n",
    "        'never': 1,\n",
    "        '1 to 2 times a week': 2,\n",
    "        '2 to 3 times a week': 3,\n",
    "        '3 to 4 times a week': 4,\n",
    "        '5 to 6 times a week': 5,\n",
    "        'everyday': 6,\n",
    "        # Add more mappings as needed\n",
    "    }\n",
    "\n",
    "    # Apply mapping to the 'Frequency' column\n",
    "    data['Exercise_Frequency'] = data['Exercise_Frequency'].str.lower().map(Exercise_Frequency)\n",
    "\n",
    "    # Apply mapping to the 'Time_Preference' column\n",
    "    time_preference_mapping = {\n",
    "        'early morning': 1,\n",
    "        'afternoon': 2,\n",
    "        'evening': 3,\n",
    "        # Add more mappings as needed\n",
    "    }\n",
    "\n",
    "    # Apply mapping to the 'Time_Preference' column\n",
    "    data['Time_Preference'] = data['Time_Preference'].str.lower().map(time_preference_mapping)\n",
    "\n",
    "    # Mapping dictionary for Exercise_Duration\n",
    "    exercise_duration_mapping = {\n",
    "        '30 minutes': 30,\n",
    "        '1 hour': 60,\n",
    "        '2 hours': 120,\n",
    "        '3 hours and above': 180,  # Adjust this value based on your preference\n",
    "        \"I don't really exercise\": 0,  # Assign a value for 'I don't really exercise'\n",
    "        # Add more mappings as needed\n",
    "    }\n",
    "\n",
    "    # Apply mapping to the 'Exercise_Duration' column\n",
    "    data['Exercise_Duration'] = data['Exercise_Duration'].map(exercise_duration_mapping)\n",
    "\n",
    "    # Mapping dictionary for Healthy_Diet\n",
    "    healthy_diet_mapping = {\n",
    "        'Yes': 1,\n",
    "        'No': 0,\n",
    "        'Not always': 0.5,  # Assign a value for 'Not always' (you can adjust this based on your preference)\n",
    "        # Add more mappings as needed\n",
    "    }\n",
    "\n",
    "    # Apply mapping to the 'Healthy_Diet' column\n",
    "\n",
    "    data['Healthy_Diet'] = data['Healthy_Diet'].map(healthy_diet_mapping)\n",
    "\n",
    "    # \n",
    "    age_mapping = {\n",
    "        '19 to 25': 1,\n",
    "        '15 to 18': 2,\n",
    "        '26 to 30': 3,\n",
    "        '30 to 40': 4,\n",
    "        '40 and above': 5,\n",
    "        # Add more mappings as needed\n",
    "    }\n",
    "\n",
    "    # Apply mapping to the 'Age' column\n",
    "    data['Age'] = pd.cut(\n",
    "        data['Age'],\n",
    "        bins=[0, 18, 25, 30, 40, float('inf')],\n",
    "        labels=age_mapping.values(),\n",
    "        include_lowest=True,\n",
    "        right=False)\n",
    "\n",
    "    exercise_forms = [\n",
    "        'Walking or jogging',\n",
    "        'Gym',\n",
    "        'Swimming',\n",
    "        'Yoga',\n",
    "        'Zumba dance',\n",
    "        'Lifting weights',\n",
    "        'Team sport',\n",
    "        \"I don't really exercise\"\n",
    "    ]\n",
    "\n",
    "    for form in exercise_forms:\n",
    "        column_name = form.replace(' ', '_').lower()  # Convert to lowercase and replace spaces with underscores\n",
    "        data[column_name] = data['Exercise_Preference'].str.contains(form).astype(int)\n",
    "\n",
    "    # List of columns to be deleted\n",
    "    columns_to_delete = ['Exercise_Preference', 'Exercise_Motivation', 'Diet_Barriers']\n",
    "\n",
    "    # Drop the specified columns\n",
    "    data = data.drop(columns=columns_to_delete, errors='ignore')\n",
    "\n",
    "    transformed_data = pipeline.transform(data)\n",
    "\n",
    "    return transformed_data\n"
   ],
   "metadata": {
    "collapsed": false,
    "ExecuteTime": {
     "end_time": "2023-12-17T01:41:41.233551200Z",
     "start_time": "2023-12-17T01:41:41.072454200Z"
    }
   },
   "id": "ad2854ac81a61d76"
  },
  {
   "cell_type": "code",
   "execution_count": 422,
   "outputs": [],
   "source": [
    "# df['Time_Preference'].unique()"
   ],
   "metadata": {
    "collapsed": false,
    "ExecuteTime": {
     "end_time": "2023-12-17T01:41:41.861520600Z",
     "start_time": "2023-12-17T01:41:41.678156200Z"
    }
   },
   "id": "7335d1e536877077"
  },
  {
   "cell_type": "code",
   "execution_count": 423,
   "outputs": [],
   "source": [
    "data_test = df.copy()"
   ],
   "metadata": {
    "collapsed": false,
    "ExecuteTime": {
     "end_time": "2023-12-17T01:41:42.645204100Z",
     "start_time": "2023-12-17T01:41:42.402098100Z"
    }
   },
   "id": "327577fe43abdeac"
  },
  {
   "cell_type": "code",
   "execution_count": 424,
   "outputs": [],
   "source": [
    "from numpy.random import normal\n",
    "\n",
    "data_test['Age'] = pd.Series(normal(50, 25, data_test.shape[0])).astype(int)"
   ],
   "metadata": {
    "collapsed": false,
    "ExecuteTime": {
     "end_time": "2023-12-17T01:41:42.862514400Z",
     "start_time": "2023-12-17T01:41:42.626549400Z"
    }
   },
   "id": "c2b03d10eaeb1b06"
  },
  {
   "cell_type": "code",
   "execution_count": 425,
   "outputs": [
    {
     "data": {
      "text/plain": "0       43\n1       45\n2      119\n3        3\n4       33\n      ... \n540     62\n541     53\n542     59\n543     38\n544     37\nName: Age, Length: 545, dtype: int32"
     },
     "execution_count": 425,
     "metadata": {},
     "output_type": "execute_result"
    }
   ],
   "source": [
    "data_test['Age']"
   ],
   "metadata": {
    "collapsed": false,
    "ExecuteTime": {
     "end_time": "2023-12-17T01:41:43.360531500Z",
     "start_time": "2023-12-17T01:41:43.175778100Z"
    }
   },
   "id": "aba57ac9fdda4787"
  },
  {
   "cell_type": "code",
   "execution_count": 426,
   "outputs": [],
   "source": [
    "# normal(50, 25, d.shape[0])"
   ],
   "metadata": {
    "collapsed": false,
    "ExecuteTime": {
     "end_time": "2023-12-17T01:41:44.650813400Z",
     "start_time": "2023-12-17T01:41:44.543943800Z"
    }
   },
   "id": "6e8be57f4ba925ab"
  },
  {
   "cell_type": "code",
   "execution_count": 427,
   "outputs": [],
   "source": [
    "data_test_transformed = processing(data_test)"
   ],
   "metadata": {
    "collapsed": false,
    "ExecuteTime": {
     "end_time": "2023-12-17T01:41:45.273753900Z",
     "start_time": "2023-12-17T01:41:45.128557900Z"
    }
   },
   "id": "7a7a3fdb601eddbe"
  },
  {
   "cell_type": "code",
   "execution_count": 428,
   "outputs": [],
   "source": [
    "# data_test_transformed.describe()"
   ],
   "metadata": {
    "collapsed": false,
    "ExecuteTime": {
     "end_time": "2023-12-17T01:41:45.834687700Z",
     "start_time": "2023-12-17T01:41:45.695026300Z"
    }
   },
   "id": "776d2b5d3607c499"
  },
  {
   "cell_type": "code",
   "execution_count": 429,
   "outputs": [
    {
     "data": {
      "text/plain": "numeric__Age                                            0\nnumeric__Exercise_Frequency                             0\nnumeric__Time_Preference                                0\nnumeric__Exercise_Duration                              0\nnumeric__Healthy_Diet                                   0\nnumeric__i_want_to_be_fit                               0\nnumeric__i_want_to_increase_muscle_mass_and_strength    0\nnumeric__i_want_to_lose_weight                          0\nnumeric__i_want_to_be_flexible                          0\nnumeric__i_want_to_relieve_stress                       0\nnumeric__i_want_to_achieve_a_sporting_goal              0\nnumeric__i'm_not_really_interested_in_exercising        0\nnumeric__walking_or_jogging                             0\nnumeric__gym                                            0\nnumeric__swimming                                       0\nnumeric__yoga                                           0\nnumeric__zumba_dance                                    0\nnumeric__lifting_weights                                0\nnumeric__team_sport                                     0\nnumeric__i_don't_really_exercise                        0\ncategorical__Sex_Female                                 0\ncategorical__Sex_Male                                   0\ndtype: int64"
     },
     "execution_count": 429,
     "metadata": {},
     "output_type": "execute_result"
    }
   ],
   "source": [
    "data_test_transformed.isna().sum()"
   ],
   "metadata": {
    "collapsed": false,
    "ExecuteTime": {
     "end_time": "2023-12-17T01:41:46.490152600Z",
     "start_time": "2023-12-17T01:41:46.107281200Z"
    }
   },
   "id": "3b3e9afb7a3f45a5"
  },
  {
   "cell_type": "code",
   "execution_count": 430,
   "outputs": [
    {
     "data": {
      "text/plain": "array([0.91863081, 1.17316488, 1.58294488, 2.25707321, 1.58003793,\n       2.20569853, 1.32470953, 0.96859027, 1.65189418, 1.39341214,\n       2.35771256, 1.45362947, 0.66540114, 1.34668433, 0.98314682,\n       2.0693564 , 0.96140313, 2.02021097, 1.11074676, 1.86106557,\n       1.19596962, 1.16308923, 1.29655163, 1.92765932, 2.21455838,\n       1.62722347, 1.73141559, 1.41268445, 2.92893879, 2.64462272,\n       2.03714116, 1.11254721, 1.12773736, 2.14102802, 1.22101527,\n       2.03347963, 2.08335572, 1.22284959, 2.2487205 , 2.73979727,\n       1.80261356, 2.23348628, 1.47227055, 1.58247838, 0.85835542,\n       2.1995298 , 1.45625394, 1.51398203, 1.5111249 , 1.44462779,\n       2.16825571, 1.94004239, 1.21050428, 2.13179607, 0.91863081,\n       1.43731961, 1.6160825 , 2.1666588 , 1.86232327, 1.42743068,\n       2.49212703, 1.50911362, 0.48002432, 2.17463191, 0.8172061 ,\n       0.94605244, 1.70736672, 1.88531847, 1.47541683, 1.82001099,\n       1.57190503, 1.45834369, 2.29512687, 1.41975256, 0.85267341,\n       1.67697717, 1.45553093, 1.65126487, 3.18815717, 1.61422434,\n       1.48098956, 1.19339501, 2.45995511, 1.79892545, 1.55456878,\n       0.56983535, 1.34991847, 1.37921303, 2.14431158, 1.93611612,\n       1.83983087, 1.87714102, 1.42968878, 1.12855763, 1.91933387,\n       1.20295811, 1.8940441 , 1.93945068, 1.39934524, 1.26967062,\n       1.77399946, 2.10182258, 2.29643568, 2.42735332, 2.12090372,\n       1.73580354, 1.16201526, 1.93537664, 1.70896623, 1.40779503,\n       1.47661536, 1.49382772, 1.39872923, 1.256096  , 1.28463335,\n       2.59373759, 1.93973147, 0.93947761, 1.5217386 , 2.34178263,\n       2.21367831, 2.09695965, 1.67722234, 1.14871122, 1.87173211,\n       0.7102584 , 2.15525618, 3.21495106, 2.42253088, 2.43313139,\n       1.93578468, 2.14381765, 1.38972387, 2.10644998, 0.7050264 ,\n       1.40808252, 1.75406413, 1.58003793, 1.73534301, 1.40648085,\n       1.90431647, 1.91148156, 1.70487433, 0.9893537 , 1.731093  ,\n       2.37984787, 2.15783957, 1.20483894, 1.7681564 , 1.48784347,\n       1.55496859, 1.30863704, 1.22594035, 1.98600272, 0.8172061 ,\n       2.1984086 , 1.94148039, 1.39802007, 2.85562433, 1.94467903,\n       2.03007691, 2.89705084, 1.44978713, 1.87334769, 1.97210383,\n       1.51318751, 2.34960021, 2.16769183, 1.98754204, 0.91863081,\n       2.27968141, 1.73999689, 1.36445204, 0.65184534, 1.66080891,\n       1.09272471, 2.34347477, 1.49064667, 3.30399647, 1.97867536,\n       3.52386454, 0.71449091, 0.7050264 , 1.66563437, 1.06151929,\n       2.44187842, 2.40208322, 1.78294537, 1.26733794, 1.15527983,\n       2.06216025, 2.03355369, 1.31284758, 2.03596348, 1.49043219,\n       1.78028856, 0.48439715, 2.1861625 , 1.49801634, 2.17109478,\n       1.19172778, 1.53221208, 1.16649642, 2.44403865, 1.88755215,\n       1.78005994, 1.87149573, 1.47689873, 1.44381526, 1.38951569,\n       1.52871645, 1.35740514, 0.7050264 , 0.98849565, 1.10042841,\n       2.15783957, 1.79192189, 0.83723866, 1.32278494, 1.27628295,\n       1.40699343, 1.82146472, 1.43948525, 1.5866489 , 1.9594644 ,\n       1.44575101, 1.86938609, 1.99799306, 1.86388964, 2.45560984,\n       2.45984903, 1.4851345 , 1.5217386 , 1.17405909, 1.59539685,\n       1.50033876, 1.99682061, 2.12427001, 1.30427088, 1.56922317,\n       1.31278807, 1.94349404, 1.53172592, 1.82457432, 1.35608988,\n       1.71199413, 0.7050264 , 2.24509696, 2.06776024, 1.27628295,\n       1.59460325, 1.26322016, 0.63679528, 1.54886068, 1.87295983,\n       1.75874325, 1.47782119, 1.6810263 , 1.00663565, 0.87719707,\n       0.71811631, 2.87354346, 1.88538907, 2.25349187, 1.32147539,\n       1.28953816, 2.21827914, 1.6380157 , 1.35459698, 0.86688904,\n       2.67031723, 2.76830713, 1.52649145, 1.39054622, 1.60682916,\n       1.07102894, 1.86123071, 1.5537428 , 1.9637196 , 1.79813864,\n       1.66584542, 0.78744504, 2.18111235, 0.70195971, 1.44380197,\n       1.44412915, 2.74703775, 1.75370266, 0.71449091, 0.54922883,\n       1.07540288, 1.58294488, 0.9262154 , 1.59189987, 1.96925611,\n       1.51332049, 1.41540936, 2.0086272 , 1.3554561 , 1.28708712,\n       3.11314507, 1.88618285, 0.56256493, 1.7088405 , 1.36317368,\n       1.96919524, 0.90214146, 1.05055998, 1.11574587, 1.31810155,\n       1.71926036, 1.60500961, 3.07347589, 0.78748753, 1.48867204,\n       1.45042952, 1.74388596, 2.68195519, 2.48355033, 2.25528864,\n       1.44412915, 2.03862951, 1.9400189 , 2.41161521, 1.82078598,\n       1.63196292, 3.04937837, 2.20035418, 1.6349042 , 2.18719087,\n       2.24418314, 1.68820028, 1.93814119, 1.95915312, 1.31387346,\n       2.54210652, 1.48988736, 1.82762261, 2.04558307, 2.44991471,\n       1.88582119, 1.79190539, 1.73464248, 2.60147934, 1.21947156,\n       3.17794227, 2.08344051, 1.79643721, 1.76345851, 1.81992979,\n       1.69601339, 1.28149014, 2.30146561, 0.92809532, 1.07214305,\n       1.90841483, 2.02974649, 2.22679476, 1.80705456, 2.05475723,\n       2.21827914, 2.04130406, 2.25277398, 1.77920491, 1.91145597,\n       1.20182145, 1.5931599 , 2.11876095, 1.47698988, 0.90737346,\n       1.58294488, 0.90214146, 2.04629777, 1.43986731, 1.57451028,\n       0.98122424, 0.80138165, 1.16198322, 1.76542569, 1.14185169,\n       1.3943779 , 1.4889658 , 1.66534439, 1.38927317, 1.67691463,\n       2.34917559, 1.23052474, 1.39400924, 1.45829325, 1.4632503 ,\n       3.05384788, 2.26451221, 1.49338808, 0.92824728, 1.44412915,\n       1.10444603, 1.66203467, 0.70567401, 2.28005969, 1.92553491,\n       1.35424517, 2.04255369, 1.88299002, 2.62269325, 1.50044186,\n       1.93621654, 1.46736006, 1.50538543, 1.40113701, 2.61640094,\n       1.37144807, 2.14898105, 1.43325602, 0.80283678, 1.80852853,\n       1.37440372, 2.20821808, 2.21311366, 1.07348271, 2.07308054,\n       1.01825101, 1.48610742, 2.06240408, 0.92405512, 1.79654929,\n       1.64877515, 1.16342056, 1.52311427, 1.25447398, 1.89435967,\n       1.13223522, 2.32661978, 1.50038024, 1.67484504, 0.78742669,\n       1.70125881, 2.18719087, 1.59517702, 1.08572544, 1.72530073,\n       1.44139365, 1.29108539, 1.14532856, 1.78397795, 1.45320251,\n       2.07214343, 1.51117511, 2.26440614, 1.21032555, 1.89547515,\n       1.92766536, 1.90215262, 2.12430915, 1.37877183, 1.13223522,\n       1.40595811, 1.55455228, 2.07744465, 1.675049  , 2.31363697,\n       1.71394317, 1.73534301, 1.72215729, 1.63910454, 2.22723325,\n       2.02706837, 1.85311167, 1.28798104, 2.17677719, 0.71077789,\n       0.85742453, 1.37732261, 1.36083326, 1.21077556, 1.13257446,\n       1.94738884, 1.004985  , 1.07163264, 1.36317368, 2.68403151,\n       1.36317368, 1.50446444, 2.23916465, 0.71449091, 1.73815935,\n       1.43522527, 2.36092303, 1.32241389, 1.54956276, 1.45829325,\n       1.98371897, 2.03318702, 1.95369139, 2.09959944, 1.47598213,\n       1.35269916, 1.97257616, 1.67709817, 3.09963945, 1.9650672 ,\n       2.20959614, 1.632531  , 2.33981344, 2.63408299, 1.46040938,\n       1.49338808, 1.91903755, 1.67863153, 0.69800156, 1.52150222,\n       2.10287733, 1.41222376, 2.14435364, 1.37399435, 1.33317222,\n       0.92386281, 1.65740638, 1.71394317, 1.21077556, 2.36750291,\n       2.21412027, 0.91863081, 1.45603411, 1.10924364, 1.54602234,\n       1.70036483, 0.85835542, 1.36271366, 1.51791475, 1.25810669,\n       1.76611206, 1.28088252, 1.49770618, 2.17872864, 2.47675726,\n       1.78908061, 1.80510304, 1.94432001, 1.87836262, 1.94432001,\n       1.94432001, 2.47956231, 1.37099226, 1.77159975, 0.90214146])"
     },
     "execution_count": 430,
     "metadata": {},
     "output_type": "execute_result"
    }
   ],
   "source": [
    "model.predict(data_test_transformed)"
   ],
   "metadata": {
    "collapsed": false,
    "ExecuteTime": {
     "end_time": "2023-12-17T01:41:51.869084Z",
     "start_time": "2023-12-17T01:41:51.757257700Z"
    }
   },
   "id": "90cbae54e200d951"
  },
  {
   "cell_type": "code",
   "execution_count": null,
   "outputs": [],
   "source": [],
   "metadata": {
    "collapsed": false
   },
   "id": "7e2b30ef4baea630"
  }
 ],
 "metadata": {
  "kernelspec": {
   "display_name": "Python 3",
   "language": "python",
   "name": "python3"
  },
  "language_info": {
   "codemirror_mode": {
    "name": "ipython",
    "version": 2
   },
   "file_extension": ".py",
   "mimetype": "text/x-python",
   "name": "python",
   "nbconvert_exporter": "python",
   "pygments_lexer": "ipython2",
   "version": "2.7.6"
  }
 },
 "nbformat": 4,
 "nbformat_minor": 5
}
