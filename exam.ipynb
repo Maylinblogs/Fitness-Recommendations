{
 "cells": [
  {
   "cell_type": "code",
   "execution_count": 3,
   "id": "initial_id",
   "metadata": {
    "collapsed": true,
    "ExecuteTime": {
     "end_time": "2023-12-18T13:30:25.364347Z",
     "start_time": "2023-12-18T13:30:22.151774400Z"
    }
   },
   "outputs": [],
   "source": [
    "import pandas as pd"
   ]
  },
  {
   "cell_type": "code",
   "execution_count": 4,
   "outputs": [],
   "source": [
    "df = pd.read_csv('exam_data.csv', encoding='utf-8')"
   ],
   "metadata": {
    "collapsed": false,
    "ExecuteTime": {
     "end_time": "2023-12-18T13:30:25.425351300Z",
     "start_time": "2023-12-18T13:30:25.368346400Z"
    }
   },
   "id": "6e5ab44968e7f4d6"
  },
  {
   "cell_type": "code",
   "execution_count": 5,
   "outputs": [
    {
     "data": {
      "text/plain": "         Date  Confirmed  Deaths  Recovered  Active  New cases  New deaths  \\\n0   1/22/2020          0       0          0       0          0           0   \n1   1/23/2020          0       0          0       0          0           0   \n2   1/24/2020          0       0          0       0          0           0   \n3   1/25/2020          0       0          0       0          0           0   \n4   1/26/2020          0       0          0       0          0           0   \n5   1/27/2020          0       0          0       0          0           0   \n6   1/28/2020          0       0          0       0          0           0   \n7   1/29/2020          0       0          0       0          0           0   \n8   1/30/2020          0       0          0       0          0           0   \n9   1/31/2020          0       0          0       0          0           0   \n10   2/1/2020          0       0          0       0          0           0   \n11   2/2/2020          0       0          0       0          0           0   \n12   2/3/2020          0       0          0       0          0           0   \n13   2/4/2020          0       0          0       0          0           0   \n14   2/5/2020          0       0          0       0          0           0   \n15   2/6/2020          0       0          0       0          0           0   \n16   2/7/2020          0       0          0       0          0           0   \n17   2/8/2020          0       0          0       0          0           0   \n18   2/9/2020          0       0          0       0          0           0   \n19  2/10/2020          0       0          0       0          0           0   \n\n    New recovered  \n0               0  \n1               0  \n2               0  \n3               0  \n4               0  \n5               0  \n6               0  \n7               0  \n8               0  \n9               0  \n10              0  \n11              0  \n12              0  \n13              0  \n14              0  \n15              0  \n16              0  \n17              0  \n18              0  \n19              0  ",
      "text/html": "<div>\n<style scoped>\n    .dataframe tbody tr th:only-of-type {\n        vertical-align: middle;\n    }\n\n    .dataframe tbody tr th {\n        vertical-align: top;\n    }\n\n    .dataframe thead th {\n        text-align: right;\n    }\n</style>\n<table border=\"1\" class=\"dataframe\">\n  <thead>\n    <tr style=\"text-align: right;\">\n      <th></th>\n      <th>Date</th>\n      <th>Confirmed</th>\n      <th>Deaths</th>\n      <th>Recovered</th>\n      <th>Active</th>\n      <th>New cases</th>\n      <th>New deaths</th>\n      <th>New recovered</th>\n    </tr>\n  </thead>\n  <tbody>\n    <tr>\n      <th>0</th>\n      <td>1/22/2020</td>\n      <td>0</td>\n      <td>0</td>\n      <td>0</td>\n      <td>0</td>\n      <td>0</td>\n      <td>0</td>\n      <td>0</td>\n    </tr>\n    <tr>\n      <th>1</th>\n      <td>1/23/2020</td>\n      <td>0</td>\n      <td>0</td>\n      <td>0</td>\n      <td>0</td>\n      <td>0</td>\n      <td>0</td>\n      <td>0</td>\n    </tr>\n    <tr>\n      <th>2</th>\n      <td>1/24/2020</td>\n      <td>0</td>\n      <td>0</td>\n      <td>0</td>\n      <td>0</td>\n      <td>0</td>\n      <td>0</td>\n      <td>0</td>\n    </tr>\n    <tr>\n      <th>3</th>\n      <td>1/25/2020</td>\n      <td>0</td>\n      <td>0</td>\n      <td>0</td>\n      <td>0</td>\n      <td>0</td>\n      <td>0</td>\n      <td>0</td>\n    </tr>\n    <tr>\n      <th>4</th>\n      <td>1/26/2020</td>\n      <td>0</td>\n      <td>0</td>\n      <td>0</td>\n      <td>0</td>\n      <td>0</td>\n      <td>0</td>\n      <td>0</td>\n    </tr>\n    <tr>\n      <th>5</th>\n      <td>1/27/2020</td>\n      <td>0</td>\n      <td>0</td>\n      <td>0</td>\n      <td>0</td>\n      <td>0</td>\n      <td>0</td>\n      <td>0</td>\n    </tr>\n    <tr>\n      <th>6</th>\n      <td>1/28/2020</td>\n      <td>0</td>\n      <td>0</td>\n      <td>0</td>\n      <td>0</td>\n      <td>0</td>\n      <td>0</td>\n      <td>0</td>\n    </tr>\n    <tr>\n      <th>7</th>\n      <td>1/29/2020</td>\n      <td>0</td>\n      <td>0</td>\n      <td>0</td>\n      <td>0</td>\n      <td>0</td>\n      <td>0</td>\n      <td>0</td>\n    </tr>\n    <tr>\n      <th>8</th>\n      <td>1/30/2020</td>\n      <td>0</td>\n      <td>0</td>\n      <td>0</td>\n      <td>0</td>\n      <td>0</td>\n      <td>0</td>\n      <td>0</td>\n    </tr>\n    <tr>\n      <th>9</th>\n      <td>1/31/2020</td>\n      <td>0</td>\n      <td>0</td>\n      <td>0</td>\n      <td>0</td>\n      <td>0</td>\n      <td>0</td>\n      <td>0</td>\n    </tr>\n    <tr>\n      <th>10</th>\n      <td>2/1/2020</td>\n      <td>0</td>\n      <td>0</td>\n      <td>0</td>\n      <td>0</td>\n      <td>0</td>\n      <td>0</td>\n      <td>0</td>\n    </tr>\n    <tr>\n      <th>11</th>\n      <td>2/2/2020</td>\n      <td>0</td>\n      <td>0</td>\n      <td>0</td>\n      <td>0</td>\n      <td>0</td>\n      <td>0</td>\n      <td>0</td>\n    </tr>\n    <tr>\n      <th>12</th>\n      <td>2/3/2020</td>\n      <td>0</td>\n      <td>0</td>\n      <td>0</td>\n      <td>0</td>\n      <td>0</td>\n      <td>0</td>\n      <td>0</td>\n    </tr>\n    <tr>\n      <th>13</th>\n      <td>2/4/2020</td>\n      <td>0</td>\n      <td>0</td>\n      <td>0</td>\n      <td>0</td>\n      <td>0</td>\n      <td>0</td>\n      <td>0</td>\n    </tr>\n    <tr>\n      <th>14</th>\n      <td>2/5/2020</td>\n      <td>0</td>\n      <td>0</td>\n      <td>0</td>\n      <td>0</td>\n      <td>0</td>\n      <td>0</td>\n      <td>0</td>\n    </tr>\n    <tr>\n      <th>15</th>\n      <td>2/6/2020</td>\n      <td>0</td>\n      <td>0</td>\n      <td>0</td>\n      <td>0</td>\n      <td>0</td>\n      <td>0</td>\n      <td>0</td>\n    </tr>\n    <tr>\n      <th>16</th>\n      <td>2/7/2020</td>\n      <td>0</td>\n      <td>0</td>\n      <td>0</td>\n      <td>0</td>\n      <td>0</td>\n      <td>0</td>\n      <td>0</td>\n    </tr>\n    <tr>\n      <th>17</th>\n      <td>2/8/2020</td>\n      <td>0</td>\n      <td>0</td>\n      <td>0</td>\n      <td>0</td>\n      <td>0</td>\n      <td>0</td>\n      <td>0</td>\n    </tr>\n    <tr>\n      <th>18</th>\n      <td>2/9/2020</td>\n      <td>0</td>\n      <td>0</td>\n      <td>0</td>\n      <td>0</td>\n      <td>0</td>\n      <td>0</td>\n      <td>0</td>\n    </tr>\n    <tr>\n      <th>19</th>\n      <td>2/10/2020</td>\n      <td>0</td>\n      <td>0</td>\n      <td>0</td>\n      <td>0</td>\n      <td>0</td>\n      <td>0</td>\n      <td>0</td>\n    </tr>\n  </tbody>\n</table>\n</div>"
     },
     "execution_count": 5,
     "metadata": {},
     "output_type": "execute_result"
    }
   ],
   "source": [
    "df.head(20)"
   ],
   "metadata": {
    "collapsed": false,
    "ExecuteTime": {
     "end_time": "2023-12-18T13:30:27.034349200Z",
     "start_time": "2023-12-18T13:30:26.963344200Z"
    }
   },
   "id": "a7ee6127258d64b"
  },
  {
   "cell_type": "code",
   "execution_count": 6,
   "outputs": [
    {
     "name": "stderr",
     "output_type": "stream",
     "text": [
      "D:\\Anaconda\\lib\\site-packages\\scipy\\__init__.py:155: UserWarning: A NumPy version >=1.18.5 and <1.25.0 is required for this version of SciPy (detected version 1.26.2\n",
      "  warnings.warn(f\"A NumPy version >={np_minversion} and <{np_maxversion}\"\n"
     ]
    },
    {
     "name": "stdout",
     "output_type": "stream",
     "text": [
      "WARNING:tensorflow:From D:\\Anaconda\\lib\\site-packages\\keras\\src\\losses.py:2976: The name tf.losses.sparse_softmax_cross_entropy is deprecated. Please use tf.compat.v1.losses.sparse_softmax_cross_entropy instead.\n",
      "(150, 1) (38, 1)\n",
      "WARNING:tensorflow:From D:\\Anaconda\\lib\\site-packages\\keras\\src\\backend.py:873: The name tf.get_default_graph is deprecated. Please use tf.compat.v1.get_default_graph instead.\n",
      "WARNING:tensorflow:From D:\\Anaconda\\lib\\site-packages\\keras\\src\\optimizers\\__init__.py:309: The name tf.train.Optimizer is deprecated. Please use tf.compat.v1.train.Optimizer instead.\n",
      "Epoch 1/50\n",
      "WARNING:tensorflow:From D:\\Anaconda\\lib\\site-packages\\keras\\src\\utils\\tf_utils.py:492: The name tf.ragged.RaggedTensorValue is deprecated. Please use tf.compat.v1.ragged.RaggedTensorValue instead.\n",
      "2/2 [==============================] - 3s 1s/step - loss: 0.0148 - val_loss: 0.0058\n",
      "Epoch 2/50\n",
      "2/2 [==============================] - 0s 102ms/step - loss: 0.0137 - val_loss: 0.0049\n",
      "Epoch 3/50\n",
      "2/2 [==============================] - 0s 90ms/step - loss: 0.0126 - val_loss: 0.0041\n",
      "Epoch 4/50\n",
      "2/2 [==============================] - 0s 107ms/step - loss: 0.0115 - val_loss: 0.0034\n",
      "Epoch 5/50\n",
      "2/2 [==============================] - 0s 103ms/step - loss: 0.0107 - val_loss: 0.0028\n",
      "Epoch 6/50\n",
      "2/2 [==============================] - 0s 64ms/step - loss: 0.0099 - val_loss: 0.0023\n",
      "Epoch 7/50\n",
      "2/2 [==============================] - 0s 60ms/step - loss: 0.0091 - val_loss: 0.0019\n",
      "Epoch 8/50\n",
      "2/2 [==============================] - 0s 52ms/step - loss: 0.0083 - val_loss: 0.0015\n",
      "Epoch 9/50\n",
      "2/2 [==============================] - 0s 53ms/step - loss: 0.0078 - val_loss: 0.0012\n",
      "Epoch 10/50\n",
      "2/2 [==============================] - 0s 69ms/step - loss: 0.0072 - val_loss: 9.2480e-04\n",
      "Epoch 11/50\n",
      "2/2 [==============================] - 0s 100ms/step - loss: 0.0067 - val_loss: 7.1890e-04\n",
      "Epoch 12/50\n",
      "2/2 [==============================] - 0s 61ms/step - loss: 0.0062 - val_loss: 5.5716e-04\n",
      "Epoch 13/50\n",
      "2/2 [==============================] - 0s 51ms/step - loss: 0.0058 - val_loss: 4.3468e-04\n",
      "Epoch 14/50\n",
      "2/2 [==============================] - 0s 52ms/step - loss: 0.0054 - val_loss: 3.4030e-04\n",
      "Epoch 15/50\n",
      "2/2 [==============================] - 0s 49ms/step - loss: 0.0052 - val_loss: 2.6779e-04\n",
      "Epoch 16/50\n",
      "2/2 [==============================] - 0s 54ms/step - loss: 0.0048 - val_loss: 2.1708e-04\n",
      "Epoch 17/50\n",
      "2/2 [==============================] - 0s 58ms/step - loss: 0.0046 - val_loss: 1.7999e-04\n",
      "Epoch 18/50\n",
      "2/2 [==============================] - 0s 85ms/step - loss: 0.0044 - val_loss: 1.5699e-04\n",
      "Epoch 19/50\n",
      "2/2 [==============================] - 0s 84ms/step - loss: 0.0042 - val_loss: 1.4542e-04\n",
      "Epoch 20/50\n",
      "2/2 [==============================] - 0s 58ms/step - loss: 0.0039 - val_loss: 1.3865e-04\n",
      "Epoch 21/50\n",
      "2/2 [==============================] - 0s 64ms/step - loss: 0.0038 - val_loss: 1.3305e-04\n",
      "Epoch 22/50\n",
      "2/2 [==============================] - 0s 78ms/step - loss: 0.0036 - val_loss: 1.2789e-04\n",
      "Epoch 23/50\n",
      "2/2 [==============================] - 0s 74ms/step - loss: 0.0034 - val_loss: 1.2246e-04\n",
      "Epoch 24/50\n",
      "2/2 [==============================] - 0s 71ms/step - loss: 0.0032 - val_loss: 1.1887e-04\n",
      "Epoch 25/50\n",
      "2/2 [==============================] - 0s 144ms/step - loss: 0.0031 - val_loss: 1.1583e-04\n",
      "Epoch 26/50\n",
      "2/2 [==============================] - 0s 109ms/step - loss: 0.0029 - val_loss: 1.1020e-04\n",
      "Epoch 27/50\n",
      "2/2 [==============================] - 0s 67ms/step - loss: 0.0027 - val_loss: 1.0349e-04\n",
      "Epoch 28/50\n",
      "2/2 [==============================] - 0s 68ms/step - loss: 0.0025 - val_loss: 9.8396e-05\n",
      "Epoch 29/50\n",
      "2/2 [==============================] - 0s 71ms/step - loss: 0.0024 - val_loss: 9.5918e-05\n",
      "Epoch 30/50\n",
      "2/2 [==============================] - 0s 78ms/step - loss: 0.0022 - val_loss: 9.3621e-05\n",
      "Epoch 31/50\n",
      "2/2 [==============================] - 0s 92ms/step - loss: 0.0020 - val_loss: 9.2200e-05\n",
      "Epoch 32/50\n",
      "2/2 [==============================] - 0s 103ms/step - loss: 0.0019 - val_loss: 8.5312e-05\n",
      "Epoch 33/50\n",
      "2/2 [==============================] - 0s 74ms/step - loss: 0.0017 - val_loss: 7.8648e-05\n",
      "Epoch 34/50\n",
      "2/2 [==============================] - 0s 77ms/step - loss: 0.0016 - val_loss: 7.5314e-05\n",
      "Epoch 35/50\n",
      "2/2 [==============================] - 0s 76ms/step - loss: 0.0014 - val_loss: 7.3882e-05\n",
      "Epoch 36/50\n",
      "2/2 [==============================] - 0s 64ms/step - loss: 0.0013 - val_loss: 7.7274e-05\n",
      "Epoch 37/50\n",
      "2/2 [==============================] - 0s 71ms/step - loss: 0.0011 - val_loss: 8.3281e-05\n",
      "Epoch 38/50\n",
      "2/2 [==============================] - 0s 73ms/step - loss: 0.0010 - val_loss: 8.5147e-05\n",
      "Epoch 39/50\n",
      "2/2 [==============================] - 0s 68ms/step - loss: 8.9451e-04 - val_loss: 8.5457e-05\n",
      "Epoch 40/50\n",
      "2/2 [==============================] - 0s 64ms/step - loss: 7.8950e-04 - val_loss: 8.5753e-05\n",
      "Epoch 41/50\n",
      "2/2 [==============================] - 0s 78ms/step - loss: 6.9077e-04 - val_loss: 8.3688e-05\n",
      "Epoch 42/50\n",
      "2/2 [==============================] - 0s 64ms/step - loss: 5.9871e-04 - val_loss: 7.6235e-05\n",
      "Epoch 43/50\n",
      "2/2 [==============================] - 0s 65ms/step - loss: 5.1633e-04 - val_loss: 6.5931e-05\n",
      "Epoch 44/50\n",
      "2/2 [==============================] - 0s 70ms/step - loss: 4.5131e-04 - val_loss: 5.7028e-05\n",
      "Epoch 45/50\n",
      "2/2 [==============================] - 0s 62ms/step - loss: 3.8217e-04 - val_loss: 5.1460e-05\n",
      "Epoch 46/50\n",
      "2/2 [==============================] - 0s 64ms/step - loss: 3.3397e-04 - val_loss: 4.8075e-05\n",
      "Epoch 47/50\n",
      "2/2 [==============================] - 0s 61ms/step - loss: 2.9300e-04 - val_loss: 5.0810e-05\n",
      "Epoch 48/50\n",
      "2/2 [==============================] - 0s 79ms/step - loss: 2.5382e-04 - val_loss: 6.3976e-05\n",
      "Epoch 49/50\n",
      "2/2 [==============================] - 0s 76ms/step - loss: 2.2370e-04 - val_loss: 8.4549e-05\n",
      "Epoch 50/50\n",
      "2/2 [==============================] - 0s 76ms/step - loss: 2.0366e-04 - val_loss: 1.0549e-04\n",
      "1/1 [==============================] - 0s 57ms/step - loss: 0.0375\n",
      "Mean Squared Error on test data: 0.037480324506759644\n",
      "1/1 [==============================] - 0s 307ms/step\n",
      "[[ 4627.5317]\n",
      " [ 5444.4907]\n",
      " [ 5717.864 ]\n",
      " [ 7230.249 ]\n",
      " [ 9261.993 ]\n",
      " [10706.798 ]\n",
      " [12615.671 ]\n",
      " [14514.067 ]\n",
      " [17017.594 ]\n",
      " [19194.773 ]\n",
      " [21386.475 ]\n",
      " [22844.777 ]]\n"
     ]
    }
   ],
   "source": [
    "import numpy as np\n",
    "import pandas as pd\n",
    "from sklearn.preprocessing import MinMaxScaler\n",
    "from sklearn.model_selection import train_test_split\n",
    "from tensorflow.keras.models import Sequential\n",
    "from tensorflow.keras.layers import LSTM, Dense\n",
    "\n",
    "\n",
    "# Assuming df is your DataFrame\n",
    "# Replace 'Active' with the actual name of your target column\n",
    "X = np.array(df.Active).reshape(-1, 1)\n",
    "scaler = MinMaxScaler()\n",
    "X_scaled = scaler.fit_transform(X)\n",
    "\n",
    "# Train / Test split (initial only)\n",
    "train_data, test_data = train_test_split(X_scaled, test_size=0.2, shuffle=False)\n",
    "print(train_data.shape, test_data.shape)\n",
    "\n",
    "def get_XY(dat, time_steps):\n",
    "    # Prepare Y\n",
    "    Y_ind = np.arange(time_steps, len(dat), time_steps)\n",
    "    Y = dat[Y_ind]\n",
    "\n",
    "    # Prepare X\n",
    "    rows_x = len(Y)\n",
    "    X = dat[range(time_steps*rows_x)]\n",
    "    X = np.reshape(X, (rows_x, time_steps, 1))\n",
    "\n",
    "    return X, Y\n",
    "\n",
    "time_steps = 3\n",
    "trainX, trainY = get_XY(train_data, time_steps)\n",
    "testX, testY = get_XY(test_data, time_steps)\n",
    "\n",
    "# Build the LSTM model\n",
    "model = Sequential()\n",
    "model.add(LSTM(50, activation='relu', input_shape=(time_steps, 1)))\n",
    "model.add(Dense(1))\n",
    "\n",
    "model.compile(optimizer='adam', loss='mse')\n",
    "\n",
    "# Train the model\n",
    "model.fit(trainX, trainY, epochs=50, batch_size=32, validation_split=0.1)\n",
    "\n",
    "# Evaluate the model\n",
    "mse = model.evaluate(testX, testY)\n",
    "print(f'Mean Squared Error on test data: {mse}')\n",
    "\n",
    "# Make predictions\n",
    "predictions = model.predict(testX)\n",
    "\n",
    "# Inverse transform the predictions to get them back to the original scale\n",
    "predictions = scaler.inverse_transform(predictions)\n",
    "\n",
    "# Print the predictions\n",
    "print(predictions)\n",
    "\n"
   ],
   "metadata": {
    "collapsed": false,
    "ExecuteTime": {
     "end_time": "2023-12-18T13:31:02.279354200Z",
     "start_time": "2023-12-18T13:30:28.096603200Z"
    }
   },
   "id": "41894769fa449347"
  },
  {
   "cell_type": "code",
   "execution_count": 7,
   "outputs": [
    {
     "data": {
      "text/plain": "array([[[0.00000000e+00],\n        [0.00000000e+00],\n        [0.00000000e+00]],\n\n       [[0.00000000e+00],\n        [0.00000000e+00],\n        [0.00000000e+00]],\n\n       [[0.00000000e+00],\n        [0.00000000e+00],\n        [0.00000000e+00]],\n\n       [[0.00000000e+00],\n        [0.00000000e+00],\n        [0.00000000e+00]],\n\n       [[0.00000000e+00],\n        [0.00000000e+00],\n        [0.00000000e+00]],\n\n       [[0.00000000e+00],\n        [0.00000000e+00],\n        [0.00000000e+00]],\n\n       [[0.00000000e+00],\n        [0.00000000e+00],\n        [0.00000000e+00]],\n\n       [[0.00000000e+00],\n        [0.00000000e+00],\n        [0.00000000e+00]],\n\n       [[0.00000000e+00],\n        [0.00000000e+00],\n        [0.00000000e+00]],\n\n       [[0.00000000e+00],\n        [0.00000000e+00],\n        [0.00000000e+00]],\n\n       [[2.74891418e-05],\n        [2.74891418e-05],\n        [2.74891418e-05]],\n\n       [[2.74891418e-05],\n        [2.74891418e-05],\n        [5.49782836e-05]],\n\n       [[5.49782836e-05],\n        [8.24674254e-05],\n        [1.64934851e-04]],\n\n       [[2.47402276e-04],\n        [2.47402276e-04],\n        [3.02380560e-04]],\n\n       [[3.84847985e-04],\n        [5.22293694e-04],\n        [9.62119963e-04]],\n\n       [[1.12705481e-03],\n        [1.62185937e-03],\n        [1.62185937e-03]],\n\n       [[1.95172907e-03],\n        [2.06168563e-03],\n        [2.63895761e-03]],\n\n       [[3.35367530e-03],\n        [4.15086041e-03],\n        [5.74523063e-03]],\n\n       [[5.88267634e-03],\n        [6.56990489e-03],\n        [8.05431854e-03]],\n\n       [[1.14354830e-02],\n        [1.41569080e-02],\n        [1.85551707e-02]],\n\n       [[2.32283248e-02],\n        [2.83962835e-02],\n        [3.24921656e-02]],\n\n       [[6.33899610e-02],\n        [7.19390841e-02],\n        [8.09280334e-02]],\n\n       [[9.67068008e-02],\n        [1.12705481e-01],\n        [1.24195943e-01]],\n\n       [[1.40579471e-01],\n        [1.60124251e-01],\n        [1.78212106e-01]],\n\n       [[1.92011655e-01],\n        [2.02869866e-01],\n        [2.17274177e-01]],\n\n       [[2.27115289e-01],\n        [2.31266150e-01],\n        [2.34482379e-01]],\n\n       [[2.43856177e-01],\n        [2.50975865e-01],\n        [2.55676508e-01]],\n\n       [[2.58810270e-01],\n        [2.64308098e-01],\n        [2.67414371e-01]],\n\n       [[2.69613503e-01],\n        [2.69338611e-01],\n        [2.66782121e-01]],\n\n       [[2.65132773e-01],\n        [2.62933641e-01],\n        [2.60789488e-01]],\n\n       [[2.54302051e-01],\n        [2.49986255e-01],\n        [2.47402276e-01]],\n\n       [[2.43581285e-01],\n        [2.38165924e-01],\n        [2.33960086e-01]],\n\n       [[2.24063995e-01],\n        [2.13645610e-01],\n        [2.03034801e-01]],\n\n       [[1.96904723e-01],\n        [1.84727033e-01],\n        [1.74913409e-01]],\n\n       [[1.71174886e-01],\n        [1.63477926e-01],\n        [1.53554346e-01]],\n\n       [[1.49375996e-01],\n        [1.44812799e-01],\n        [1.36401122e-01]],\n\n       [[1.32800044e-01],\n        [1.31810435e-01],\n        [1.21089670e-01]],\n\n       [[1.15069548e-01],\n        [1.11386003e-01],\n        [1.04266315e-01]],\n\n       [[1.02699434e-01],\n        [9.57996591e-02],\n        [9.35455495e-02]],\n\n       [[8.56011875e-02],\n        [8.09830117e-02],\n        [7.92786849e-02]],\n\n       [[7.36709000e-02],\n        [6.86128979e-02],\n        [6.44070592e-02]],\n\n       [[6.28126890e-02],\n        [5.89916983e-02],\n        [5.55005773e-02]],\n\n       [[5.33839134e-02],\n        [5.24767717e-02],\n        [5.29715762e-02]],\n\n       [[5.26966848e-02],\n        [5.42635659e-02],\n        [5.51432184e-02]],\n\n       [[5.64901864e-02],\n        [5.78096652e-02],\n        [6.02287097e-02]],\n\n       [[6.17131233e-02],\n        [6.63862774e-02],\n        [6.80081368e-02]],\n\n       [[7.23514212e-02],\n        [7.48254439e-02],\n        [7.93886415e-02]],\n\n       [[8.29897191e-02],\n        [8.81576777e-02],\n        [9.11265050e-02]],\n\n       [[9.29132992e-02],\n        [9.67617791e-02],\n        [1.02919347e-01]]])"
     },
     "execution_count": 7,
     "metadata": {},
     "output_type": "execute_result"
    }
   ],
   "source": [
    "trainX"
   ],
   "metadata": {
    "collapsed": false,
    "ExecuteTime": {
     "end_time": "2023-12-18T13:31:02.322033900Z",
     "start_time": "2023-12-18T13:31:02.286355700Z"
    }
   },
   "id": "7ba9a100541721be"
  },
  {
   "cell_type": "markdown",
   "source": [
    "# Testing"
   ],
   "metadata": {
    "collapsed": false
   },
   "id": "74404fc78ad72afa"
  },
  {
   "cell_type": "code",
   "execution_count": 8,
   "outputs": [
    {
     "name": "stdout",
     "output_type": "stream",
     "text": [
      "2/2 [==============================] - 0s 4ms/step\n"
     ]
    }
   ],
   "source": [
    "output = pd.DataFrame()\n",
    "output['pred'] = pd.Series(scaler.inverse_transform(model.predict(trainX))[:, 0])\n",
    "output['true'] = scaler.inverse_transform(trainX[:, -1])[:, 0]"
   ],
   "metadata": {
    "collapsed": false,
    "ExecuteTime": {
     "end_time": "2023-12-18T13:31:02.485183400Z",
     "start_time": "2023-12-18T13:31:02.306356800Z"
    }
   },
   "id": "7f8798a5b71aa3a4"
  },
  {
   "cell_type": "code",
   "execution_count": 9,
   "outputs": [
    {
     "data": {
      "text/plain": "           pred    true\n0    182.272598     0.0\n1    182.272598     0.0\n2    182.272598     0.0\n3    182.272598     0.0\n4    182.272598     0.0\n5    182.272598     0.0\n6    182.272598     0.0\n7    182.272598     0.0\n8    182.272598     0.0\n9    182.272598     0.0\n10   183.166351     1.0\n11   183.411774     2.0\n12   185.340271     6.0\n13   190.812988    11.0\n14   201.438110    35.0\n15   228.740845    59.0\n16   253.125732    96.0\n17   321.473602   209.0\n18   401.054321   293.0\n19   650.943604   675.0\n20  1086.553467  1182.0\n21  2537.554443  2944.0\n22  3837.831787  4518.0\n23  5474.649414  6483.0\n24  7043.923340  7904.0\n25  8024.290527  8530.0\n26  8648.197266  9301.0\n27  9039.418945  9728.0\n28  9193.722656  9705.0\n29  9063.544922  9487.0\n30  8712.166992  9000.0\n31  8318.964844  8511.0\n32  7477.748535  7386.0\n33  6496.816406  6363.0\n34  5696.479492  5586.0\n35  5024.551270  4962.0\n36  4508.874512  4405.0\n37  3882.211914  3793.0\n38  3441.637207  3403.0\n39  2916.241211  2884.0\n40  2483.201172  2343.0\n41  2151.401123  2019.0\n42  1932.379272  1927.0\n43  1963.179810  2006.0\n44  2098.948242  2191.0\n45  2334.467529  2474.0\n46  2673.525879  2888.0\n47  3071.885254  3315.0\n48  3409.546387  3744.0",
      "text/html": "<div>\n<style scoped>\n    .dataframe tbody tr th:only-of-type {\n        vertical-align: middle;\n    }\n\n    .dataframe tbody tr th {\n        vertical-align: top;\n    }\n\n    .dataframe thead th {\n        text-align: right;\n    }\n</style>\n<table border=\"1\" class=\"dataframe\">\n  <thead>\n    <tr style=\"text-align: right;\">\n      <th></th>\n      <th>pred</th>\n      <th>true</th>\n    </tr>\n  </thead>\n  <tbody>\n    <tr>\n      <th>0</th>\n      <td>182.272598</td>\n      <td>0.0</td>\n    </tr>\n    <tr>\n      <th>1</th>\n      <td>182.272598</td>\n      <td>0.0</td>\n    </tr>\n    <tr>\n      <th>2</th>\n      <td>182.272598</td>\n      <td>0.0</td>\n    </tr>\n    <tr>\n      <th>3</th>\n      <td>182.272598</td>\n      <td>0.0</td>\n    </tr>\n    <tr>\n      <th>4</th>\n      <td>182.272598</td>\n      <td>0.0</td>\n    </tr>\n    <tr>\n      <th>5</th>\n      <td>182.272598</td>\n      <td>0.0</td>\n    </tr>\n    <tr>\n      <th>6</th>\n      <td>182.272598</td>\n      <td>0.0</td>\n    </tr>\n    <tr>\n      <th>7</th>\n      <td>182.272598</td>\n      <td>0.0</td>\n    </tr>\n    <tr>\n      <th>8</th>\n      <td>182.272598</td>\n      <td>0.0</td>\n    </tr>\n    <tr>\n      <th>9</th>\n      <td>182.272598</td>\n      <td>0.0</td>\n    </tr>\n    <tr>\n      <th>10</th>\n      <td>183.166351</td>\n      <td>1.0</td>\n    </tr>\n    <tr>\n      <th>11</th>\n      <td>183.411774</td>\n      <td>2.0</td>\n    </tr>\n    <tr>\n      <th>12</th>\n      <td>185.340271</td>\n      <td>6.0</td>\n    </tr>\n    <tr>\n      <th>13</th>\n      <td>190.812988</td>\n      <td>11.0</td>\n    </tr>\n    <tr>\n      <th>14</th>\n      <td>201.438110</td>\n      <td>35.0</td>\n    </tr>\n    <tr>\n      <th>15</th>\n      <td>228.740845</td>\n      <td>59.0</td>\n    </tr>\n    <tr>\n      <th>16</th>\n      <td>253.125732</td>\n      <td>96.0</td>\n    </tr>\n    <tr>\n      <th>17</th>\n      <td>321.473602</td>\n      <td>209.0</td>\n    </tr>\n    <tr>\n      <th>18</th>\n      <td>401.054321</td>\n      <td>293.0</td>\n    </tr>\n    <tr>\n      <th>19</th>\n      <td>650.943604</td>\n      <td>675.0</td>\n    </tr>\n    <tr>\n      <th>20</th>\n      <td>1086.553467</td>\n      <td>1182.0</td>\n    </tr>\n    <tr>\n      <th>21</th>\n      <td>2537.554443</td>\n      <td>2944.0</td>\n    </tr>\n    <tr>\n      <th>22</th>\n      <td>3837.831787</td>\n      <td>4518.0</td>\n    </tr>\n    <tr>\n      <th>23</th>\n      <td>5474.649414</td>\n      <td>6483.0</td>\n    </tr>\n    <tr>\n      <th>24</th>\n      <td>7043.923340</td>\n      <td>7904.0</td>\n    </tr>\n    <tr>\n      <th>25</th>\n      <td>8024.290527</td>\n      <td>8530.0</td>\n    </tr>\n    <tr>\n      <th>26</th>\n      <td>8648.197266</td>\n      <td>9301.0</td>\n    </tr>\n    <tr>\n      <th>27</th>\n      <td>9039.418945</td>\n      <td>9728.0</td>\n    </tr>\n    <tr>\n      <th>28</th>\n      <td>9193.722656</td>\n      <td>9705.0</td>\n    </tr>\n    <tr>\n      <th>29</th>\n      <td>9063.544922</td>\n      <td>9487.0</td>\n    </tr>\n    <tr>\n      <th>30</th>\n      <td>8712.166992</td>\n      <td>9000.0</td>\n    </tr>\n    <tr>\n      <th>31</th>\n      <td>8318.964844</td>\n      <td>8511.0</td>\n    </tr>\n    <tr>\n      <th>32</th>\n      <td>7477.748535</td>\n      <td>7386.0</td>\n    </tr>\n    <tr>\n      <th>33</th>\n      <td>6496.816406</td>\n      <td>6363.0</td>\n    </tr>\n    <tr>\n      <th>34</th>\n      <td>5696.479492</td>\n      <td>5586.0</td>\n    </tr>\n    <tr>\n      <th>35</th>\n      <td>5024.551270</td>\n      <td>4962.0</td>\n    </tr>\n    <tr>\n      <th>36</th>\n      <td>4508.874512</td>\n      <td>4405.0</td>\n    </tr>\n    <tr>\n      <th>37</th>\n      <td>3882.211914</td>\n      <td>3793.0</td>\n    </tr>\n    <tr>\n      <th>38</th>\n      <td>3441.637207</td>\n      <td>3403.0</td>\n    </tr>\n    <tr>\n      <th>39</th>\n      <td>2916.241211</td>\n      <td>2884.0</td>\n    </tr>\n    <tr>\n      <th>40</th>\n      <td>2483.201172</td>\n      <td>2343.0</td>\n    </tr>\n    <tr>\n      <th>41</th>\n      <td>2151.401123</td>\n      <td>2019.0</td>\n    </tr>\n    <tr>\n      <th>42</th>\n      <td>1932.379272</td>\n      <td>1927.0</td>\n    </tr>\n    <tr>\n      <th>43</th>\n      <td>1963.179810</td>\n      <td>2006.0</td>\n    </tr>\n    <tr>\n      <th>44</th>\n      <td>2098.948242</td>\n      <td>2191.0</td>\n    </tr>\n    <tr>\n      <th>45</th>\n      <td>2334.467529</td>\n      <td>2474.0</td>\n    </tr>\n    <tr>\n      <th>46</th>\n      <td>2673.525879</td>\n      <td>2888.0</td>\n    </tr>\n    <tr>\n      <th>47</th>\n      <td>3071.885254</td>\n      <td>3315.0</td>\n    </tr>\n    <tr>\n      <th>48</th>\n      <td>3409.546387</td>\n      <td>3744.0</td>\n    </tr>\n  </tbody>\n</table>\n</div>"
     },
     "execution_count": 9,
     "metadata": {},
     "output_type": "execute_result"
    }
   ],
   "source": [
    "output"
   ],
   "metadata": {
    "collapsed": false,
    "ExecuteTime": {
     "end_time": "2023-12-18T13:31:02.515187Z",
     "start_time": "2023-12-18T13:31:02.479183Z"
    }
   },
   "id": "ef9529261f17b48a"
  },
  {
   "cell_type": "code",
   "execution_count": 195,
   "outputs": [
    {
     "data": {
      "text/plain": "Text(0.5, 1.0, 'train')"
     },
     "execution_count": 195,
     "metadata": {},
     "output_type": "execute_result"
    },
    {
     "data": {
      "text/plain": "<Figure size 640x480 with 1 Axes>",
      "image/png": "[encoded data removed]"
     },
     "metadata": {},
     "output_type": "display_data"
    }
   ],
   "source": [
    "from matplotlib import pyplot as plt\n",
    "\n",
    "output.plot()\n",
    "\n",
    "plt.title('train')"
   ],
   "metadata": {
    "collapsed": false,
    "ExecuteTime": {
     "end_time": "2023-12-18T12:55:09.256414Z",
     "start_time": "2023-12-18T12:55:08.987852100Z"
    }
   },
   "id": "81de4ac6eb04880e"
  },
  {
   "cell_type": "code",
   "execution_count": 196,
   "outputs": [
    {
     "name": "stdout",
     "output_type": "stream",
     "text": [
      "1/1 [==============================] - 0s 30ms/step\n"
     ]
    }
   ],
   "source": [
    "output = pd.DataFrame()\n",
    "output['pred'] = pd.Series(scaler.inverse_transform(model.predict(testX))[:, 0])\n",
    "output['true'] = scaler.inverse_transform(testX[:, -1])[:, 0]"
   ],
   "metadata": {
    "collapsed": false,
    "ExecuteTime": {
     "end_time": "2023-12-18T12:55:10.656749700Z",
     "start_time": "2023-12-18T12:55:10.547556700Z"
    }
   },
   "id": "8d07dce1978032af"
  },
  {
   "cell_type": "code",
   "execution_count": 197,
   "outputs": [
    {
     "data": {
      "text/plain": "            pred     true\n0    4690.183105   5014.0\n1    5511.921387   6084.0\n2    5785.001953   6363.0\n3    7297.386230   8483.0\n4    9255.917969  11024.0\n5   10669.717773  13653.0\n6   12417.415039  17302.0\n7   14132.878906  20872.0\n8   16343.157227  25305.0\n9   18255.394531  28205.0\n10  20149.394531  32345.0\n11  21424.453125  33304.0",
      "text/html": "<div>\n<style scoped>\n    .dataframe tbody tr th:only-of-type {\n        vertical-align: middle;\n    }\n\n    .dataframe tbody tr th {\n        vertical-align: top;\n    }\n\n    .dataframe thead th {\n        text-align: right;\n    }\n</style>\n<table border=\"1\" class=\"dataframe\">\n  <thead>\n    <tr style=\"text-align: right;\">\n      <th></th>\n      <th>pred</th>\n      <th>true</th>\n    </tr>\n  </thead>\n  <tbody>\n    <tr>\n      <th>0</th>\n      <td>4690.183105</td>\n      <td>5014.0</td>\n    </tr>\n    <tr>\n      <th>1</th>\n      <td>5511.921387</td>\n      <td>6084.0</td>\n    </tr>\n    <tr>\n      <th>2</th>\n      <td>5785.001953</td>\n      <td>6363.0</td>\n    </tr>\n    <tr>\n      <th>3</th>\n      <td>7297.386230</td>\n      <td>8483.0</td>\n    </tr>\n    <tr>\n      <th>4</th>\n      <td>9255.917969</td>\n      <td>11024.0</td>\n    </tr>\n    <tr>\n      <th>5</th>\n      <td>10669.717773</td>\n      <td>13653.0</td>\n    </tr>\n    <tr>\n      <th>6</th>\n      <td>12417.415039</td>\n      <td>17302.0</td>\n    </tr>\n    <tr>\n      <th>7</th>\n      <td>14132.878906</td>\n      <td>20872.0</td>\n    </tr>\n    <tr>\n      <th>8</th>\n      <td>16343.157227</td>\n      <td>25305.0</td>\n    </tr>\n    <tr>\n      <th>9</th>\n      <td>18255.394531</td>\n      <td>28205.0</td>\n    </tr>\n    <tr>\n      <th>10</th>\n      <td>20149.394531</td>\n      <td>32345.0</td>\n    </tr>\n    <tr>\n      <th>11</th>\n      <td>21424.453125</td>\n      <td>33304.0</td>\n    </tr>\n  </tbody>\n</table>\n</div>"
     },
     "execution_count": 197,
     "metadata": {},
     "output_type": "execute_result"
    }
   ],
   "source": [
    "output"
   ],
   "metadata": {
    "collapsed": false,
    "ExecuteTime": {
     "end_time": "2023-12-18T12:55:12.568797900Z",
     "start_time": "2023-12-18T12:55:12.546514600Z"
    }
   },
   "id": "8e5926f0583d6d1b"
  },
  {
   "cell_type": "code",
   "execution_count": 198,
   "outputs": [
    {
     "data": {
      "text/plain": "Text(0.5, 1.0, 'test')"
     },
     "execution_count": 198,
     "metadata": {},
     "output_type": "execute_result"
    },
    {
     "data": {
      "text/plain": "<Figure size 640x480 with 1 Axes>",
      "image/png": "[encoded data removed]"
     },
     "metadata": {},
     "output_type": "display_data"
    }
   ],
   "source": [
    "output.plot()\n",
    "\n",
    "plt.title('test')"
   ],
   "metadata": {
    "collapsed": false,
    "ExecuteTime": {
     "end_time": "2023-12-18T12:55:13.691394Z",
     "start_time": "2023-12-18T12:55:13.391524200Z"
    }
   },
   "id": "75affef6d09ca132"
  },
  {
   "cell_type": "markdown",
   "source": [
    "# Specific date prediction"
   ],
   "metadata": {
    "collapsed": false
   },
   "id": "57ab6875846ed489"
  },
  {
   "cell_type": "code",
   "execution_count": 2,
   "outputs": [
    {
     "ename": "NameError",
     "evalue": "name 'pd' is not defined",
     "output_type": "error",
     "traceback": [
      "\u001B[1;31m---------------------------------------------------------------------------\u001B[0m",
      "\u001B[1;31mNameError\u001B[0m                                 Traceback (most recent call last)",
      "\u001B[1;32m~\\AppData\\Local\\Temp\\ipykernel_7264\\410600962.py\u001B[0m in \u001B[0;36m<module>\u001B[1;34m\u001B[0m\n\u001B[0;32m      1\u001B[0m \u001B[0mspecific_date\u001B[0m \u001B[1;33m=\u001B[0m \u001B[1;34m'18/12/2023'\u001B[0m\u001B[1;33m\u001B[0m\u001B[1;33m\u001B[0m\u001B[0m\n\u001B[1;32m----> 2\u001B[1;33m \u001B[0mtoday_data\u001B[0m \u001B[1;33m=\u001B[0m \u001B[0mpd\u001B[0m\u001B[1;33m.\u001B[0m\u001B[0mDataFrame\u001B[0m\u001B[1;33m(\u001B[0m\u001B[1;33m{\u001B[0m\u001B[1;34m'Date'\u001B[0m\u001B[1;33m:\u001B[0m \u001B[1;33m[\u001B[0m\u001B[0mspecific_date\u001B[0m\u001B[1;33m]\u001B[0m\u001B[1;33m}\u001B[0m\u001B[1;33m)\u001B[0m\u001B[1;33m\u001B[0m\u001B[1;33m\u001B[0m\u001B[0m\n\u001B[0m\u001B[0;32m      3\u001B[0m \u001B[1;33m\u001B[0m\u001B[0m\n\u001B[0;32m      4\u001B[0m \u001B[0mtoday_data_merged\u001B[0m \u001B[1;33m=\u001B[0m \u001B[0mpd\u001B[0m\u001B[1;33m.\u001B[0m\u001B[0mmerge\u001B[0m\u001B[1;33m(\u001B[0m\u001B[0mtoday_data\u001B[0m\u001B[1;33m,\u001B[0m \u001B[0mdf\u001B[0m\u001B[1;33m,\u001B[0m \u001B[0mon\u001B[0m\u001B[1;33m=\u001B[0m\u001B[1;34m'Date'\u001B[0m\u001B[1;33m,\u001B[0m \u001B[0mhow\u001B[0m\u001B[1;33m=\u001B[0m\u001B[1;34m'left'\u001B[0m\u001B[1;33m)\u001B[0m\u001B[1;33m\u001B[0m\u001B[1;33m\u001B[0m\u001B[0m\n\u001B[0;32m      5\u001B[0m \u001B[1;33m\u001B[0m\u001B[0m\n",
      "\u001B[1;31mNameError\u001B[0m: name 'pd' is not defined"
     ]
    }
   ],
   "source": [
    "specific_date = '18/12/2023'\n",
    "today_data = pd.DataFrame({'Date': [specific_date]})\n",
    "\n",
    "today_data_merged = pd.merge(today_data, df, on='Date', how='left')\n",
    "\n",
    "# Extract the 'Active' column and scale it\n",
    "today_active = today_data_merged['Active'].values.reshape(-1, 1)\n",
    "today_active_scaled = scaler.transform(today_active)\n",
    "\n",
    "# Convert the input data to float32 (if not already)\n",
    "today_active_scaled = today_active_scaled.astype('float32')\n",
    "\n",
    "# Prepare today's input data\n",
    "today_input = today_active_scaled.reshape(1, today_active_scaled.shape[0], today_active_scaled.shape[1])\n",
    "\n",
    "# Make predictions for today\n",
    "today_prediction_scaled = model.predict(today_input)\n",
    "today_prediction = scaler.inverse_transform(today_prediction_scaled)\n",
    "\n",
    "print(f\"Predicted Active Cases for {specific_date}: {today_prediction[0, 0]}\")\n"
   ],
   "metadata": {
    "collapsed": false,
    "ExecuteTime": {
     "end_time": "2023-12-18T13:30:14.084341300Z",
     "start_time": "2023-12-18T13:30:14.024336400Z"
    }
   },
   "id": "306862c282016aa4"
  },
  {
   "cell_type": "code",
   "execution_count": null,
   "outputs": [],
   "source": [],
   "metadata": {
    "collapsed": false
   },
   "id": "eecdcbc1e7b4396c"
  }
 ],
 "metadata": {
  "kernelspec": {
   "display_name": "Python 3",
   "language": "python",
   "name": "python3"
  },
  "language_info": {
   "codemirror_mode": {
    "name": "ipython",
    "version": 2
   },
   "file_extension": ".py",
   "mimetype": "text/x-python",
   "name": "python",
   "nbconvert_exporter": "python",
   "pygments_lexer": "ipython2",
   "version": "2.7.6"
  }
 },
 "nbformat": 4,
 "nbformat_minor": 5
}
